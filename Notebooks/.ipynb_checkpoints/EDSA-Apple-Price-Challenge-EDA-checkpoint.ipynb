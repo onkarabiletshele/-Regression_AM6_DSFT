{
 "cells": [
  {
   "cell_type": "markdown",
   "metadata": {},
   "source": [
    "# EDSA APPLE PRICES"
   ]
  },
  {
   "cell_type": "markdown",
   "metadata": {},
   "source": [
    "# REGRESSION_AM6_DFST_PREDICT\n",
    "@ Melusi Zwane\n",
    "@ Itumeleng Mabaso\n",
    "@ Onkarabile Tshele\n",
    "@ lydia lehutjo\n",
    "@ Samuel Moloantoa"
   ]
  },
  {
   "cell_type": "markdown",
   "metadata": {},
   "source": [
    "## Objective\n",
    "In this predict we should do the following:\n",
    "\n",
    "- Be able to clean the given data\n",
    "- Be able to intercept the type of graph needed\n",
    "- Be able to create a code to correctly predict the given data"
   ]
  },
  {
   "cell_type": "markdown",
   "metadata": {},
   "source": [
    "# Importing data and plotting"
   ]
  },
  {
   "cell_type": "code",
   "execution_count": 3,
   "metadata": {},
   "outputs": [],
   "source": [
    "import numpy as np\n",
    "import pandas as pd\n",
    "import matplotlib.pyplot as plt\n",
    "from matplotlib import rc\n",
    "import seaborn as sns\n",
    "\n",
    "# Regression models\n",
    "from sklearn.linear_model import LinearRegression\n",
    "\n",
    "# Model slection\n",
    "from sklearn.model_selection import train_test_split\n",
    "\n",
    "# Preprocessing\n",
    "from sklearn.preprocessing import StandardScaler\n",
    "\n",
    "# Metrics\n",
    "from sklearn.metrics import r2_score\n",
    "from sklearn.metrics import mean_squared_error\n",
    "\n",
    "# Visualisations\n",
    "import seaborn as sns\n",
    "import matplotlib.pyplot as plt\n",
    "%matplotlib inline\n",
    "\n",
    "# Other\n",
    "from scipy import stats\n",
    "import math\n",
    "import pickle\n",
    "\n",
    "import warnings\n",
    "warnings.filterwarnings('ignore')"
   ]
  },
  {
   "cell_type": "markdown",
   "metadata": {},
   "source": [
    "we will load the data onto the notebook"
   ]
  },
  {
   "cell_type": "markdown",
   "metadata": {},
   "source": [
    "Challenge Description\n",
    "Imagine you are in the Fresh Produce Industry. How much stock do you have on hand? Not too little that you run out of stock when customers want to buy more. And not too much that food waste occurs. How do you set your prices? Yields from farms fluctuate by season. Should your prices then also fluctuate by season?"
   ]
  },
  {
   "cell_type": "markdown",
   "metadata": {},
   "source": [
    "With this context, EDSA is challenging you to construct a regression algorithm, capable of accurately predicting how much a kilogram of Golden Delicious Apples will cost, given certain parameters."
   ]
  },
  {
   "cell_type": "markdown",
   "metadata": {},
   "source": [
    "Providing an accurate and robust solution to this challenge has immense economic potential, with users of the system being able to accurately determine how much stock to have on hand and what price to set the Golden Delicious Apples to.\n",
    "\n"
   ]
  },
  {
   "cell_type": "code",
   "execution_count": 4,
   "metadata": {},
   "outputs": [],
   "source": [
    "train = pd.read_csv('https://raw.githubusercontent.com/onkarabiletshele/Regression_AM6_DSFT/main/Data/df-train_set.csv')"
   ]
  },
  {
   "cell_type": "code",
   "execution_count": 5,
   "metadata": {},
   "outputs": [],
   "source": [
    "test = pd.read_csv('https://raw.githubusercontent.com/onkarabiletshele/Regression_AM6_DSFT/main/Data/df-test_set.csv')"
   ]
  },
  {
   "cell_type": "code",
   "execution_count": 6,
   "metadata": {},
   "outputs": [],
   "source": [
    "sample_submission = pd.read_csv('https://raw.githubusercontent.com/onkarabiletshele/Regression_AM6_DSFT/main/Data/sample_submission.csv')"
   ]
  },
  {
   "cell_type": "code",
   "execution_count": 7,
   "metadata": {
    "scrolled": true
   },
   "outputs": [
    {
     "output_type": "execute_result",
     "data": {
      "text/plain": [
       "            Province Container Size_Grade  Weight_Kg             Commodities  \\\n",
       "0               CAPE     EC120         1L       12.0      APPLE GRANNY SMITH   \n",
       "1               CAPE     M4183         1L       18.3  APPLE GOLDEN DELICIOUS   \n",
       "2            GAUTENG     AT200         1L       20.0       AVOCADO PINKERTON   \n",
       "3          TRANSVAAL     BJ090         1L        9.0      TOMATOES-LONG LIFE   \n",
       "4  WESTERN FREESTATE     PP100         1R       10.0   POTATO SIFRA (WASHED)   \n",
       "\n",
       "         Date  Low_Price  High_Price  Sales_Total  Total_Qty_Sold  \\\n",
       "0  2020-03-10      108.0       112.0       3236.0              29   \n",
       "1  2020-09-09      150.0       170.0      51710.0             332   \n",
       "2  2020-05-05       70.0        80.0       4860.0              66   \n",
       "3  2020-01-20       60.0        60.0        600.0              10   \n",
       "4  2020-07-14       40.0        45.0      41530.0             927   \n",
       "\n",
       "   Total_Kg_Sold  Stock_On_Hand  avg_price_per_kg  \n",
       "0          348.0              0              9.30  \n",
       "1         6075.6            822              8.51  \n",
       "2         1320.0             50              3.68  \n",
       "3           90.0              0              6.67  \n",
       "4         9270.0            393              4.48  "
      ],
      "text/html": "<div>\n<style scoped>\n    .dataframe tbody tr th:only-of-type {\n        vertical-align: middle;\n    }\n\n    .dataframe tbody tr th {\n        vertical-align: top;\n    }\n\n    .dataframe thead th {\n        text-align: right;\n    }\n</style>\n<table border=\"1\" class=\"dataframe\">\n  <thead>\n    <tr style=\"text-align: right;\">\n      <th></th>\n      <th>Province</th>\n      <th>Container</th>\n      <th>Size_Grade</th>\n      <th>Weight_Kg</th>\n      <th>Commodities</th>\n      <th>Date</th>\n      <th>Low_Price</th>\n      <th>High_Price</th>\n      <th>Sales_Total</th>\n      <th>Total_Qty_Sold</th>\n      <th>Total_Kg_Sold</th>\n      <th>Stock_On_Hand</th>\n      <th>avg_price_per_kg</th>\n    </tr>\n  </thead>\n  <tbody>\n    <tr>\n      <th>0</th>\n      <td>CAPE</td>\n      <td>EC120</td>\n      <td>1L</td>\n      <td>12.0</td>\n      <td>APPLE GRANNY SMITH</td>\n      <td>2020-03-10</td>\n      <td>108.0</td>\n      <td>112.0</td>\n      <td>3236.0</td>\n      <td>29</td>\n      <td>348.0</td>\n      <td>0</td>\n      <td>9.30</td>\n    </tr>\n    <tr>\n      <th>1</th>\n      <td>CAPE</td>\n      <td>M4183</td>\n      <td>1L</td>\n      <td>18.3</td>\n      <td>APPLE GOLDEN DELICIOUS</td>\n      <td>2020-09-09</td>\n      <td>150.0</td>\n      <td>170.0</td>\n      <td>51710.0</td>\n      <td>332</td>\n      <td>6075.6</td>\n      <td>822</td>\n      <td>8.51</td>\n    </tr>\n    <tr>\n      <th>2</th>\n      <td>GAUTENG</td>\n      <td>AT200</td>\n      <td>1L</td>\n      <td>20.0</td>\n      <td>AVOCADO PINKERTON</td>\n      <td>2020-05-05</td>\n      <td>70.0</td>\n      <td>80.0</td>\n      <td>4860.0</td>\n      <td>66</td>\n      <td>1320.0</td>\n      <td>50</td>\n      <td>3.68</td>\n    </tr>\n    <tr>\n      <th>3</th>\n      <td>TRANSVAAL</td>\n      <td>BJ090</td>\n      <td>1L</td>\n      <td>9.0</td>\n      <td>TOMATOES-LONG LIFE</td>\n      <td>2020-01-20</td>\n      <td>60.0</td>\n      <td>60.0</td>\n      <td>600.0</td>\n      <td>10</td>\n      <td>90.0</td>\n      <td>0</td>\n      <td>6.67</td>\n    </tr>\n    <tr>\n      <th>4</th>\n      <td>WESTERN FREESTATE</td>\n      <td>PP100</td>\n      <td>1R</td>\n      <td>10.0</td>\n      <td>POTATO SIFRA (WASHED)</td>\n      <td>2020-07-14</td>\n      <td>40.0</td>\n      <td>45.0</td>\n      <td>41530.0</td>\n      <td>927</td>\n      <td>9270.0</td>\n      <td>393</td>\n      <td>4.48</td>\n    </tr>\n  </tbody>\n</table>\n</div>"
     },
     "metadata": {},
     "execution_count": 7
    }
   ],
   "source": [
    "# will show the first few data\n",
    "train.head()"
   ]
  },
  {
   "cell_type": "code",
   "execution_count": 8,
   "metadata": {},
   "outputs": [
    {
     "output_type": "execute_result",
     "data": {
      "text/plain": [
       "   Index              Province Container Size_Grade  Weight_Kg  \\\n",
       "0      1  W.CAPE-BERGRIVER ETC     EC120         1M       12.0   \n",
       "1      2  W.CAPE-BERGRIVER ETC     M4183         1X       18.3   \n",
       "2      3  W.CAPE-BERGRIVER ETC     EC120         1S       12.0   \n",
       "3      4  W.CAPE-BERGRIVER ETC     M4183         1M       18.3   \n",
       "4      5  W.CAPE-BERGRIVER ETC     M4183         1L       18.3   \n",
       "\n",
       "              Commodities        Date  Low_Price  High_Price  Sales_Total  \\\n",
       "0  APPLE GOLDEN DELICIOUS  2020-07-09      128.0       136.0       5008.0   \n",
       "1  APPLE GOLDEN DELICIOUS  2020-01-20      220.0       220.0       1760.0   \n",
       "2  APPLE GOLDEN DELICIOUS  2020-08-19      120.0       120.0        720.0   \n",
       "3  APPLE GOLDEN DELICIOUS  2020-05-06      160.0       160.0        160.0   \n",
       "4  APPLE GOLDEN DELICIOUS  2020-05-04      140.0       160.0      14140.0   \n",
       "\n",
       "   Total_Qty_Sold  Total_Kg_Sold  Stock_On_Hand  \n",
       "0              38          456.0              0  \n",
       "1               8          146.4              2  \n",
       "2               6           72.0             45  \n",
       "3               1           18.3              8  \n",
       "4             100         1830.0             19  "
      ],
      "text/html": "<div>\n<style scoped>\n    .dataframe tbody tr th:only-of-type {\n        vertical-align: middle;\n    }\n\n    .dataframe tbody tr th {\n        vertical-align: top;\n    }\n\n    .dataframe thead th {\n        text-align: right;\n    }\n</style>\n<table border=\"1\" class=\"dataframe\">\n  <thead>\n    <tr style=\"text-align: right;\">\n      <th></th>\n      <th>Index</th>\n      <th>Province</th>\n      <th>Container</th>\n      <th>Size_Grade</th>\n      <th>Weight_Kg</th>\n      <th>Commodities</th>\n      <th>Date</th>\n      <th>Low_Price</th>\n      <th>High_Price</th>\n      <th>Sales_Total</th>\n      <th>Total_Qty_Sold</th>\n      <th>Total_Kg_Sold</th>\n      <th>Stock_On_Hand</th>\n    </tr>\n  </thead>\n  <tbody>\n    <tr>\n      <th>0</th>\n      <td>1</td>\n      <td>W.CAPE-BERGRIVER ETC</td>\n      <td>EC120</td>\n      <td>1M</td>\n      <td>12.0</td>\n      <td>APPLE GOLDEN DELICIOUS</td>\n      <td>2020-07-09</td>\n      <td>128.0</td>\n      <td>136.0</td>\n      <td>5008.0</td>\n      <td>38</td>\n      <td>456.0</td>\n      <td>0</td>\n    </tr>\n    <tr>\n      <th>1</th>\n      <td>2</td>\n      <td>W.CAPE-BERGRIVER ETC</td>\n      <td>M4183</td>\n      <td>1X</td>\n      <td>18.3</td>\n      <td>APPLE GOLDEN DELICIOUS</td>\n      <td>2020-01-20</td>\n      <td>220.0</td>\n      <td>220.0</td>\n      <td>1760.0</td>\n      <td>8</td>\n      <td>146.4</td>\n      <td>2</td>\n    </tr>\n    <tr>\n      <th>2</th>\n      <td>3</td>\n      <td>W.CAPE-BERGRIVER ETC</td>\n      <td>EC120</td>\n      <td>1S</td>\n      <td>12.0</td>\n      <td>APPLE GOLDEN DELICIOUS</td>\n      <td>2020-08-19</td>\n      <td>120.0</td>\n      <td>120.0</td>\n      <td>720.0</td>\n      <td>6</td>\n      <td>72.0</td>\n      <td>45</td>\n    </tr>\n    <tr>\n      <th>3</th>\n      <td>4</td>\n      <td>W.CAPE-BERGRIVER ETC</td>\n      <td>M4183</td>\n      <td>1M</td>\n      <td>18.3</td>\n      <td>APPLE GOLDEN DELICIOUS</td>\n      <td>2020-05-06</td>\n      <td>160.0</td>\n      <td>160.0</td>\n      <td>160.0</td>\n      <td>1</td>\n      <td>18.3</td>\n      <td>8</td>\n    </tr>\n    <tr>\n      <th>4</th>\n      <td>5</td>\n      <td>W.CAPE-BERGRIVER ETC</td>\n      <td>M4183</td>\n      <td>1L</td>\n      <td>18.3</td>\n      <td>APPLE GOLDEN DELICIOUS</td>\n      <td>2020-05-04</td>\n      <td>140.0</td>\n      <td>160.0</td>\n      <td>14140.0</td>\n      <td>100</td>\n      <td>1830.0</td>\n      <td>19</td>\n    </tr>\n  </tbody>\n</table>\n</div>"
     },
     "metadata": {},
     "execution_count": 8
    }
   ],
   "source": [
    "test.head()"
   ]
  },
  {
   "cell_type": "code",
   "execution_count": 9,
   "metadata": {},
   "outputs": [
    {
     "output_type": "execute_result",
     "data": {
      "text/plain": [
       "Province            0\n",
       "Container           0\n",
       "Size_Grade          0\n",
       "Weight_Kg           0\n",
       "Commodities         0\n",
       "Date                0\n",
       "Low_Price           0\n",
       "High_Price          0\n",
       "Sales_Total         0\n",
       "Total_Qty_Sold      0\n",
       "Total_Kg_Sold       0\n",
       "Stock_On_Hand       0\n",
       "avg_price_per_kg    0\n",
       "dtype: int64"
      ]
     },
     "metadata": {},
     "execution_count": 9
    }
   ],
   "source": [
    "train.isnull().sum()"
   ]
  },
  {
   "cell_type": "code",
   "execution_count": 10,
   "metadata": {},
   "outputs": [
    {
     "output_type": "execute_result",
     "data": {
      "text/plain": [
       "Index             0\n",
       "Province          0\n",
       "Container         0\n",
       "Size_Grade        0\n",
       "Weight_Kg         0\n",
       "Commodities       0\n",
       "Date              0\n",
       "Low_Price         0\n",
       "High_Price        0\n",
       "Sales_Total       0\n",
       "Total_Qty_Sold    0\n",
       "Total_Kg_Sold     0\n",
       "Stock_On_Hand     0\n",
       "dtype: int64"
      ]
     },
     "metadata": {},
     "execution_count": 10
    }
   ],
   "source": [
    "test.isnull().sum()"
   ]
  },
  {
   "cell_type": "code",
   "execution_count": 11,
   "metadata": {},
   "outputs": [
    {
     "output_type": "execute_result",
     "data": {
      "text/plain": [
       "          Weight_Kg     Low_Price    High_Price   Sales_Total  Total_Qty_Sold  \\\n",
       "count  64376.000000  64376.000000  64376.000000  6.437600e+04    64376.000000   \n",
       "mean      12.781592     75.651938     89.607858  1.939501e+04      446.104402   \n",
       "std       35.943052    159.508144    172.223177  4.442192e+04     1184.169758   \n",
       "min        0.120000      1.000000      1.000000 -5.770000e+04     -595.000000   \n",
       "25%        7.000000     30.000000     35.000000  1.154000e+03       20.000000   \n",
       "50%       10.000000     46.000000     55.000000  5.400000e+03      107.000000   \n",
       "75%       11.000000     80.000000    100.000000  1.877200e+04      390.000000   \n",
       "max      500.000000   4400.000000   4400.000000  1.134701e+06    39453.000000   \n",
       "\n",
       "       Total_Kg_Sold  Stock_On_Hand  avg_price_per_kg  \n",
       "count   64376.000000   64376.000000          64376.00  \n",
       "mean     3336.641295     477.646328               NaN  \n",
       "std      7682.295441    1453.892091               NaN  \n",
       "min     -5040.000000    -512.000000              -inf  \n",
       "25%       175.000000       0.000000              4.02  \n",
       "50%       940.000000      76.000000              6.00  \n",
       "75%      3250.000000     381.000000              8.67  \n",
       "max    192230.000000   93193.000000               inf  "
      ],
      "text/html": "<div>\n<style scoped>\n    .dataframe tbody tr th:only-of-type {\n        vertical-align: middle;\n    }\n\n    .dataframe tbody tr th {\n        vertical-align: top;\n    }\n\n    .dataframe thead th {\n        text-align: right;\n    }\n</style>\n<table border=\"1\" class=\"dataframe\">\n  <thead>\n    <tr style=\"text-align: right;\">\n      <th></th>\n      <th>Weight_Kg</th>\n      <th>Low_Price</th>\n      <th>High_Price</th>\n      <th>Sales_Total</th>\n      <th>Total_Qty_Sold</th>\n      <th>Total_Kg_Sold</th>\n      <th>Stock_On_Hand</th>\n      <th>avg_price_per_kg</th>\n    </tr>\n  </thead>\n  <tbody>\n    <tr>\n      <th>count</th>\n      <td>64376.000000</td>\n      <td>64376.000000</td>\n      <td>64376.000000</td>\n      <td>6.437600e+04</td>\n      <td>64376.000000</td>\n      <td>64376.000000</td>\n      <td>64376.000000</td>\n      <td>64376.00</td>\n    </tr>\n    <tr>\n      <th>mean</th>\n      <td>12.781592</td>\n      <td>75.651938</td>\n      <td>89.607858</td>\n      <td>1.939501e+04</td>\n      <td>446.104402</td>\n      <td>3336.641295</td>\n      <td>477.646328</td>\n      <td>NaN</td>\n    </tr>\n    <tr>\n      <th>std</th>\n      <td>35.943052</td>\n      <td>159.508144</td>\n      <td>172.223177</td>\n      <td>4.442192e+04</td>\n      <td>1184.169758</td>\n      <td>7682.295441</td>\n      <td>1453.892091</td>\n      <td>NaN</td>\n    </tr>\n    <tr>\n      <th>min</th>\n      <td>0.120000</td>\n      <td>1.000000</td>\n      <td>1.000000</td>\n      <td>-5.770000e+04</td>\n      <td>-595.000000</td>\n      <td>-5040.000000</td>\n      <td>-512.000000</td>\n      <td>-inf</td>\n    </tr>\n    <tr>\n      <th>25%</th>\n      <td>7.000000</td>\n      <td>30.000000</td>\n      <td>35.000000</td>\n      <td>1.154000e+03</td>\n      <td>20.000000</td>\n      <td>175.000000</td>\n      <td>0.000000</td>\n      <td>4.02</td>\n    </tr>\n    <tr>\n      <th>50%</th>\n      <td>10.000000</td>\n      <td>46.000000</td>\n      <td>55.000000</td>\n      <td>5.400000e+03</td>\n      <td>107.000000</td>\n      <td>940.000000</td>\n      <td>76.000000</td>\n      <td>6.00</td>\n    </tr>\n    <tr>\n      <th>75%</th>\n      <td>11.000000</td>\n      <td>80.000000</td>\n      <td>100.000000</td>\n      <td>1.877200e+04</td>\n      <td>390.000000</td>\n      <td>3250.000000</td>\n      <td>381.000000</td>\n      <td>8.67</td>\n    </tr>\n    <tr>\n      <th>max</th>\n      <td>500.000000</td>\n      <td>4400.000000</td>\n      <td>4400.000000</td>\n      <td>1.134701e+06</td>\n      <td>39453.000000</td>\n      <td>192230.000000</td>\n      <td>93193.000000</td>\n      <td>inf</td>\n    </tr>\n  </tbody>\n</table>\n</div>"
     },
     "metadata": {},
     "execution_count": 11
    }
   ],
   "source": [
    "train.describe()"
   ]
  },
  {
   "cell_type": "code",
   "execution_count": 12,
   "metadata": {},
   "outputs": [
    {
     "output_type": "execute_result",
     "data": {
      "text/plain": [
       "            Index   Weight_Kg    Low_Price   High_Price    Sales_Total  \\\n",
       "count  685.000000  685.000000   685.000000   685.000000     685.000000   \n",
       "mean   343.000000   34.142482   164.202891   195.590073   18788.111212   \n",
       "std    197.886752   87.575995   355.167319   389.109476   33951.586813   \n",
       "min      1.000000    3.000000    10.000000    10.000000      10.000000   \n",
       "25%    172.000000    9.000000    50.000000    64.000000    1300.000000   \n",
       "50%    343.000000   12.000000    80.000000   112.000000    5520.000000   \n",
       "75%    514.000000   18.300000   128.000000   160.000000   21176.000000   \n",
       "max    685.000000  400.000000  2400.000000  2400.000000  308010.000000   \n",
       "\n",
       "       Total_Qty_Sold  Total_Kg_Sold  Stock_On_Hand  \n",
       "count      685.000000     685.000000     685.000000  \n",
       "mean       174.883212    2725.402336     439.245255  \n",
       "std        299.351142    5059.123311     715.985761  \n",
       "min          1.000000       6.300000       0.000000  \n",
       "25%         13.000000     204.000000      20.000000  \n",
       "50%         62.000000     860.100000     153.000000  \n",
       "75%        200.000000    3033.000000     516.000000  \n",
       "max       2774.000000   47200.000000    6827.000000  "
      ],
      "text/html": "<div>\n<style scoped>\n    .dataframe tbody tr th:only-of-type {\n        vertical-align: middle;\n    }\n\n    .dataframe tbody tr th {\n        vertical-align: top;\n    }\n\n    .dataframe thead th {\n        text-align: right;\n    }\n</style>\n<table border=\"1\" class=\"dataframe\">\n  <thead>\n    <tr style=\"text-align: right;\">\n      <th></th>\n      <th>Index</th>\n      <th>Weight_Kg</th>\n      <th>Low_Price</th>\n      <th>High_Price</th>\n      <th>Sales_Total</th>\n      <th>Total_Qty_Sold</th>\n      <th>Total_Kg_Sold</th>\n      <th>Stock_On_Hand</th>\n    </tr>\n  </thead>\n  <tbody>\n    <tr>\n      <th>count</th>\n      <td>685.000000</td>\n      <td>685.000000</td>\n      <td>685.000000</td>\n      <td>685.000000</td>\n      <td>685.000000</td>\n      <td>685.000000</td>\n      <td>685.000000</td>\n      <td>685.000000</td>\n    </tr>\n    <tr>\n      <th>mean</th>\n      <td>343.000000</td>\n      <td>34.142482</td>\n      <td>164.202891</td>\n      <td>195.590073</td>\n      <td>18788.111212</td>\n      <td>174.883212</td>\n      <td>2725.402336</td>\n      <td>439.245255</td>\n    </tr>\n    <tr>\n      <th>std</th>\n      <td>197.886752</td>\n      <td>87.575995</td>\n      <td>355.167319</td>\n      <td>389.109476</td>\n      <td>33951.586813</td>\n      <td>299.351142</td>\n      <td>5059.123311</td>\n      <td>715.985761</td>\n    </tr>\n    <tr>\n      <th>min</th>\n      <td>1.000000</td>\n      <td>3.000000</td>\n      <td>10.000000</td>\n      <td>10.000000</td>\n      <td>10.000000</td>\n      <td>1.000000</td>\n      <td>6.300000</td>\n      <td>0.000000</td>\n    </tr>\n    <tr>\n      <th>25%</th>\n      <td>172.000000</td>\n      <td>9.000000</td>\n      <td>50.000000</td>\n      <td>64.000000</td>\n      <td>1300.000000</td>\n      <td>13.000000</td>\n      <td>204.000000</td>\n      <td>20.000000</td>\n    </tr>\n    <tr>\n      <th>50%</th>\n      <td>343.000000</td>\n      <td>12.000000</td>\n      <td>80.000000</td>\n      <td>112.000000</td>\n      <td>5520.000000</td>\n      <td>62.000000</td>\n      <td>860.100000</td>\n      <td>153.000000</td>\n    </tr>\n    <tr>\n      <th>75%</th>\n      <td>514.000000</td>\n      <td>18.300000</td>\n      <td>128.000000</td>\n      <td>160.000000</td>\n      <td>21176.000000</td>\n      <td>200.000000</td>\n      <td>3033.000000</td>\n      <td>516.000000</td>\n    </tr>\n    <tr>\n      <th>max</th>\n      <td>685.000000</td>\n      <td>400.000000</td>\n      <td>2400.000000</td>\n      <td>2400.000000</td>\n      <td>308010.000000</td>\n      <td>2774.000000</td>\n      <td>47200.000000</td>\n      <td>6827.000000</td>\n    </tr>\n  </tbody>\n</table>\n</div>"
     },
     "metadata": {},
     "execution_count": 12
    }
   ],
   "source": [
    "test.describe()"
   ]
  },
  {
   "cell_type": "code",
   "execution_count": 13,
   "metadata": {},
   "outputs": [
    {
     "output_type": "stream",
     "name": "stdout",
     "text": [
      "<class 'pandas.core.frame.DataFrame'>\nRangeIndex: 64376 entries, 0 to 64375\nData columns (total 13 columns):\n #   Column            Non-Null Count  Dtype  \n---  ------            --------------  -----  \n 0   Province          64376 non-null  object \n 1   Container         64376 non-null  object \n 2   Size_Grade        64376 non-null  object \n 3   Weight_Kg         64376 non-null  float64\n 4   Commodities       64376 non-null  object \n 5   Date              64376 non-null  object \n 6   Low_Price         64376 non-null  float64\n 7   High_Price        64376 non-null  float64\n 8   Sales_Total       64376 non-null  float64\n 9   Total_Qty_Sold    64376 non-null  int64  \n 10  Total_Kg_Sold     64376 non-null  float64\n 11  Stock_On_Hand     64376 non-null  int64  \n 12  avg_price_per_kg  64376 non-null  float64\ndtypes: float64(6), int64(2), object(5)\nmemory usage: 6.4+ MB\n"
     ]
    }
   ],
   "source": [
    "train.info()"
   ]
  },
  {
   "cell_type": "code",
   "execution_count": 14,
   "metadata": {},
   "outputs": [
    {
     "output_type": "stream",
     "name": "stdout",
     "text": [
      "<class 'pandas.core.frame.DataFrame'>\nRangeIndex: 685 entries, 0 to 684\nData columns (total 13 columns):\n #   Column          Non-Null Count  Dtype  \n---  ------          --------------  -----  \n 0   Index           685 non-null    int64  \n 1   Province        685 non-null    object \n 2   Container       685 non-null    object \n 3   Size_Grade      685 non-null    object \n 4   Weight_Kg       685 non-null    float64\n 5   Commodities     685 non-null    object \n 6   Date            685 non-null    object \n 7   Low_Price       685 non-null    float64\n 8   High_Price      685 non-null    float64\n 9   Sales_Total     685 non-null    float64\n 10  Total_Qty_Sold  685 non-null    int64  \n 11  Total_Kg_Sold   685 non-null    float64\n 12  Stock_On_Hand   685 non-null    int64  \ndtypes: float64(5), int64(3), object(5)\nmemory usage: 69.7+ KB\n"
     ]
    }
   ],
   "source": [
    "test.info()"
   ]
  },
  {
   "cell_type": "code",
   "execution_count": 15,
   "metadata": {},
   "outputs": [
    {
     "output_type": "execute_result",
     "data": {
      "text/plain": [
       "array(['CAPE', 'GAUTENG', 'TRANSVAAL', 'WESTERN FREESTATE', 'NATAL',\n",
       "       'KWAZULU NATAL', 'IMPORTS - OUTSIDE RSA', 'OTHER AREAS',\n",
       "       'NORTHERN CAPE', 'W.CAPE-BERGRIVER ETC',\n",
       "       'SOUTH WESTERN FREE STATE', 'EASTERN FREESTATE', 'WEST COAST',\n",
       "       'WESTERN CAPE - CERES', 'NORTH EASTERN CAPE', 'EASTERN CAPE',\n",
       "       'ORANGE FREE STATE', 'MPUMALANGA', 'NORTH WEST',\n",
       "       'MPUMALANGA MIDVELD', 'NAMIBIA', 'SOUTHERN CAPE'], dtype=object)"
      ]
     },
     "metadata": {},
     "execution_count": 15
    }
   ],
   "source": [
    "train['Province'].unique()"
   ]
  },
  {
   "cell_type": "code",
   "execution_count": 16,
   "metadata": {},
   "outputs": [],
   "source": [
    "# missing values\n",
    "def missing_values_table(df):\n",
    "        mis_val = df.isnull().sum()\n",
    "        \n",
    "        mis_val_percent = 100 * df.isnull().sum() / len(df)\n",
    "        \n",
    "        mis_val_table = pd.concat([mis_val, mis_val_percent], axis=1)\n",
    "        \n",
    "        mis_val_table_ren_columns = mis_val_table.rename(\n",
    "        columns = {0 : 'Missing Values', 1 : '% of Total Values'})\n",
    "        \n",
    "        mis_val_table_ren_columns = mis_val_table_ren_columns[\n",
    "            mis_val_table_ren_columns.iloc[:,1] != 0].sort_values(\n",
    "        '% of Total Values', ascending=False).round(1)\n",
    "        \n",
    "        print (\"Your selected dataframe has \" + str(df.shape[1]) + \" columns.\\n\"      \n",
    "            \"There are \" + str(mis_val_table_ren_columns.shape[0]) +\n",
    "              \" columns that have missing values.\")\n",
    "        \n",
    "        # Return the dataframe with missing information\n",
    "        return mis_val_table_ren_columns"
   ]
  },
  {
   "cell_type": "code",
   "execution_count": 17,
   "metadata": {},
   "outputs": [
    {
     "output_type": "stream",
     "name": "stdout",
     "text": [
      "Your selected dataframe has 13 columns.\nThere are 0 columns that have missing values.\n"
     ]
    },
    {
     "output_type": "execute_result",
     "data": {
      "text/plain": [
       "Empty DataFrame\n",
       "Columns: [Missing Values, % of Total Values]\n",
       "Index: []"
      ],
      "text/html": "<div>\n<style scoped>\n    .dataframe tbody tr th:only-of-type {\n        vertical-align: middle;\n    }\n\n    .dataframe tbody tr th {\n        vertical-align: top;\n    }\n\n    .dataframe thead th {\n        text-align: right;\n    }\n</style>\n<table border=\"1\" class=\"dataframe\">\n  <thead>\n    <tr style=\"text-align: right;\">\n      <th></th>\n      <th>Missing Values</th>\n      <th>% of Total Values</th>\n    </tr>\n  </thead>\n  <tbody>\n  </tbody>\n</table>\n</div>"
     },
     "metadata": {},
     "execution_count": 17
    }
   ],
   "source": [
    "missing_values_table(train)"
   ]
  },
  {
   "cell_type": "code",
   "execution_count": 18,
   "metadata": {},
   "outputs": [],
   "source": [
    "train.replace([np.inf, -np.inf], np.nan, inplace=True)"
   ]
  },
  {
   "cell_type": "code",
   "execution_count": 32,
   "metadata": {},
   "outputs": [],
   "source": [
    "m = train['avg_price_per_kg'].mean()"
   ]
  },
  {
   "cell_type": "code",
   "execution_count": 33,
   "metadata": {},
   "outputs": [
    {
     "output_type": "execute_result",
     "data": {
      "text/plain": [
       "0         9.30\n",
       "1         8.51\n",
       "2         3.68\n",
       "3         6.67\n",
       "4         4.48\n",
       "         ...  \n",
       "64371     7.01\n",
       "64372    10.46\n",
       "64373     5.71\n",
       "64374     6.04\n",
       "64375     8.20\n",
       "Name: avg_price_per_kg, Length: 64376, dtype: float64"
      ]
     },
     "metadata": {},
     "execution_count": 33
    }
   ],
   "source": [
    "train['avg_price_per_kg']"
   ]
  },
  {
   "cell_type": "code",
   "execution_count": 34,
   "metadata": {},
   "outputs": [
    {
     "output_type": "execute_result",
     "data": {
      "text/plain": [
       "Province             object\n",
       "Container            object\n",
       "Size_Grade           object\n",
       "Weight_Kg           float64\n",
       "Commodities          object\n",
       "Date                 object\n",
       "Low_Price           float64\n",
       "High_Price          float64\n",
       "Sales_Total         float64\n",
       "Total_Qty_Sold        int64\n",
       "Total_Kg_Sold       float64\n",
       "Stock_On_Hand         int64\n",
       "avg_price_per_kg    float64\n",
       "dtype: object"
      ]
     },
     "metadata": {},
     "execution_count": 34
    }
   ],
   "source": [
    "train.dtypes"
   ]
  },
  {
   "cell_type": "code",
   "execution_count": 35,
   "metadata": {},
   "outputs": [
    {
     "output_type": "execute_result",
     "data": {
      "text/plain": [
       "                  Weight_Kg  Low_Price  High_Price  Sales_Total  \\\n",
       "Weight_Kg          1.000000   0.832214    0.846184     0.007710   \n",
       "Low_Price          0.832214   1.000000    0.962504    -0.006438   \n",
       "High_Price         0.846184   0.962504    1.000000     0.029433   \n",
       "Sales_Total        0.007710  -0.006438    0.029433     1.000000   \n",
       "Total_Qty_Sold    -0.055573  -0.093333   -0.082580     0.750116   \n",
       "Total_Kg_Sold      0.032639  -0.031281   -0.000889     0.920337   \n",
       "Stock_On_Hand     -0.039879  -0.062260   -0.046742     0.265030   \n",
       "avg_price_per_kg  -0.054991   0.124585    0.123440    -0.000303   \n",
       "\n",
       "                  Total_Qty_Sold  Total_Kg_Sold  Stock_On_Hand  \\\n",
       "Weight_Kg              -0.055573       0.032639      -0.039879   \n",
       "Low_Price              -0.093333      -0.031281      -0.062260   \n",
       "High_Price             -0.082580      -0.000889      -0.046742   \n",
       "Sales_Total             0.750116       0.920337       0.265030   \n",
       "Total_Qty_Sold          1.000000       0.735714       0.347718   \n",
       "Total_Kg_Sold           0.735714       1.000000       0.236541   \n",
       "Stock_On_Hand           0.347718       0.236541       1.000000   \n",
       "avg_price_per_kg       -0.037589      -0.077350      -0.025811   \n",
       "\n",
       "                  avg_price_per_kg  \n",
       "Weight_Kg                -0.054991  \n",
       "Low_Price                 0.124585  \n",
       "High_Price                0.123440  \n",
       "Sales_Total              -0.000303  \n",
       "Total_Qty_Sold           -0.037589  \n",
       "Total_Kg_Sold            -0.077350  \n",
       "Stock_On_Hand            -0.025811  \n",
       "avg_price_per_kg          1.000000  "
      ],
      "text/html": "<div>\n<style scoped>\n    .dataframe tbody tr th:only-of-type {\n        vertical-align: middle;\n    }\n\n    .dataframe tbody tr th {\n        vertical-align: top;\n    }\n\n    .dataframe thead th {\n        text-align: right;\n    }\n</style>\n<table border=\"1\" class=\"dataframe\">\n  <thead>\n    <tr style=\"text-align: right;\">\n      <th></th>\n      <th>Weight_Kg</th>\n      <th>Low_Price</th>\n      <th>High_Price</th>\n      <th>Sales_Total</th>\n      <th>Total_Qty_Sold</th>\n      <th>Total_Kg_Sold</th>\n      <th>Stock_On_Hand</th>\n      <th>avg_price_per_kg</th>\n    </tr>\n  </thead>\n  <tbody>\n    <tr>\n      <th>Weight_Kg</th>\n      <td>1.000000</td>\n      <td>0.832214</td>\n      <td>0.846184</td>\n      <td>0.007710</td>\n      <td>-0.055573</td>\n      <td>0.032639</td>\n      <td>-0.039879</td>\n      <td>-0.054991</td>\n    </tr>\n    <tr>\n      <th>Low_Price</th>\n      <td>0.832214</td>\n      <td>1.000000</td>\n      <td>0.962504</td>\n      <td>-0.006438</td>\n      <td>-0.093333</td>\n      <td>-0.031281</td>\n      <td>-0.062260</td>\n      <td>0.124585</td>\n    </tr>\n    <tr>\n      <th>High_Price</th>\n      <td>0.846184</td>\n      <td>0.962504</td>\n      <td>1.000000</td>\n      <td>0.029433</td>\n      <td>-0.082580</td>\n      <td>-0.000889</td>\n      <td>-0.046742</td>\n      <td>0.123440</td>\n    </tr>\n    <tr>\n      <th>Sales_Total</th>\n      <td>0.007710</td>\n      <td>-0.006438</td>\n      <td>0.029433</td>\n      <td>1.000000</td>\n      <td>0.750116</td>\n      <td>0.920337</td>\n      <td>0.265030</td>\n      <td>-0.000303</td>\n    </tr>\n    <tr>\n      <th>Total_Qty_Sold</th>\n      <td>-0.055573</td>\n      <td>-0.093333</td>\n      <td>-0.082580</td>\n      <td>0.750116</td>\n      <td>1.000000</td>\n      <td>0.735714</td>\n      <td>0.347718</td>\n      <td>-0.037589</td>\n    </tr>\n    <tr>\n      <th>Total_Kg_Sold</th>\n      <td>0.032639</td>\n      <td>-0.031281</td>\n      <td>-0.000889</td>\n      <td>0.920337</td>\n      <td>0.735714</td>\n      <td>1.000000</td>\n      <td>0.236541</td>\n      <td>-0.077350</td>\n    </tr>\n    <tr>\n      <th>Stock_On_Hand</th>\n      <td>-0.039879</td>\n      <td>-0.062260</td>\n      <td>-0.046742</td>\n      <td>0.265030</td>\n      <td>0.347718</td>\n      <td>0.236541</td>\n      <td>1.000000</td>\n      <td>-0.025811</td>\n    </tr>\n    <tr>\n      <th>avg_price_per_kg</th>\n      <td>-0.054991</td>\n      <td>0.124585</td>\n      <td>0.123440</td>\n      <td>-0.000303</td>\n      <td>-0.037589</td>\n      <td>-0.077350</td>\n      <td>-0.025811</td>\n      <td>1.000000</td>\n    </tr>\n  </tbody>\n</table>\n</div>"
     },
     "metadata": {},
     "execution_count": 35
    }
   ],
   "source": [
    "train.corr()"
   ]
  },
  {
   "cell_type": "code",
   "execution_count": 36,
   "metadata": {},
   "outputs": [
    {
     "output_type": "execute_result",
     "data": {
      "text/plain": [
       "Index(['Province', 'Container', 'Size_Grade', 'Weight_Kg', 'Commodities',\n",
       "       'Date', 'Low_Price', 'High_Price', 'Sales_Total', 'Total_Qty_Sold',\n",
       "       'Total_Kg_Sold', 'Stock_On_Hand', 'avg_price_per_kg'],\n",
       "      dtype='object')"
      ]
     },
     "metadata": {},
     "execution_count": 36
    }
   ],
   "source": [
    "train.columns"
   ]
  },
  {
   "source": [
    "g = sns.pairplot(train[['Weight_Kg', 'Low_Price', 'High_Price', 'Sales_Total', \n",
    "                           'Total_Qty_Sold', 'Total_Kg_Sold', 'Stock_On_Hand', 'avg_price_per_kg', 'Commodities']], hue='Commodities')"
   ],
   "cell_type": "markdown",
   "metadata": {
    "tags": []
   }
  },
  {
   "cell_type": "code",
   "execution_count": 20,
   "metadata": {},
   "outputs": [
    {
     "output_type": "execute_result",
     "data": {
      "text/plain": [
       "                   Province Container Size_Grade  Weight_Kg  \\\n",
       "1                      CAPE     M4183         1L       18.3   \n",
       "7                      CAPE     JG110         2M       11.0   \n",
       "24     W.CAPE-BERGRIVER ETC     JE090         2S        9.0   \n",
       "40                     CAPE     M4183         1S       18.3   \n",
       "69             EASTERN CAPE     IA400         1S      400.0   \n",
       "...                     ...       ...        ...        ...   \n",
       "64276                 NATAL     EC120         1S       12.0   \n",
       "64291     ORANGE FREE STATE     M4183         1X       18.3   \n",
       "64297                  CAPE     JE090         2M        9.0   \n",
       "64304                  CAPE     JG110         2M       11.0   \n",
       "64310  W.CAPE-BERGRIVER ETC     EC120         1M       12.0   \n",
       "\n",
       "                  Commodities        Date  Low_Price  High_Price  Sales_Total  \\\n",
       "1      APPLE GOLDEN DELICIOUS  2020-09-09      150.0       170.0      51710.0   \n",
       "7      APPLE GOLDEN DELICIOUS  2020-04-14       50.0        50.0      16000.0   \n",
       "24     APPLE GOLDEN DELICIOUS  2020-04-16       55.0        55.0        990.0   \n",
       "40     APPLE GOLDEN DELICIOUS  2020-05-04       80.0       120.0      32020.0   \n",
       "69     APPLE GOLDEN DELICIOUS  2020-09-28     1800.0      1800.0       1800.0   \n",
       "...                       ...         ...        ...         ...          ...   \n",
       "64276  APPLE GOLDEN DELICIOUS  2020-03-04       96.0        96.0       1920.0   \n",
       "64291  APPLE GOLDEN DELICIOUS  2020-02-22      130.0       130.0       7280.0   \n",
       "64297  APPLE GOLDEN DELICIOUS  2020-04-22       50.0        60.0       4540.0   \n",
       "64304  APPLE GOLDEN DELICIOUS  2020-03-04       30.0        40.0       2140.0   \n",
       "64310  APPLE GOLDEN DELICIOUS  2020-04-23       88.0       104.0       9960.0   \n",
       "\n",
       "       Total_Qty_Sold  Total_Kg_Sold  Stock_On_Hand  avg_price_per_kg  \n",
       "1                 332         6075.6            822              8.51  \n",
       "7                 320         3520.0              0              4.55  \n",
       "24                 18          162.0           1506              6.11  \n",
       "40                388         7100.4            443              4.51  \n",
       "69                  1          400.0              2              4.50  \n",
       "...               ...            ...            ...               ...  \n",
       "64276              20          240.0             53              8.00  \n",
       "64291              56         1024.8             74              7.10  \n",
       "64297              89          801.0            793              5.67  \n",
       "64304              70          770.0              0              2.78  \n",
       "64310             109         1308.0             67              7.61  \n",
       "\n",
       "[1952 rows x 13 columns]"
      ],
      "text/html": "<div>\n<style scoped>\n    .dataframe tbody tr th:only-of-type {\n        vertical-align: middle;\n    }\n\n    .dataframe tbody tr th {\n        vertical-align: top;\n    }\n\n    .dataframe thead th {\n        text-align: right;\n    }\n</style>\n<table border=\"1\" class=\"dataframe\">\n  <thead>\n    <tr style=\"text-align: right;\">\n      <th></th>\n      <th>Province</th>\n      <th>Container</th>\n      <th>Size_Grade</th>\n      <th>Weight_Kg</th>\n      <th>Commodities</th>\n      <th>Date</th>\n      <th>Low_Price</th>\n      <th>High_Price</th>\n      <th>Sales_Total</th>\n      <th>Total_Qty_Sold</th>\n      <th>Total_Kg_Sold</th>\n      <th>Stock_On_Hand</th>\n      <th>avg_price_per_kg</th>\n    </tr>\n  </thead>\n  <tbody>\n    <tr>\n      <th>1</th>\n      <td>CAPE</td>\n      <td>M4183</td>\n      <td>1L</td>\n      <td>18.3</td>\n      <td>APPLE GOLDEN DELICIOUS</td>\n      <td>2020-09-09</td>\n      <td>150.0</td>\n      <td>170.0</td>\n      <td>51710.0</td>\n      <td>332</td>\n      <td>6075.6</td>\n      <td>822</td>\n      <td>8.51</td>\n    </tr>\n    <tr>\n      <th>7</th>\n      <td>CAPE</td>\n      <td>JG110</td>\n      <td>2M</td>\n      <td>11.0</td>\n      <td>APPLE GOLDEN DELICIOUS</td>\n      <td>2020-04-14</td>\n      <td>50.0</td>\n      <td>50.0</td>\n      <td>16000.0</td>\n      <td>320</td>\n      <td>3520.0</td>\n      <td>0</td>\n      <td>4.55</td>\n    </tr>\n    <tr>\n      <th>24</th>\n      <td>W.CAPE-BERGRIVER ETC</td>\n      <td>JE090</td>\n      <td>2S</td>\n      <td>9.0</td>\n      <td>APPLE GOLDEN DELICIOUS</td>\n      <td>2020-04-16</td>\n      <td>55.0</td>\n      <td>55.0</td>\n      <td>990.0</td>\n      <td>18</td>\n      <td>162.0</td>\n      <td>1506</td>\n      <td>6.11</td>\n    </tr>\n    <tr>\n      <th>40</th>\n      <td>CAPE</td>\n      <td>M4183</td>\n      <td>1S</td>\n      <td>18.3</td>\n      <td>APPLE GOLDEN DELICIOUS</td>\n      <td>2020-05-04</td>\n      <td>80.0</td>\n      <td>120.0</td>\n      <td>32020.0</td>\n      <td>388</td>\n      <td>7100.4</td>\n      <td>443</td>\n      <td>4.51</td>\n    </tr>\n    <tr>\n      <th>69</th>\n      <td>EASTERN CAPE</td>\n      <td>IA400</td>\n      <td>1S</td>\n      <td>400.0</td>\n      <td>APPLE GOLDEN DELICIOUS</td>\n      <td>2020-09-28</td>\n      <td>1800.0</td>\n      <td>1800.0</td>\n      <td>1800.0</td>\n      <td>1</td>\n      <td>400.0</td>\n      <td>2</td>\n      <td>4.50</td>\n    </tr>\n    <tr>\n      <th>...</th>\n      <td>...</td>\n      <td>...</td>\n      <td>...</td>\n      <td>...</td>\n      <td>...</td>\n      <td>...</td>\n      <td>...</td>\n      <td>...</td>\n      <td>...</td>\n      <td>...</td>\n      <td>...</td>\n      <td>...</td>\n      <td>...</td>\n    </tr>\n    <tr>\n      <th>64276</th>\n      <td>NATAL</td>\n      <td>EC120</td>\n      <td>1S</td>\n      <td>12.0</td>\n      <td>APPLE GOLDEN DELICIOUS</td>\n      <td>2020-03-04</td>\n      <td>96.0</td>\n      <td>96.0</td>\n      <td>1920.0</td>\n      <td>20</td>\n      <td>240.0</td>\n      <td>53</td>\n      <td>8.00</td>\n    </tr>\n    <tr>\n      <th>64291</th>\n      <td>ORANGE FREE STATE</td>\n      <td>M4183</td>\n      <td>1X</td>\n      <td>18.3</td>\n      <td>APPLE GOLDEN DELICIOUS</td>\n      <td>2020-02-22</td>\n      <td>130.0</td>\n      <td>130.0</td>\n      <td>7280.0</td>\n      <td>56</td>\n      <td>1024.8</td>\n      <td>74</td>\n      <td>7.10</td>\n    </tr>\n    <tr>\n      <th>64297</th>\n      <td>CAPE</td>\n      <td>JE090</td>\n      <td>2M</td>\n      <td>9.0</td>\n      <td>APPLE GOLDEN DELICIOUS</td>\n      <td>2020-04-22</td>\n      <td>50.0</td>\n      <td>60.0</td>\n      <td>4540.0</td>\n      <td>89</td>\n      <td>801.0</td>\n      <td>793</td>\n      <td>5.67</td>\n    </tr>\n    <tr>\n      <th>64304</th>\n      <td>CAPE</td>\n      <td>JG110</td>\n      <td>2M</td>\n      <td>11.0</td>\n      <td>APPLE GOLDEN DELICIOUS</td>\n      <td>2020-03-04</td>\n      <td>30.0</td>\n      <td>40.0</td>\n      <td>2140.0</td>\n      <td>70</td>\n      <td>770.0</td>\n      <td>0</td>\n      <td>2.78</td>\n    </tr>\n    <tr>\n      <th>64310</th>\n      <td>W.CAPE-BERGRIVER ETC</td>\n      <td>EC120</td>\n      <td>1M</td>\n      <td>12.0</td>\n      <td>APPLE GOLDEN DELICIOUS</td>\n      <td>2020-04-23</td>\n      <td>88.0</td>\n      <td>104.0</td>\n      <td>9960.0</td>\n      <td>109</td>\n      <td>1308.0</td>\n      <td>67</td>\n      <td>7.61</td>\n    </tr>\n  </tbody>\n</table>\n<p>1952 rows × 13 columns</p>\n</div>"
     },
     "metadata": {},
     "execution_count": 20
    }
   ],
   "source": [
    "train = train[train['Commodities'].str.contains('APPLE GOLDEN DELICIOUS')]\n",
    "train"
   ]
  },
  {
   "cell_type": "code",
   "execution_count": 21,
   "metadata": {},
   "outputs": [
    {
     "output_type": "execute_result",
     "data": {
      "text/plain": [
       "<AxesSubplot:xlabel='avg_price_per_kg', ylabel='Density'>"
      ]
     },
     "metadata": {},
     "execution_count": 21
    },
    {
     "output_type": "display_data",
     "data": {
      "text/plain": "<Figure size 1440x360 with 1 Axes>",
      "image/svg+xml": "<?xml version=\"1.0\" encoding=\"utf-8\" standalone=\"no\"?>\r\n<!DOCTYPE svg PUBLIC \"-//W3C//DTD SVG 1.1//EN\"\r\n  \"http://www.w3.org/Graphics/SVG/1.1/DTD/svg11.dtd\">\r\n<!-- Created with matplotlib (https://matplotlib.org/) -->\r\n<svg height=\"316.834375pt\" version=\"1.1\" viewBox=\"0 0 1173.34375 316.834375\" width=\"1173.34375pt\" xmlns=\"http://www.w3.org/2000/svg\" xmlns:xlink=\"http://www.w3.org/1999/xlink\">\r\n <metadata>\r\n  <rdf:RDF xmlns:cc=\"http://creativecommons.org/ns#\" xmlns:dc=\"http://purl.org/dc/elements/1.1/\" xmlns:rdf=\"http://www.w3.org/1999/02/22-rdf-syntax-ns#\">\r\n   <cc:Work>\r\n    <dc:type rdf:resource=\"http://purl.org/dc/dcmitype/StillImage\"/>\r\n    <dc:date>2021-05-14T15:33:33.353118</dc:date>\r\n    <dc:format>image/svg+xml</dc:format>\r\n    <dc:creator>\r\n     <cc:Agent>\r\n      <dc:title>Matplotlib v3.3.2, https://matplotlib.org/</dc:title>\r\n     </cc:Agent>\r\n    </dc:creator>\r\n   </cc:Work>\r\n  </rdf:RDF>\r\n </metadata>\r\n <defs>\r\n  <style type=\"text/css\">*{stroke-linecap:butt;stroke-linejoin:round;}</style>\r\n </defs>\r\n <g id=\"figure_1\">\r\n  <g id=\"patch_1\">\r\n   <path d=\"M 0 316.834375 \r\nL 1173.34375 316.834375 \r\nL 1173.34375 0 \r\nL 0 0 \r\nz\r\n\" style=\"fill:none;\"/>\r\n  </g>\r\n  <g id=\"axes_1\">\r\n   <g id=\"patch_2\">\r\n    <path d=\"M 50.14375 279 \r\nL 1166.14375 279 \r\nL 1166.14375 7.2 \r\nL 50.14375 7.2 \r\nz\r\n\" style=\"fill:#ffffff;\"/>\r\n   </g>\r\n   <g id=\"patch_3\">\r\n    <path clip-path=\"url(#p88549cb376)\" d=\"M 163.654353 279 \r\nL 182.568795 279 \r\nL 182.568795 274.869301 \r\nL 163.654353 274.869301 \r\nz\r\n\" style=\"fill:#1f77b4;opacity:0.4;\"/>\r\n   </g>\r\n   <g id=\"patch_4\">\r\n    <path clip-path=\"url(#p88549cb376)\" d=\"M 182.568795 279 \r\nL 201.483238 279 \r\nL 201.483238 258.346505 \r\nL 182.568795 258.346505 \r\nz\r\n\" style=\"fill:#1f77b4;opacity:0.4;\"/>\r\n   </g>\r\n   <g id=\"patch_5\">\r\n    <path clip-path=\"url(#p88549cb376)\" d=\"M 201.483238 279 \r\nL 220.39768 279 \r\nL 220.39768 259.723404 \r\nL 201.483238 259.723404 \r\nz\r\n\" style=\"fill:#1f77b4;opacity:0.4;\"/>\r\n   </g>\r\n   <g id=\"patch_6\">\r\n    <path clip-path=\"url(#p88549cb376)\" d=\"M 220.39768 279 \r\nL 239.312123 279 \r\nL 239.312123 244.577508 \r\nL 220.39768 244.577508 \r\nz\r\n\" style=\"fill:#1f77b4;opacity:0.4;\"/>\r\n   </g>\r\n   <g id=\"patch_7\">\r\n    <path clip-path=\"url(#p88549cb376)\" d=\"M 239.312123 279 \r\nL 258.226565 279 \r\nL 258.226565 245.954407 \r\nL 239.312123 245.954407 \r\nz\r\n\" style=\"fill:#1f77b4;opacity:0.4;\"/>\r\n   </g>\r\n   <g id=\"patch_8\">\r\n    <path clip-path=\"url(#p88549cb376)\" d=\"M 258.226565 279 \r\nL 277.141008 279 \r\nL 277.141008 254.215805 \r\nL 258.226565 254.215805 \r\nz\r\n\" style=\"fill:#1f77b4;opacity:0.4;\"/>\r\n   </g>\r\n   <g id=\"patch_9\">\r\n    <path clip-path=\"url(#p88549cb376)\" d=\"M 277.141008 279 \r\nL 296.05545 279 \r\nL 296.05545 237.693009 \r\nL 277.141008 237.693009 \r\nz\r\n\" style=\"fill:#1f77b4;opacity:0.4;\"/>\r\n   </g>\r\n   <g id=\"patch_10\">\r\n    <path clip-path=\"url(#p88549cb376)\" d=\"M 296.05545 279 \r\nL 314.969892 279 \r\nL 314.969892 245.954407 \r\nL 296.05545 245.954407 \r\nz\r\n\" style=\"fill:#1f77b4;opacity:0.4;\"/>\r\n   </g>\r\n   <g id=\"patch_11\">\r\n    <path clip-path=\"url(#p88549cb376)\" d=\"M 314.969892 279 \r\nL 333.884335 279 \r\nL 333.884335 214.285714 \r\nL 314.969892 214.285714 \r\nz\r\n\" style=\"fill:#1f77b4;opacity:0.4;\"/>\r\n   </g>\r\n   <g id=\"patch_12\">\r\n    <path clip-path=\"url(#p88549cb376)\" d=\"M 333.884335 279 \r\nL 352.798777 279 \r\nL 352.798777 98.62614 \r\nL 333.884335 98.62614 \r\nz\r\n\" style=\"fill:#1f77b4;opacity:0.4;\"/>\r\n   </g>\r\n   <g id=\"patch_13\">\r\n    <path clip-path=\"url(#p88549cb376)\" d=\"M 352.798777 279 \r\nL 371.71322 279 \r\nL 371.71322 152.325228 \r\nL 352.798777 152.325228 \r\nz\r\n\" style=\"fill:#1f77b4;opacity:0.4;\"/>\r\n   </g>\r\n   <g id=\"patch_14\">\r\n    <path clip-path=\"url(#p88549cb376)\" d=\"M 371.71322 279 \r\nL 390.627662 279 \r\nL 390.627662 47.680851 \r\nL 371.71322 47.680851 \r\nz\r\n\" style=\"fill:#1f77b4;opacity:0.4;\"/>\r\n   </g>\r\n   <g id=\"patch_15\">\r\n    <path clip-path=\"url(#p88549cb376)\" d=\"M 390.627662 279 \r\nL 409.542105 279 \r\nL 409.542105 87.610942 \r\nL 390.627662 87.610942 \r\nz\r\n\" style=\"fill:#1f77b4;opacity:0.4;\"/>\r\n   </g>\r\n   <g id=\"patch_16\">\r\n    <path clip-path=\"url(#p88549cb376)\" d=\"M 409.542105 279 \r\nL 428.456547 279 \r\nL 428.456547 77.972644 \r\nL 409.542105 77.972644 \r\nz\r\n\" style=\"fill:#1f77b4;opacity:0.4;\"/>\r\n   </g>\r\n   <g id=\"patch_17\">\r\n    <path clip-path=\"url(#p88549cb376)\" d=\"M 428.456547 279 \r\nL 447.370989 279 \r\nL 447.370989 20.142857 \r\nL 428.456547 20.142857 \r\nz\r\n\" style=\"fill:#1f77b4;opacity:0.4;\"/>\r\n   </g>\r\n   <g id=\"patch_18\">\r\n    <path clip-path=\"url(#p88549cb376)\" d=\"M 447.370989 279 \r\nL 466.285432 279 \r\nL 466.285432 84.857143 \r\nL 447.370989 84.857143 \r\nz\r\n\" style=\"fill:#1f77b4;opacity:0.4;\"/>\r\n   </g>\r\n   <g id=\"patch_19\">\r\n    <path clip-path=\"url(#p88549cb376)\" d=\"M 466.285432 279 \r\nL 485.199874 279 \r\nL 485.199874 93.118541 \r\nL 466.285432 93.118541 \r\nz\r\n\" style=\"fill:#1f77b4;opacity:0.4;\"/>\r\n   </g>\r\n   <g id=\"patch_20\">\r\n    <path clip-path=\"url(#p88549cb376)\" d=\"M 485.199874 279 \r\nL 504.114317 279 \r\nL 504.114317 100.00304 \r\nL 485.199874 100.00304 \r\nz\r\n\" style=\"fill:#1f77b4;opacity:0.4;\"/>\r\n   </g>\r\n   <g id=\"patch_21\">\r\n    <path clip-path=\"url(#p88549cb376)\" d=\"M 504.114317 279 \r\nL 523.028759 279 \r\nL 523.028759 157.832827 \r\nL 504.114317 157.832827 \r\nz\r\n\" style=\"fill:#1f77b4;opacity:0.4;\"/>\r\n   </g>\r\n   <g id=\"patch_22\">\r\n    <path clip-path=\"url(#p88549cb376)\" d=\"M 523.028759 279 \r\nL 541.943202 279 \r\nL 541.943202 131.671733 \r\nL 523.028759 131.671733 \r\nz\r\n\" style=\"fill:#1f77b4;opacity:0.4;\"/>\r\n   </g>\r\n   <g id=\"patch_23\">\r\n    <path clip-path=\"url(#p88549cb376)\" d=\"M 541.943202 279 \r\nL 560.857644 279 \r\nL 560.857644 160.586626 \r\nL 541.943202 160.586626 \r\nz\r\n\" style=\"fill:#1f77b4;opacity:0.4;\"/>\r\n   </g>\r\n   <g id=\"patch_24\">\r\n    <path clip-path=\"url(#p88549cb376)\" d=\"M 560.857644 279 \r\nL 579.772086 279 \r\nL 579.772086 141.31003 \r\nL 560.857644 141.31003 \r\nz\r\n\" style=\"fill:#1f77b4;opacity:0.4;\"/>\r\n   </g>\r\n   <g id=\"patch_25\">\r\n    <path clip-path=\"url(#p88549cb376)\" d=\"M 579.772086 279 \r\nL 598.686529 279 \r\nL 598.686529 237.693009 \r\nL 579.772086 237.693009 \r\nz\r\n\" style=\"fill:#1f77b4;opacity:0.4;\"/>\r\n   </g>\r\n   <g id=\"patch_26\">\r\n    <path clip-path=\"url(#p88549cb376)\" d=\"M 598.686529 279 \r\nL 617.600971 279 \r\nL 617.600971 234.93921 \r\nL 598.686529 234.93921 \r\nz\r\n\" style=\"fill:#1f77b4;opacity:0.4;\"/>\r\n   </g>\r\n   <g id=\"patch_27\">\r\n    <path clip-path=\"url(#p88549cb376)\" d=\"M 617.600971 279 \r\nL 636.515414 279 \r\nL 636.515414 262.477204 \r\nL 617.600971 262.477204 \r\nz\r\n\" style=\"fill:#1f77b4;opacity:0.4;\"/>\r\n   </g>\r\n   <g id=\"patch_28\">\r\n    <path clip-path=\"url(#p88549cb376)\" d=\"M 636.515414 279 \r\nL 655.429856 279 \r\nL 655.429856 276.246201 \r\nL 636.515414 276.246201 \r\nz\r\n\" style=\"fill:#1f77b4;opacity:0.4;\"/>\r\n   </g>\r\n   <g id=\"patch_29\">\r\n    <path clip-path=\"url(#p88549cb376)\" d=\"M 655.429856 279 \r\nL 674.344298 279 \r\nL 674.344298 261.100304 \r\nL 655.429856 261.100304 \r\nz\r\n\" style=\"fill:#1f77b4;opacity:0.4;\"/>\r\n   </g>\r\n   <g id=\"patch_30\">\r\n    <path clip-path=\"url(#p88549cb376)\" d=\"M 674.344298 279 \r\nL 693.258741 279 \r\nL 693.258741 277.6231 \r\nL 674.344298 277.6231 \r\nz\r\n\" style=\"fill:#1f77b4;opacity:0.4;\"/>\r\n   </g>\r\n   <g id=\"patch_31\">\r\n    <path clip-path=\"url(#p88549cb376)\" d=\"M 693.258741 279 \r\nL 712.173183 279 \r\nL 712.173183 277.6231 \r\nL 693.258741 277.6231 \r\nz\r\n\" style=\"fill:#1f77b4;opacity:0.4;\"/>\r\n   </g>\r\n   <g id=\"patch_32\">\r\n    <path clip-path=\"url(#p88549cb376)\" d=\"M 712.173183 279 \r\nL 731.087626 279 \r\nL 731.087626 279 \r\nL 712.173183 279 \r\nz\r\n\" style=\"fill:#1f77b4;opacity:0.4;\"/>\r\n   </g>\r\n   <g id=\"patch_33\">\r\n    <path clip-path=\"url(#p88549cb376)\" d=\"M 731.087626 279 \r\nL 750.002068 279 \r\nL 750.002068 274.869301 \r\nL 731.087626 274.869301 \r\nz\r\n\" style=\"fill:#1f77b4;opacity:0.4;\"/>\r\n   </g>\r\n   <g id=\"patch_34\">\r\n    <path clip-path=\"url(#p88549cb376)\" d=\"M 750.002068 279 \r\nL 768.916511 279 \r\nL 768.916511 272.115502 \r\nL 750.002068 272.115502 \r\nz\r\n\" style=\"fill:#1f77b4;opacity:0.4;\"/>\r\n   </g>\r\n   <g id=\"patch_35\">\r\n    <path clip-path=\"url(#p88549cb376)\" d=\"M 768.916511 279 \r\nL 787.830953 279 \r\nL 787.830953 279 \r\nL 768.916511 279 \r\nz\r\n\" style=\"fill:#1f77b4;opacity:0.4;\"/>\r\n   </g>\r\n   <g id=\"patch_36\">\r\n    <path clip-path=\"url(#p88549cb376)\" d=\"M 787.830953 279 \r\nL 806.745395 279 \r\nL 806.745395 277.6231 \r\nL 787.830953 277.6231 \r\nz\r\n\" style=\"fill:#1f77b4;opacity:0.4;\"/>\r\n   </g>\r\n   <g id=\"patch_37\">\r\n    <path clip-path=\"url(#p88549cb376)\" d=\"M 806.745395 279 \r\nL 825.659838 279 \r\nL 825.659838 279 \r\nL 806.745395 279 \r\nz\r\n\" style=\"fill:#1f77b4;opacity:0.4;\"/>\r\n   </g>\r\n   <g id=\"patch_38\">\r\n    <path clip-path=\"url(#p88549cb376)\" d=\"M 825.659838 279 \r\nL 844.57428 279 \r\nL 844.57428 279 \r\nL 825.659838 279 \r\nz\r\n\" style=\"fill:#1f77b4;opacity:0.4;\"/>\r\n   </g>\r\n   <g id=\"patch_39\">\r\n    <path clip-path=\"url(#p88549cb376)\" d=\"M 844.57428 279 \r\nL 863.488723 279 \r\nL 863.488723 279 \r\nL 844.57428 279 \r\nz\r\n\" style=\"fill:#1f77b4;opacity:0.4;\"/>\r\n   </g>\r\n   <g id=\"patch_40\">\r\n    <path clip-path=\"url(#p88549cb376)\" d=\"M 863.488723 279 \r\nL 882.403165 279 \r\nL 882.403165 279 \r\nL 863.488723 279 \r\nz\r\n\" style=\"fill:#1f77b4;opacity:0.4;\"/>\r\n   </g>\r\n   <g id=\"patch_41\">\r\n    <path clip-path=\"url(#p88549cb376)\" d=\"M 882.403165 279 \r\nL 901.317608 279 \r\nL 901.317608 279 \r\nL 882.403165 279 \r\nz\r\n\" style=\"fill:#1f77b4;opacity:0.4;\"/>\r\n   </g>\r\n   <g id=\"patch_42\">\r\n    <path clip-path=\"url(#p88549cb376)\" d=\"M 901.317608 279 \r\nL 920.23205 279 \r\nL 920.23205 279 \r\nL 901.317608 279 \r\nz\r\n\" style=\"fill:#1f77b4;opacity:0.4;\"/>\r\n   </g>\r\n   <g id=\"patch_43\">\r\n    <path clip-path=\"url(#p88549cb376)\" d=\"M 920.23205 279 \r\nL 939.146492 279 \r\nL 939.146492 279 \r\nL 920.23205 279 \r\nz\r\n\" style=\"fill:#1f77b4;opacity:0.4;\"/>\r\n   </g>\r\n   <g id=\"patch_44\">\r\n    <path clip-path=\"url(#p88549cb376)\" d=\"M 939.146492 279 \r\nL 958.060935 279 \r\nL 958.060935 279 \r\nL 939.146492 279 \r\nz\r\n\" style=\"fill:#1f77b4;opacity:0.4;\"/>\r\n   </g>\r\n   <g id=\"patch_45\">\r\n    <path clip-path=\"url(#p88549cb376)\" d=\"M 958.060935 279 \r\nL 976.975377 279 \r\nL 976.975377 279 \r\nL 958.060935 279 \r\nz\r\n\" style=\"fill:#1f77b4;opacity:0.4;\"/>\r\n   </g>\r\n   <g id=\"patch_46\">\r\n    <path clip-path=\"url(#p88549cb376)\" d=\"M 976.975377 279 \r\nL 995.88982 279 \r\nL 995.88982 279 \r\nL 976.975377 279 \r\nz\r\n\" style=\"fill:#1f77b4;opacity:0.4;\"/>\r\n   </g>\r\n   <g id=\"patch_47\">\r\n    <path clip-path=\"url(#p88549cb376)\" d=\"M 995.88982 279 \r\nL 1014.804262 279 \r\nL 1014.804262 279 \r\nL 995.88982 279 \r\nz\r\n\" style=\"fill:#1f77b4;opacity:0.4;\"/>\r\n   </g>\r\n   <g id=\"patch_48\">\r\n    <path clip-path=\"url(#p88549cb376)\" d=\"M 1014.804262 279 \r\nL 1033.718705 279 \r\nL 1033.718705 279 \r\nL 1014.804262 279 \r\nz\r\n\" style=\"fill:#1f77b4;opacity:0.4;\"/>\r\n   </g>\r\n   <g id=\"patch_49\">\r\n    <path clip-path=\"url(#p88549cb376)\" d=\"M 1033.718705 279 \r\nL 1052.633147 279 \r\nL 1052.633147 277.6231 \r\nL 1033.718705 277.6231 \r\nz\r\n\" style=\"fill:#1f77b4;opacity:0.4;\"/>\r\n   </g>\r\n   <g id=\"matplotlib.axis_1\">\r\n    <g id=\"xtick_1\">\r\n     <g id=\"line2d_1\">\r\n      <defs>\r\n       <path d=\"M 0 0 \r\nL 0 3.5 \r\n\" id=\"m2a7eb358a7\" style=\"stroke:#000000;stroke-width:0.8;\"/>\r\n      </defs>\r\n      <g>\r\n       <use style=\"stroke:#000000;stroke-width:0.8;\" x=\"153.06623\" xlink:href=\"#m2a7eb358a7\" y=\"279\"/>\r\n      </g>\r\n     </g>\r\n     <g id=\"text_1\">\r\n      <!-- 0 -->\r\n      <g transform=\"translate(149.88498 293.598437)scale(0.1 -0.1)\">\r\n       <defs>\r\n        <path d=\"M 31.78125 66.40625 \r\nQ 24.171875 66.40625 20.328125 58.90625 \r\nQ 16.5 51.421875 16.5 36.375 \r\nQ 16.5 21.390625 20.328125 13.890625 \r\nQ 24.171875 6.390625 31.78125 6.390625 \r\nQ 39.453125 6.390625 43.28125 13.890625 \r\nQ 47.125 21.390625 47.125 36.375 \r\nQ 47.125 51.421875 43.28125 58.90625 \r\nQ 39.453125 66.40625 31.78125 66.40625 \r\nz\r\nM 31.78125 74.21875 \r\nQ 44.046875 74.21875 50.515625 64.515625 \r\nQ 56.984375 54.828125 56.984375 36.375 \r\nQ 56.984375 17.96875 50.515625 8.265625 \r\nQ 44.046875 -1.421875 31.78125 -1.421875 \r\nQ 19.53125 -1.421875 13.0625 8.265625 \r\nQ 6.59375 17.96875 6.59375 36.375 \r\nQ 6.59375 54.828125 13.0625 64.515625 \r\nQ 19.53125 74.21875 31.78125 74.21875 \r\nz\r\n\" id=\"DejaVuSans-48\"/>\r\n       </defs>\r\n       <use xlink:href=\"#DejaVuSans-48\"/>\r\n      </g>\r\n     </g>\r\n    </g>\r\n    <g id=\"xtick_2\">\r\n     <g id=\"line2d_2\">\r\n      <g>\r\n       <use style=\"stroke:#000000;stroke-width:0.8;\" x=\"364.828687\" xlink:href=\"#m2a7eb358a7\" y=\"279\"/>\r\n      </g>\r\n     </g>\r\n     <g id=\"text_2\">\r\n      <!-- 5 -->\r\n      <g transform=\"translate(361.647437 293.598437)scale(0.1 -0.1)\">\r\n       <defs>\r\n        <path d=\"M 10.796875 72.90625 \r\nL 49.515625 72.90625 \r\nL 49.515625 64.59375 \r\nL 19.828125 64.59375 \r\nL 19.828125 46.734375 \r\nQ 21.96875 47.46875 24.109375 47.828125 \r\nQ 26.265625 48.1875 28.421875 48.1875 \r\nQ 40.625 48.1875 47.75 41.5 \r\nQ 54.890625 34.8125 54.890625 23.390625 \r\nQ 54.890625 11.625 47.5625 5.09375 \r\nQ 40.234375 -1.421875 26.90625 -1.421875 \r\nQ 22.3125 -1.421875 17.546875 -0.640625 \r\nQ 12.796875 0.140625 7.71875 1.703125 \r\nL 7.71875 11.625 \r\nQ 12.109375 9.234375 16.796875 8.0625 \r\nQ 21.484375 6.890625 26.703125 6.890625 \r\nQ 35.15625 6.890625 40.078125 11.328125 \r\nQ 45.015625 15.765625 45.015625 23.390625 \r\nQ 45.015625 31 40.078125 35.4375 \r\nQ 35.15625 39.890625 26.703125 39.890625 \r\nQ 22.75 39.890625 18.8125 39.015625 \r\nQ 14.890625 38.140625 10.796875 36.28125 \r\nz\r\n\" id=\"DejaVuSans-53\"/>\r\n       </defs>\r\n       <use xlink:href=\"#DejaVuSans-53\"/>\r\n      </g>\r\n     </g>\r\n    </g>\r\n    <g id=\"xtick_3\">\r\n     <g id=\"line2d_3\">\r\n      <g>\r\n       <use style=\"stroke:#000000;stroke-width:0.8;\" x=\"576.591144\" xlink:href=\"#m2a7eb358a7\" y=\"279\"/>\r\n      </g>\r\n     </g>\r\n     <g id=\"text_3\">\r\n      <!-- 10 -->\r\n      <g transform=\"translate(570.228644 293.598437)scale(0.1 -0.1)\">\r\n       <defs>\r\n        <path d=\"M 12.40625 8.296875 \r\nL 28.515625 8.296875 \r\nL 28.515625 63.921875 \r\nL 10.984375 60.40625 \r\nL 10.984375 69.390625 \r\nL 28.421875 72.90625 \r\nL 38.28125 72.90625 \r\nL 38.28125 8.296875 \r\nL 54.390625 8.296875 \r\nL 54.390625 0 \r\nL 12.40625 0 \r\nz\r\n\" id=\"DejaVuSans-49\"/>\r\n       </defs>\r\n       <use xlink:href=\"#DejaVuSans-49\"/>\r\n       <use x=\"63.623047\" xlink:href=\"#DejaVuSans-48\"/>\r\n      </g>\r\n     </g>\r\n    </g>\r\n    <g id=\"xtick_4\">\r\n     <g id=\"line2d_4\">\r\n      <g>\r\n       <use style=\"stroke:#000000;stroke-width:0.8;\" x=\"788.353601\" xlink:href=\"#m2a7eb358a7\" y=\"279\"/>\r\n      </g>\r\n     </g>\r\n     <g id=\"text_4\">\r\n      <!-- 15 -->\r\n      <g transform=\"translate(781.991101 293.598437)scale(0.1 -0.1)\">\r\n       <use xlink:href=\"#DejaVuSans-49\"/>\r\n       <use x=\"63.623047\" xlink:href=\"#DejaVuSans-53\"/>\r\n      </g>\r\n     </g>\r\n    </g>\r\n    <g id=\"xtick_5\">\r\n     <g id=\"line2d_5\">\r\n      <g>\r\n       <use style=\"stroke:#000000;stroke-width:0.8;\" x=\"1000.116058\" xlink:href=\"#m2a7eb358a7\" y=\"279\"/>\r\n      </g>\r\n     </g>\r\n     <g id=\"text_5\">\r\n      <!-- 20 -->\r\n      <g transform=\"translate(993.753558 293.598437)scale(0.1 -0.1)\">\r\n       <defs>\r\n        <path d=\"M 19.1875 8.296875 \r\nL 53.609375 8.296875 \r\nL 53.609375 0 \r\nL 7.328125 0 \r\nL 7.328125 8.296875 \r\nQ 12.9375 14.109375 22.625 23.890625 \r\nQ 32.328125 33.6875 34.8125 36.53125 \r\nQ 39.546875 41.84375 41.421875 45.53125 \r\nQ 43.3125 49.21875 43.3125 52.78125 \r\nQ 43.3125 58.59375 39.234375 62.25 \r\nQ 35.15625 65.921875 28.609375 65.921875 \r\nQ 23.96875 65.921875 18.8125 64.3125 \r\nQ 13.671875 62.703125 7.8125 59.421875 \r\nL 7.8125 69.390625 \r\nQ 13.765625 71.78125 18.9375 73 \r\nQ 24.125 74.21875 28.421875 74.21875 \r\nQ 39.75 74.21875 46.484375 68.546875 \r\nQ 53.21875 62.890625 53.21875 53.421875 \r\nQ 53.21875 48.921875 51.53125 44.890625 \r\nQ 49.859375 40.875 45.40625 35.40625 \r\nQ 44.1875 33.984375 37.640625 27.21875 \r\nQ 31.109375 20.453125 19.1875 8.296875 \r\nz\r\n\" id=\"DejaVuSans-50\"/>\r\n       </defs>\r\n       <use xlink:href=\"#DejaVuSans-50\"/>\r\n       <use x=\"63.623047\" xlink:href=\"#DejaVuSans-48\"/>\r\n      </g>\r\n     </g>\r\n    </g>\r\n    <g id=\"text_6\">\r\n     <!-- avg_price_per_kg -->\r\n     <g transform=\"translate(564.625781 307.276562)scale(0.1 -0.1)\">\r\n      <defs>\r\n       <path d=\"M 34.28125 27.484375 \r\nQ 23.390625 27.484375 19.1875 25 \r\nQ 14.984375 22.515625 14.984375 16.5 \r\nQ 14.984375 11.71875 18.140625 8.90625 \r\nQ 21.296875 6.109375 26.703125 6.109375 \r\nQ 34.1875 6.109375 38.703125 11.40625 \r\nQ 43.21875 16.703125 43.21875 25.484375 \r\nL 43.21875 27.484375 \r\nz\r\nM 52.203125 31.203125 \r\nL 52.203125 0 \r\nL 43.21875 0 \r\nL 43.21875 8.296875 \r\nQ 40.140625 3.328125 35.546875 0.953125 \r\nQ 30.953125 -1.421875 24.3125 -1.421875 \r\nQ 15.921875 -1.421875 10.953125 3.296875 \r\nQ 6 8.015625 6 15.921875 \r\nQ 6 25.140625 12.171875 29.828125 \r\nQ 18.359375 34.515625 30.609375 34.515625 \r\nL 43.21875 34.515625 \r\nL 43.21875 35.40625 \r\nQ 43.21875 41.609375 39.140625 45 \r\nQ 35.0625 48.390625 27.6875 48.390625 \r\nQ 23 48.390625 18.546875 47.265625 \r\nQ 14.109375 46.140625 10.015625 43.890625 \r\nL 10.015625 52.203125 \r\nQ 14.9375 54.109375 19.578125 55.046875 \r\nQ 24.21875 56 28.609375 56 \r\nQ 40.484375 56 46.34375 49.84375 \r\nQ 52.203125 43.703125 52.203125 31.203125 \r\nz\r\n\" id=\"DejaVuSans-97\"/>\r\n       <path d=\"M 2.984375 54.6875 \r\nL 12.5 54.6875 \r\nL 29.59375 8.796875 \r\nL 46.6875 54.6875 \r\nL 56.203125 54.6875 \r\nL 35.6875 0 \r\nL 23.484375 0 \r\nz\r\n\" id=\"DejaVuSans-118\"/>\r\n       <path d=\"M 45.40625 27.984375 \r\nQ 45.40625 37.75 41.375 43.109375 \r\nQ 37.359375 48.484375 30.078125 48.484375 \r\nQ 22.859375 48.484375 18.828125 43.109375 \r\nQ 14.796875 37.75 14.796875 27.984375 \r\nQ 14.796875 18.265625 18.828125 12.890625 \r\nQ 22.859375 7.515625 30.078125 7.515625 \r\nQ 37.359375 7.515625 41.375 12.890625 \r\nQ 45.40625 18.265625 45.40625 27.984375 \r\nz\r\nM 54.390625 6.78125 \r\nQ 54.390625 -7.171875 48.1875 -13.984375 \r\nQ 42 -20.796875 29.203125 -20.796875 \r\nQ 24.46875 -20.796875 20.265625 -20.09375 \r\nQ 16.0625 -19.390625 12.109375 -17.921875 \r\nL 12.109375 -9.1875 \r\nQ 16.0625 -11.328125 19.921875 -12.34375 \r\nQ 23.78125 -13.375 27.78125 -13.375 \r\nQ 36.625 -13.375 41.015625 -8.765625 \r\nQ 45.40625 -4.15625 45.40625 5.171875 \r\nL 45.40625 9.625 \r\nQ 42.625 4.78125 38.28125 2.390625 \r\nQ 33.9375 0 27.875 0 \r\nQ 17.828125 0 11.671875 7.65625 \r\nQ 5.515625 15.328125 5.515625 27.984375 \r\nQ 5.515625 40.671875 11.671875 48.328125 \r\nQ 17.828125 56 27.875 56 \r\nQ 33.9375 56 38.28125 53.609375 \r\nQ 42.625 51.21875 45.40625 46.390625 \r\nL 45.40625 54.6875 \r\nL 54.390625 54.6875 \r\nz\r\n\" id=\"DejaVuSans-103\"/>\r\n       <path d=\"M 50.984375 -16.609375 \r\nL 50.984375 -23.578125 \r\nL -0.984375 -23.578125 \r\nL -0.984375 -16.609375 \r\nz\r\n\" id=\"DejaVuSans-95\"/>\r\n       <path d=\"M 18.109375 8.203125 \r\nL 18.109375 -20.796875 \r\nL 9.078125 -20.796875 \r\nL 9.078125 54.6875 \r\nL 18.109375 54.6875 \r\nL 18.109375 46.390625 \r\nQ 20.953125 51.265625 25.265625 53.625 \r\nQ 29.59375 56 35.59375 56 \r\nQ 45.5625 56 51.78125 48.09375 \r\nQ 58.015625 40.1875 58.015625 27.296875 \r\nQ 58.015625 14.40625 51.78125 6.484375 \r\nQ 45.5625 -1.421875 35.59375 -1.421875 \r\nQ 29.59375 -1.421875 25.265625 0.953125 \r\nQ 20.953125 3.328125 18.109375 8.203125 \r\nz\r\nM 48.6875 27.296875 \r\nQ 48.6875 37.203125 44.609375 42.84375 \r\nQ 40.53125 48.484375 33.40625 48.484375 \r\nQ 26.265625 48.484375 22.1875 42.84375 \r\nQ 18.109375 37.203125 18.109375 27.296875 \r\nQ 18.109375 17.390625 22.1875 11.75 \r\nQ 26.265625 6.109375 33.40625 6.109375 \r\nQ 40.53125 6.109375 44.609375 11.75 \r\nQ 48.6875 17.390625 48.6875 27.296875 \r\nz\r\n\" id=\"DejaVuSans-112\"/>\r\n       <path d=\"M 41.109375 46.296875 \r\nQ 39.59375 47.171875 37.8125 47.578125 \r\nQ 36.03125 48 33.890625 48 \r\nQ 26.265625 48 22.1875 43.046875 \r\nQ 18.109375 38.09375 18.109375 28.8125 \r\nL 18.109375 0 \r\nL 9.078125 0 \r\nL 9.078125 54.6875 \r\nL 18.109375 54.6875 \r\nL 18.109375 46.1875 \r\nQ 20.953125 51.171875 25.484375 53.578125 \r\nQ 30.03125 56 36.53125 56 \r\nQ 37.453125 56 38.578125 55.875 \r\nQ 39.703125 55.765625 41.0625 55.515625 \r\nz\r\n\" id=\"DejaVuSans-114\"/>\r\n       <path d=\"M 9.421875 54.6875 \r\nL 18.40625 54.6875 \r\nL 18.40625 0 \r\nL 9.421875 0 \r\nz\r\nM 9.421875 75.984375 \r\nL 18.40625 75.984375 \r\nL 18.40625 64.59375 \r\nL 9.421875 64.59375 \r\nz\r\n\" id=\"DejaVuSans-105\"/>\r\n       <path d=\"M 48.78125 52.59375 \r\nL 48.78125 44.1875 \r\nQ 44.96875 46.296875 41.140625 47.34375 \r\nQ 37.3125 48.390625 33.40625 48.390625 \r\nQ 24.65625 48.390625 19.8125 42.84375 \r\nQ 14.984375 37.3125 14.984375 27.296875 \r\nQ 14.984375 17.28125 19.8125 11.734375 \r\nQ 24.65625 6.203125 33.40625 6.203125 \r\nQ 37.3125 6.203125 41.140625 7.25 \r\nQ 44.96875 8.296875 48.78125 10.40625 \r\nL 48.78125 2.09375 \r\nQ 45.015625 0.34375 40.984375 -0.53125 \r\nQ 36.96875 -1.421875 32.421875 -1.421875 \r\nQ 20.0625 -1.421875 12.78125 6.34375 \r\nQ 5.515625 14.109375 5.515625 27.296875 \r\nQ 5.515625 40.671875 12.859375 48.328125 \r\nQ 20.21875 56 33.015625 56 \r\nQ 37.15625 56 41.109375 55.140625 \r\nQ 45.0625 54.296875 48.78125 52.59375 \r\nz\r\n\" id=\"DejaVuSans-99\"/>\r\n       <path d=\"M 56.203125 29.59375 \r\nL 56.203125 25.203125 \r\nL 14.890625 25.203125 \r\nQ 15.484375 15.921875 20.484375 11.0625 \r\nQ 25.484375 6.203125 34.421875 6.203125 \r\nQ 39.59375 6.203125 44.453125 7.46875 \r\nQ 49.3125 8.734375 54.109375 11.28125 \r\nL 54.109375 2.78125 \r\nQ 49.265625 0.734375 44.1875 -0.34375 \r\nQ 39.109375 -1.421875 33.890625 -1.421875 \r\nQ 20.796875 -1.421875 13.15625 6.1875 \r\nQ 5.515625 13.8125 5.515625 26.8125 \r\nQ 5.515625 40.234375 12.765625 48.109375 \r\nQ 20.015625 56 32.328125 56 \r\nQ 43.359375 56 49.78125 48.890625 \r\nQ 56.203125 41.796875 56.203125 29.59375 \r\nz\r\nM 47.21875 32.234375 \r\nQ 47.125 39.59375 43.09375 43.984375 \r\nQ 39.0625 48.390625 32.421875 48.390625 \r\nQ 24.90625 48.390625 20.390625 44.140625 \r\nQ 15.875 39.890625 15.1875 32.171875 \r\nz\r\n\" id=\"DejaVuSans-101\"/>\r\n       <path d=\"M 9.078125 75.984375 \r\nL 18.109375 75.984375 \r\nL 18.109375 31.109375 \r\nL 44.921875 54.6875 \r\nL 56.390625 54.6875 \r\nL 27.390625 29.109375 \r\nL 57.625 0 \r\nL 45.90625 0 \r\nL 18.109375 26.703125 \r\nL 18.109375 0 \r\nL 9.078125 0 \r\nz\r\n\" id=\"DejaVuSans-107\"/>\r\n      </defs>\r\n      <use xlink:href=\"#DejaVuSans-97\"/>\r\n      <use x=\"61.279297\" xlink:href=\"#DejaVuSans-118\"/>\r\n      <use x=\"120.458984\" xlink:href=\"#DejaVuSans-103\"/>\r\n      <use x=\"183.935547\" xlink:href=\"#DejaVuSans-95\"/>\r\n      <use x=\"233.935547\" xlink:href=\"#DejaVuSans-112\"/>\r\n      <use x=\"297.412109\" xlink:href=\"#DejaVuSans-114\"/>\r\n      <use x=\"338.525391\" xlink:href=\"#DejaVuSans-105\"/>\r\n      <use x=\"366.308594\" xlink:href=\"#DejaVuSans-99\"/>\r\n      <use x=\"421.289062\" xlink:href=\"#DejaVuSans-101\"/>\r\n      <use x=\"482.8125\" xlink:href=\"#DejaVuSans-95\"/>\r\n      <use x=\"532.8125\" xlink:href=\"#DejaVuSans-112\"/>\r\n      <use x=\"596.289062\" xlink:href=\"#DejaVuSans-101\"/>\r\n      <use x=\"657.8125\" xlink:href=\"#DejaVuSans-114\"/>\r\n      <use x=\"698.925781\" xlink:href=\"#DejaVuSans-95\"/>\r\n      <use x=\"748.925781\" xlink:href=\"#DejaVuSans-107\"/>\r\n      <use x=\"806.835938\" xlink:href=\"#DejaVuSans-103\"/>\r\n     </g>\r\n    </g>\r\n   </g>\r\n   <g id=\"matplotlib.axis_2\">\r\n    <g id=\"ytick_1\">\r\n     <g id=\"line2d_6\">\r\n      <defs>\r\n       <path d=\"M 0 0 \r\nL -3.5 0 \r\n\" id=\"m93c893ac6a\" style=\"stroke:#000000;stroke-width:0.8;\"/>\r\n      </defs>\r\n      <g>\r\n       <use style=\"stroke:#000000;stroke-width:0.8;\" x=\"50.14375\" xlink:href=\"#m93c893ac6a\" y=\"279\"/>\r\n      </g>\r\n     </g>\r\n     <g id=\"text_7\">\r\n      <!-- 0.00 -->\r\n      <g transform=\"translate(20.878125 282.799219)scale(0.1 -0.1)\">\r\n       <defs>\r\n        <path d=\"M 10.6875 12.40625 \r\nL 21 12.40625 \r\nL 21 0 \r\nL 10.6875 0 \r\nz\r\n\" id=\"DejaVuSans-46\"/>\r\n       </defs>\r\n       <use xlink:href=\"#DejaVuSans-48\"/>\r\n       <use x=\"63.623047\" xlink:href=\"#DejaVuSans-46\"/>\r\n       <use x=\"95.410156\" xlink:href=\"#DejaVuSans-48\"/>\r\n       <use x=\"159.033203\" xlink:href=\"#DejaVuSans-48\"/>\r\n      </g>\r\n     </g>\r\n    </g>\r\n    <g id=\"ytick_2\">\r\n     <g id=\"line2d_7\">\r\n      <g>\r\n       <use style=\"stroke:#000000;stroke-width:0.8;\" x=\"50.14375\" xlink:href=\"#m93c893ac6a\" y=\"218.984048\"/>\r\n      </g>\r\n     </g>\r\n     <g id=\"text_8\">\r\n      <!-- 0.05 -->\r\n      <g transform=\"translate(20.878125 222.783266)scale(0.1 -0.1)\">\r\n       <use xlink:href=\"#DejaVuSans-48\"/>\r\n       <use x=\"63.623047\" xlink:href=\"#DejaVuSans-46\"/>\r\n       <use x=\"95.410156\" xlink:href=\"#DejaVuSans-48\"/>\r\n       <use x=\"159.033203\" xlink:href=\"#DejaVuSans-53\"/>\r\n      </g>\r\n     </g>\r\n    </g>\r\n    <g id=\"ytick_3\">\r\n     <g id=\"line2d_8\">\r\n      <g>\r\n       <use style=\"stroke:#000000;stroke-width:0.8;\" x=\"50.14375\" xlink:href=\"#m93c893ac6a\" y=\"158.968095\"/>\r\n      </g>\r\n     </g>\r\n     <g id=\"text_9\">\r\n      <!-- 0.10 -->\r\n      <g transform=\"translate(20.878125 162.767314)scale(0.1 -0.1)\">\r\n       <use xlink:href=\"#DejaVuSans-48\"/>\r\n       <use x=\"63.623047\" xlink:href=\"#DejaVuSans-46\"/>\r\n       <use x=\"95.410156\" xlink:href=\"#DejaVuSans-49\"/>\r\n       <use x=\"159.033203\" xlink:href=\"#DejaVuSans-48\"/>\r\n      </g>\r\n     </g>\r\n    </g>\r\n    <g id=\"ytick_4\">\r\n     <g id=\"line2d_9\">\r\n      <g>\r\n       <use style=\"stroke:#000000;stroke-width:0.8;\" x=\"50.14375\" xlink:href=\"#m93c893ac6a\" y=\"98.952143\"/>\r\n      </g>\r\n     </g>\r\n     <g id=\"text_10\">\r\n      <!-- 0.15 -->\r\n      <g transform=\"translate(20.878125 102.751362)scale(0.1 -0.1)\">\r\n       <use xlink:href=\"#DejaVuSans-48\"/>\r\n       <use x=\"63.623047\" xlink:href=\"#DejaVuSans-46\"/>\r\n       <use x=\"95.410156\" xlink:href=\"#DejaVuSans-49\"/>\r\n       <use x=\"159.033203\" xlink:href=\"#DejaVuSans-53\"/>\r\n      </g>\r\n     </g>\r\n    </g>\r\n    <g id=\"ytick_5\">\r\n     <g id=\"line2d_10\">\r\n      <g>\r\n       <use style=\"stroke:#000000;stroke-width:0.8;\" x=\"50.14375\" xlink:href=\"#m93c893ac6a\" y=\"38.93619\"/>\r\n      </g>\r\n     </g>\r\n     <g id=\"text_11\">\r\n      <!-- 0.20 -->\r\n      <g transform=\"translate(20.878125 42.735409)scale(0.1 -0.1)\">\r\n       <use xlink:href=\"#DejaVuSans-48\"/>\r\n       <use x=\"63.623047\" xlink:href=\"#DejaVuSans-46\"/>\r\n       <use x=\"95.410156\" xlink:href=\"#DejaVuSans-50\"/>\r\n       <use x=\"159.033203\" xlink:href=\"#DejaVuSans-48\"/>\r\n      </g>\r\n     </g>\r\n    </g>\r\n    <g id=\"text_12\">\r\n     <!-- Density -->\r\n     <g transform=\"translate(14.798438 162.108594)rotate(-90)scale(0.1 -0.1)\">\r\n      <defs>\r\n       <path d=\"M 19.671875 64.796875 \r\nL 19.671875 8.109375 \r\nL 31.59375 8.109375 \r\nQ 46.6875 8.109375 53.6875 14.9375 \r\nQ 60.6875 21.78125 60.6875 36.53125 \r\nQ 60.6875 51.171875 53.6875 57.984375 \r\nQ 46.6875 64.796875 31.59375 64.796875 \r\nz\r\nM 9.8125 72.90625 \r\nL 30.078125 72.90625 \r\nQ 51.265625 72.90625 61.171875 64.09375 \r\nQ 71.09375 55.28125 71.09375 36.53125 \r\nQ 71.09375 17.671875 61.125 8.828125 \r\nQ 51.171875 0 30.078125 0 \r\nL 9.8125 0 \r\nz\r\n\" id=\"DejaVuSans-68\"/>\r\n       <path d=\"M 54.890625 33.015625 \r\nL 54.890625 0 \r\nL 45.90625 0 \r\nL 45.90625 32.71875 \r\nQ 45.90625 40.484375 42.875 44.328125 \r\nQ 39.84375 48.1875 33.796875 48.1875 \r\nQ 26.515625 48.1875 22.3125 43.546875 \r\nQ 18.109375 38.921875 18.109375 30.90625 \r\nL 18.109375 0 \r\nL 9.078125 0 \r\nL 9.078125 54.6875 \r\nL 18.109375 54.6875 \r\nL 18.109375 46.1875 \r\nQ 21.34375 51.125 25.703125 53.5625 \r\nQ 30.078125 56 35.796875 56 \r\nQ 45.21875 56 50.046875 50.171875 \r\nQ 54.890625 44.34375 54.890625 33.015625 \r\nz\r\n\" id=\"DejaVuSans-110\"/>\r\n       <path d=\"M 44.28125 53.078125 \r\nL 44.28125 44.578125 \r\nQ 40.484375 46.53125 36.375 47.5 \r\nQ 32.28125 48.484375 27.875 48.484375 \r\nQ 21.1875 48.484375 17.84375 46.4375 \r\nQ 14.5 44.390625 14.5 40.28125 \r\nQ 14.5 37.15625 16.890625 35.375 \r\nQ 19.28125 33.59375 26.515625 31.984375 \r\nL 29.59375 31.296875 \r\nQ 39.15625 29.25 43.1875 25.515625 \r\nQ 47.21875 21.78125 47.21875 15.09375 \r\nQ 47.21875 7.46875 41.1875 3.015625 \r\nQ 35.15625 -1.421875 24.609375 -1.421875 \r\nQ 20.21875 -1.421875 15.453125 -0.5625 \r\nQ 10.6875 0.296875 5.421875 2 \r\nL 5.421875 11.28125 \r\nQ 10.40625 8.6875 15.234375 7.390625 \r\nQ 20.0625 6.109375 24.8125 6.109375 \r\nQ 31.15625 6.109375 34.5625 8.28125 \r\nQ 37.984375 10.453125 37.984375 14.40625 \r\nQ 37.984375 18.0625 35.515625 20.015625 \r\nQ 33.0625 21.96875 24.703125 23.78125 \r\nL 21.578125 24.515625 \r\nQ 13.234375 26.265625 9.515625 29.90625 \r\nQ 5.8125 33.546875 5.8125 39.890625 \r\nQ 5.8125 47.609375 11.28125 51.796875 \r\nQ 16.75 56 26.8125 56 \r\nQ 31.78125 56 36.171875 55.265625 \r\nQ 40.578125 54.546875 44.28125 53.078125 \r\nz\r\n\" id=\"DejaVuSans-115\"/>\r\n       <path d=\"M 18.3125 70.21875 \r\nL 18.3125 54.6875 \r\nL 36.8125 54.6875 \r\nL 36.8125 47.703125 \r\nL 18.3125 47.703125 \r\nL 18.3125 18.015625 \r\nQ 18.3125 11.328125 20.140625 9.421875 \r\nQ 21.96875 7.515625 27.59375 7.515625 \r\nL 36.8125 7.515625 \r\nL 36.8125 0 \r\nL 27.59375 0 \r\nQ 17.1875 0 13.234375 3.875 \r\nQ 9.28125 7.765625 9.28125 18.015625 \r\nL 9.28125 47.703125 \r\nL 2.6875 47.703125 \r\nL 2.6875 54.6875 \r\nL 9.28125 54.6875 \r\nL 9.28125 70.21875 \r\nz\r\n\" id=\"DejaVuSans-116\"/>\r\n       <path d=\"M 32.171875 -5.078125 \r\nQ 28.375 -14.84375 24.75 -17.8125 \r\nQ 21.140625 -20.796875 15.09375 -20.796875 \r\nL 7.90625 -20.796875 \r\nL 7.90625 -13.28125 \r\nL 13.1875 -13.28125 \r\nQ 16.890625 -13.28125 18.9375 -11.515625 \r\nQ 21 -9.765625 23.484375 -3.21875 \r\nL 25.09375 0.875 \r\nL 2.984375 54.6875 \r\nL 12.5 54.6875 \r\nL 29.59375 11.921875 \r\nL 46.6875 54.6875 \r\nL 56.203125 54.6875 \r\nz\r\n\" id=\"DejaVuSans-121\"/>\r\n      </defs>\r\n      <use xlink:href=\"#DejaVuSans-68\"/>\r\n      <use x=\"77.001953\" xlink:href=\"#DejaVuSans-101\"/>\r\n      <use x=\"138.525391\" xlink:href=\"#DejaVuSans-110\"/>\r\n      <use x=\"201.904297\" xlink:href=\"#DejaVuSans-115\"/>\r\n      <use x=\"254.003906\" xlink:href=\"#DejaVuSans-105\"/>\r\n      <use x=\"281.787109\" xlink:href=\"#DejaVuSans-116\"/>\r\n      <use x=\"320.996094\" xlink:href=\"#DejaVuSans-121\"/>\r\n     </g>\r\n    </g>\r\n   </g>\r\n   <g id=\"line2d_11\">\r\n    <path clip-path=\"url(#p88549cb376)\" d=\"M 100.871023 278.990763 \r\nL 121.263896 278.862277 \r\nL 131.460333 278.59822 \r\nL 136.558551 278.35381 \r\nL 141.65677 277.996959 \r\nL 146.754988 277.492209 \r\nL 151.853206 276.798546 \r\nL 156.951425 275.871278 \r\nL 162.049643 274.666706 \r\nL 167.147861 273.150409 \r\nL 172.24608 271.308648 \r\nL 177.344298 269.160265 \r\nL 182.442517 266.764655 \r\nL 197.737172 259.205756 \r\nL 202.83539 256.983777 \r\nL 207.933608 255.068934 \r\nL 213.031827 253.493748 \r\nL 218.130045 252.251413 \r\nL 223.228263 251.311913 \r\nL 228.326482 250.63968 \r\nL 233.4247 250.204129 \r\nL 238.522919 249.978327 \r\nL 243.621137 249.927293 \r\nL 258.915792 250.080659 \r\nL 264.01401 249.845176 \r\nL 269.112229 249.246669 \r\nL 274.210447 248.175996 \r\nL 279.308665 246.549337 \r\nL 284.406884 244.293831 \r\nL 289.505102 241.320469 \r\nL 294.603321 237.497771 \r\nL 299.701539 232.644295 \r\nL 304.799757 226.554826 \r\nL 309.897976 219.063114 \r\nL 314.996194 210.126234 \r\nL 320.094412 199.899235 \r\nL 325.192631 188.762542 \r\nL 335.389067 166.052876 \r\nL 340.487286 155.60488 \r\nL 345.585504 146.185022 \r\nL 350.683723 137.719377 \r\nL 365.978378 113.912523 \r\nL 371.076596 105.200586 \r\nL 381.273033 86.913844 \r\nL 386.371251 78.397402 \r\nL 391.46947 71.109818 \r\nL 396.567688 65.472223 \r\nL 401.665906 61.624986 \r\nL 406.764125 59.432037 \r\nL 411.862343 58.573174 \r\nL 416.960561 58.680964 \r\nL 422.05878 59.466868 \r\nL 427.156998 60.7902 \r\nL 432.255216 62.64945 \r\nL 437.353435 65.108625 \r\nL 442.451653 68.19867 \r\nL 447.549872 71.843521 \r\nL 462.844527 83.911756 \r\nL 467.942745 87.625713 \r\nL 478.139182 94.635831 \r\nL 483.2374 98.368643 \r\nL 488.335618 102.545374 \r\nL 493.433837 107.253871 \r\nL 498.532055 112.428363 \r\nL 513.82671 128.614409 \r\nL 518.924929 133.556406 \r\nL 524.023147 138.164623 \r\nL 534.219584 146.80206 \r\nL 544.41602 155.511833 \r\nL 549.514239 160.068382 \r\nL 554.612457 164.794861 \r\nL 559.710676 169.749097 \r\nL 564.808894 175.046145 \r\nL 569.907112 180.838906 \r\nL 575.005331 187.258746 \r\nL 580.103549 194.34314 \r\nL 585.201767 201.987712 \r\nL 595.398204 217.902976 \r\nL 600.496422 225.522834 \r\nL 605.594641 232.558998 \r\nL 610.692859 238.873374 \r\nL 615.791078 244.432155 \r\nL 620.889296 249.267518 \r\nL 625.987514 253.433842 \r\nL 631.085733 256.980094 \r\nL 636.183951 259.946781 \r\nL 641.282169 262.38108 \r\nL 646.380388 264.355096 \r\nL 651.478606 265.97274 \r\nL 661.675043 268.633203 \r\nL 682.067916 273.626271 \r\nL 687.166135 274.717738 \r\nL 692.264353 275.62924 \r\nL 697.362571 276.322532 \r\nL 702.46079 276.784445 \r\nL 707.559008 277.022705 \r\nL 712.657226 277.059002 \r\nL 717.755445 276.923809 \r\nL 727.951882 276.298784 \r\nL 738.148318 275.555114 \r\nL 743.246537 275.292746 \r\nL 748.344755 275.174736 \r\nL 753.442973 275.228678 \r\nL 758.541192 275.452135 \r\nL 768.737628 276.258553 \r\nL 778.934065 277.167925 \r\nL 789.130502 277.838395 \r\nL 799.326939 278.223717 \r\nL 819.719812 278.645922 \r\nL 840.112686 278.912375 \r\nL 865.603777 278.995729 \r\nL 1003.255673 278.969306 \r\nL 1023.648547 278.809736 \r\nL 1054.237857 278.504999 \r\nL 1069.532512 278.641666 \r\nL 1095.023604 278.936181 \r\nL 1115.416477 278.994485 \r\nL 1115.416477 278.994485 \r\n\" style=\"fill:none;stroke:#1f77b4;stroke-linecap:square;stroke-width:1.5;\"/>\r\n   </g>\r\n   <g id=\"patch_50\">\r\n    <path d=\"M 50.14375 279 \r\nL 50.14375 7.2 \r\n\" style=\"fill:none;stroke:#000000;stroke-linecap:square;stroke-linejoin:miter;stroke-width:0.8;\"/>\r\n   </g>\r\n   <g id=\"patch_51\">\r\n    <path d=\"M 1166.14375 279 \r\nL 1166.14375 7.2 \r\n\" style=\"fill:none;stroke:#000000;stroke-linecap:square;stroke-linejoin:miter;stroke-width:0.8;\"/>\r\n   </g>\r\n   <g id=\"patch_52\">\r\n    <path d=\"M 50.14375 279 \r\nL 1166.14375 279 \r\n\" style=\"fill:none;stroke:#000000;stroke-linecap:square;stroke-linejoin:miter;stroke-width:0.8;\"/>\r\n   </g>\r\n   <g id=\"patch_53\">\r\n    <path d=\"M 50.14375 7.2 \r\nL 1166.14375 7.2 \r\n\" style=\"fill:none;stroke:#000000;stroke-linecap:square;stroke-linejoin:miter;stroke-width:0.8;\"/>\r\n   </g>\r\n  </g>\r\n </g>\r\n <defs>\r\n  <clipPath id=\"p88549cb376\">\r\n   <rect height=\"271.8\" width=\"1116\" x=\"50.14375\" y=\"7.2\"/>\r\n  </clipPath>\r\n </defs>\r\n</svg>\r\n",
      "image/png": "[encoded data removed]"
     },
     "metadata": {
      "needs_background": "light"
     }
    }
   ],
   "source": [
    "fig, ax = plt.subplots(figsize=(20,5))\n",
    "sns.distplot(train['avg_price_per_kg'], kde=True)"
   ]
  },
  {
   "cell_type": "code",
   "execution_count": 39,
   "metadata": {},
   "outputs": [
    {
     "output_type": "execute_result",
     "data": {
      "text/plain": [
       "    Weight_Kg  Low_Price  High_Price  Sales_Total  Total_Qty_Sold  \\\n",
       "1        18.3      150.0       170.0      51710.0             332   \n",
       "7        11.0       50.0        50.0      16000.0             320   \n",
       "24        9.0       55.0        55.0        990.0              18   \n",
       "40       18.3       80.0       120.0      32020.0             388   \n",
       "69      400.0     1800.0      1800.0       1800.0               1   \n",
       "\n",
       "    Total_Kg_Sold  Stock_On_Hand  avg_price_per_kg  Province_CAPE  \\\n",
       "1          6075.6            822              8.51              1   \n",
       "7          3520.0              0              4.55              1   \n",
       "24          162.0           1506              6.11              0   \n",
       "40         7100.4            443              4.51              1   \n",
       "69          400.0              2              4.50              0   \n",
       "\n",
       "    Province_EASTERN CAPE  ...  Date_2020-09-07  Date_2020-09-09  \\\n",
       "1                       0  ...                0                1   \n",
       "7                       0  ...                0                0   \n",
       "24                      0  ...                0                0   \n",
       "40                      0  ...                0                0   \n",
       "69                      1  ...                0                0   \n",
       "\n",
       "    Date_2020-09-16  Date_2020-09-17  Date_2020-09-19  Date_2020-09-21  \\\n",
       "1                 0                0                0                0   \n",
       "7                 0                0                0                0   \n",
       "24                0                0                0                0   \n",
       "40                0                0                0                0   \n",
       "69                0                0                0                0   \n",
       "\n",
       "    Date_2020-09-23  Date_2020-09-28  Date_2020-10-01  Date_2020-10-03  \n",
       "1                 0                0                0                0  \n",
       "7                 0                0                0                0  \n",
       "24                0                0                0                0  \n",
       "40                0                0                0                0  \n",
       "69                0                1                0                0  \n",
       "\n",
       "[5 rows x 184 columns]"
      ],
      "text/html": "<div>\n<style scoped>\n    .dataframe tbody tr th:only-of-type {\n        vertical-align: middle;\n    }\n\n    .dataframe tbody tr th {\n        vertical-align: top;\n    }\n\n    .dataframe thead th {\n        text-align: right;\n    }\n</style>\n<table border=\"1\" class=\"dataframe\">\n  <thead>\n    <tr style=\"text-align: right;\">\n      <th></th>\n      <th>Weight_Kg</th>\n      <th>Low_Price</th>\n      <th>High_Price</th>\n      <th>Sales_Total</th>\n      <th>Total_Qty_Sold</th>\n      <th>Total_Kg_Sold</th>\n      <th>Stock_On_Hand</th>\n      <th>avg_price_per_kg</th>\n      <th>Province_CAPE</th>\n      <th>Province_EASTERN CAPE</th>\n      <th>...</th>\n      <th>Date_2020-09-07</th>\n      <th>Date_2020-09-09</th>\n      <th>Date_2020-09-16</th>\n      <th>Date_2020-09-17</th>\n      <th>Date_2020-09-19</th>\n      <th>Date_2020-09-21</th>\n      <th>Date_2020-09-23</th>\n      <th>Date_2020-09-28</th>\n      <th>Date_2020-10-01</th>\n      <th>Date_2020-10-03</th>\n    </tr>\n  </thead>\n  <tbody>\n    <tr>\n      <th>1</th>\n      <td>18.3</td>\n      <td>150.0</td>\n      <td>170.0</td>\n      <td>51710.0</td>\n      <td>332</td>\n      <td>6075.6</td>\n      <td>822</td>\n      <td>8.51</td>\n      <td>1</td>\n      <td>0</td>\n      <td>...</td>\n      <td>0</td>\n      <td>1</td>\n      <td>0</td>\n      <td>0</td>\n      <td>0</td>\n      <td>0</td>\n      <td>0</td>\n      <td>0</td>\n      <td>0</td>\n      <td>0</td>\n    </tr>\n    <tr>\n      <th>7</th>\n      <td>11.0</td>\n      <td>50.0</td>\n      <td>50.0</td>\n      <td>16000.0</td>\n      <td>320</td>\n      <td>3520.0</td>\n      <td>0</td>\n      <td>4.55</td>\n      <td>1</td>\n      <td>0</td>\n      <td>...</td>\n      <td>0</td>\n      <td>0</td>\n      <td>0</td>\n      <td>0</td>\n      <td>0</td>\n      <td>0</td>\n      <td>0</td>\n      <td>0</td>\n      <td>0</td>\n      <td>0</td>\n    </tr>\n    <tr>\n      <th>24</th>\n      <td>9.0</td>\n      <td>55.0</td>\n      <td>55.0</td>\n      <td>990.0</td>\n      <td>18</td>\n      <td>162.0</td>\n      <td>1506</td>\n      <td>6.11</td>\n      <td>0</td>\n      <td>0</td>\n      <td>...</td>\n      <td>0</td>\n      <td>0</td>\n      <td>0</td>\n      <td>0</td>\n      <td>0</td>\n      <td>0</td>\n      <td>0</td>\n      <td>0</td>\n      <td>0</td>\n      <td>0</td>\n    </tr>\n    <tr>\n      <th>40</th>\n      <td>18.3</td>\n      <td>80.0</td>\n      <td>120.0</td>\n      <td>32020.0</td>\n      <td>388</td>\n      <td>7100.4</td>\n      <td>443</td>\n      <td>4.51</td>\n      <td>1</td>\n      <td>0</td>\n      <td>...</td>\n      <td>0</td>\n      <td>0</td>\n      <td>0</td>\n      <td>0</td>\n      <td>0</td>\n      <td>0</td>\n      <td>0</td>\n      <td>0</td>\n      <td>0</td>\n      <td>0</td>\n    </tr>\n    <tr>\n      <th>69</th>\n      <td>400.0</td>\n      <td>1800.0</td>\n      <td>1800.0</td>\n      <td>1800.0</td>\n      <td>1</td>\n      <td>400.0</td>\n      <td>2</td>\n      <td>4.50</td>\n      <td>0</td>\n      <td>1</td>\n      <td>...</td>\n      <td>0</td>\n      <td>0</td>\n      <td>0</td>\n      <td>0</td>\n      <td>0</td>\n      <td>0</td>\n      <td>0</td>\n      <td>1</td>\n      <td>0</td>\n      <td>0</td>\n    </tr>\n  </tbody>\n</table>\n<p>5 rows × 184 columns</p>\n</div>"
     },
     "metadata": {},
     "execution_count": 39
    }
   ],
   "source": [
    "dummy_df = pd.get_dummies(train)\n",
    "dummy_df.head()"
   ]
  },
  {
   "cell_type": "code",
   "execution_count": 40,
   "metadata": {},
   "outputs": [
    {
     "output_type": "execute_result",
     "data": {
      "text/plain": [
       "Index(['Weight_Kg', 'Low_Price', 'High_Price', 'Sales_Total', 'Total_Qty_Sold',\n",
       "       'Total_Kg_Sold', 'Stock_On_Hand', 'avg_price_per_kg', 'Province_CAPE',\n",
       "       'Province_EASTERN CAPE',\n",
       "       ...\n",
       "       'Date_2020-09-07', 'Date_2020-09-09', 'Date_2020-09-16',\n",
       "       'Date_2020-09-17', 'Date_2020-09-19', 'Date_2020-09-21',\n",
       "       'Date_2020-09-23', 'Date_2020-09-28', 'Date_2020-10-01',\n",
       "       'Date_2020-10-03'],\n",
       "      dtype='object', length=184)"
      ]
     },
     "metadata": {},
     "execution_count": 40
    }
   ],
   "source": [
    "dummy_df.columns"
   ]
  },
  {
   "cell_type": "code",
   "execution_count": 41,
   "metadata": {},
   "outputs": [],
   "source": [
    "column_titles = [col for col in dummy_df.columns if col!= 'avg_price_per_kg'] + ['avg_price_per_kg']\n",
    "dummy_df=dummy_df.reindex(columns=column_titles)"
   ]
  },
  {
   "cell_type": "code",
   "execution_count": 42,
   "metadata": {},
   "outputs": [
    {
     "output_type": "execute_result",
     "data": {
      "text/plain": [
       "                               Correlation\n",
       "avg_price_per_kg                  1.000000\n",
       "Container_M4183                   0.403229\n",
       "Size_Grade_1L                     0.280966\n",
       "Province_W.CAPE-BERGRIVER ETC     0.262051\n",
       "Size_Grade_1X                     0.251451"
      ],
      "text/html": "<div>\n<style scoped>\n    .dataframe tbody tr th:only-of-type {\n        vertical-align: middle;\n    }\n\n    .dataframe tbody tr th {\n        vertical-align: top;\n    }\n\n    .dataframe thead th {\n        text-align: right;\n    }\n</style>\n<table border=\"1\" class=\"dataframe\">\n  <thead>\n    <tr style=\"text-align: right;\">\n      <th></th>\n      <th>Correlation</th>\n    </tr>\n  </thead>\n  <tbody>\n    <tr>\n      <th>avg_price_per_kg</th>\n      <td>1.000000</td>\n    </tr>\n    <tr>\n      <th>Container_M4183</th>\n      <td>0.403229</td>\n    </tr>\n    <tr>\n      <th>Size_Grade_1L</th>\n      <td>0.280966</td>\n    </tr>\n    <tr>\n      <th>Province_W.CAPE-BERGRIVER ETC</th>\n      <td>0.262051</td>\n    </tr>\n    <tr>\n      <th>Size_Grade_1X</th>\n      <td>0.251451</td>\n    </tr>\n  </tbody>\n</table>\n</div>"
     },
     "metadata": {},
     "execution_count": 42
    }
   ],
   "source": [
    "# Target correlations with features\n",
    "corrs = pd.DataFrame(dummy_df.corr()['avg_price_per_kg']).rename(columns = {'avg_price_per_kg':'Correlation'})\n",
    "corrs.sort_values(by='Correlation',ascending=False, inplace=True)\n",
    "corrs.head()"
   ]
  },
  {
   "cell_type": "code",
   "execution_count": 43,
   "metadata": {},
   "outputs": [
    {
     "output_type": "execute_result",
     "data": {
      "text/plain": [
       "Empty DataFrame\n",
       "Columns: []\n",
       "Index: []"
      ],
      "text/html": "<div>\n<style scoped>\n    .dataframe tbody tr th:only-of-type {\n        vertical-align: middle;\n    }\n\n    .dataframe tbody tr th {\n        vertical-align: top;\n    }\n\n    .dataframe thead th {\n        text-align: right;\n    }\n</style>\n<table border=\"1\" class=\"dataframe\">\n  <thead>\n    <tr style=\"text-align: right;\">\n      <th></th>\n    </tr>\n  </thead>\n  <tbody>\n  </tbody>\n</table>\n</div>"
     },
     "metadata": {},
     "execution_count": 43
    }
   ],
   "source": [
    "# As before, we create the correlation matrix\n",
    "# and find rows and columnd where correlation coefficients > 0.9 or <-0.9\n",
    "#corr = X_data.corr()\n",
    "r, c = np.where(np.abs(corrs) > 0.9)\n",
    "\n",
    "# We are only interested in the off diagonal entries:\n",
    "off_diagonal = np.where(r != c)\n",
    "\n",
    "# Show the correlation matrix rows and columns where we have highly correlated off diagonal entries:\n",
    "corrs.iloc[r[off_diagonal], c[off_diagonal]]"
   ]
  },
  {
   "source": [],
   "cell_type": "markdown",
   "metadata": {}
  },
  {
   "cell_type": "code",
   "execution_count": 44,
   "metadata": {},
   "outputs": [
    {
     "output_type": "stream",
     "name": "stdout",
     "text": [
      "Your selected dataframe has 184 columns.\nThere are 0 columns that have missing values.\n"
     ]
    },
    {
     "output_type": "execute_result",
     "data": {
      "text/plain": [
       "Empty DataFrame\n",
       "Columns: [Missing Values, % of Total Values]\n",
       "Index: []"
      ],
      "text/html": "<div>\n<style scoped>\n    .dataframe tbody tr th:only-of-type {\n        vertical-align: middle;\n    }\n\n    .dataframe tbody tr th {\n        vertical-align: top;\n    }\n\n    .dataframe thead th {\n        text-align: right;\n    }\n</style>\n<table border=\"1\" class=\"dataframe\">\n  <thead>\n    <tr style=\"text-align: right;\">\n      <th></th>\n      <th>Missing Values</th>\n      <th>% of Total Values</th>\n    </tr>\n  </thead>\n  <tbody>\n  </tbody>\n</table>\n</div>"
     },
     "metadata": {},
     "execution_count": 44
    }
   ],
   "source": [
    "missing_values_table(dummy_df)"
   ]
  },
  {
   "cell_type": "code",
   "execution_count": 45,
   "metadata": {},
   "outputs": [
    {
     "output_type": "execute_result",
     "data": {
      "text/plain": [
       "    Weight_Kg  Low_Price  High_Price  Sales_Total  Total_Qty_Sold  \\\n",
       "1        18.3      150.0       170.0      51710.0             332   \n",
       "7        11.0       50.0        50.0      16000.0             320   \n",
       "24        9.0       55.0        55.0        990.0              18   \n",
       "40       18.3       80.0       120.0      32020.0             388   \n",
       "69      400.0     1800.0      1800.0       1800.0               1   \n",
       "\n",
       "    Total_Kg_Sold  Stock_On_Hand  Province_CAPE  Province_EASTERN CAPE  \\\n",
       "1          6075.6            822              1                      0   \n",
       "7          3520.0              0              1                      0   \n",
       "24          162.0           1506              0                      0   \n",
       "40         7100.4            443              1                      0   \n",
       "69          400.0              2              0                      1   \n",
       "\n",
       "    Province_NATAL  ...  Date_2020-09-09  Date_2020-09-16  Date_2020-09-17  \\\n",
       "1                0  ...                1                0                0   \n",
       "7                0  ...                0                0                0   \n",
       "24               0  ...                0                0                0   \n",
       "40               0  ...                0                0                0   \n",
       "69               0  ...                0                0                0   \n",
       "\n",
       "    Date_2020-09-19  Date_2020-09-21  Date_2020-09-23  Date_2020-09-28  \\\n",
       "1                 0                0                0                0   \n",
       "7                 0                0                0                0   \n",
       "24                0                0                0                0   \n",
       "40                0                0                0                0   \n",
       "69                0                0                0                1   \n",
       "\n",
       "    Date_2020-10-01  Date_2020-10-03  avg_price_per_kg  \n",
       "1                 0                0              8.51  \n",
       "7                 0                0              4.55  \n",
       "24                0                0              6.11  \n",
       "40                0                0              4.51  \n",
       "69                0                0              4.50  \n",
       "\n",
       "[5 rows x 184 columns]"
      ],
      "text/html": "<div>\n<style scoped>\n    .dataframe tbody tr th:only-of-type {\n        vertical-align: middle;\n    }\n\n    .dataframe tbody tr th {\n        vertical-align: top;\n    }\n\n    .dataframe thead th {\n        text-align: right;\n    }\n</style>\n<table border=\"1\" class=\"dataframe\">\n  <thead>\n    <tr style=\"text-align: right;\">\n      <th></th>\n      <th>Weight_Kg</th>\n      <th>Low_Price</th>\n      <th>High_Price</th>\n      <th>Sales_Total</th>\n      <th>Total_Qty_Sold</th>\n      <th>Total_Kg_Sold</th>\n      <th>Stock_On_Hand</th>\n      <th>Province_CAPE</th>\n      <th>Province_EASTERN CAPE</th>\n      <th>Province_NATAL</th>\n      <th>...</th>\n      <th>Date_2020-09-09</th>\n      <th>Date_2020-09-16</th>\n      <th>Date_2020-09-17</th>\n      <th>Date_2020-09-19</th>\n      <th>Date_2020-09-21</th>\n      <th>Date_2020-09-23</th>\n      <th>Date_2020-09-28</th>\n      <th>Date_2020-10-01</th>\n      <th>Date_2020-10-03</th>\n      <th>avg_price_per_kg</th>\n    </tr>\n  </thead>\n  <tbody>\n    <tr>\n      <th>1</th>\n      <td>18.3</td>\n      <td>150.0</td>\n      <td>170.0</td>\n      <td>51710.0</td>\n      <td>332</td>\n      <td>6075.6</td>\n      <td>822</td>\n      <td>1</td>\n      <td>0</td>\n      <td>0</td>\n      <td>...</td>\n      <td>1</td>\n      <td>0</td>\n      <td>0</td>\n      <td>0</td>\n      <td>0</td>\n      <td>0</td>\n      <td>0</td>\n      <td>0</td>\n      <td>0</td>\n      <td>8.51</td>\n    </tr>\n    <tr>\n      <th>7</th>\n      <td>11.0</td>\n      <td>50.0</td>\n      <td>50.0</td>\n      <td>16000.0</td>\n      <td>320</td>\n      <td>3520.0</td>\n      <td>0</td>\n      <td>1</td>\n      <td>0</td>\n      <td>0</td>\n      <td>...</td>\n      <td>0</td>\n      <td>0</td>\n      <td>0</td>\n      <td>0</td>\n      <td>0</td>\n      <td>0</td>\n      <td>0</td>\n      <td>0</td>\n      <td>0</td>\n      <td>4.55</td>\n    </tr>\n    <tr>\n      <th>24</th>\n      <td>9.0</td>\n      <td>55.0</td>\n      <td>55.0</td>\n      <td>990.0</td>\n      <td>18</td>\n      <td>162.0</td>\n      <td>1506</td>\n      <td>0</td>\n      <td>0</td>\n      <td>0</td>\n      <td>...</td>\n      <td>0</td>\n      <td>0</td>\n      <td>0</td>\n      <td>0</td>\n      <td>0</td>\n      <td>0</td>\n      <td>0</td>\n      <td>0</td>\n      <td>0</td>\n      <td>6.11</td>\n    </tr>\n    <tr>\n      <th>40</th>\n      <td>18.3</td>\n      <td>80.0</td>\n      <td>120.0</td>\n      <td>32020.0</td>\n      <td>388</td>\n      <td>7100.4</td>\n      <td>443</td>\n      <td>1</td>\n      <td>0</td>\n      <td>0</td>\n      <td>...</td>\n      <td>0</td>\n      <td>0</td>\n      <td>0</td>\n      <td>0</td>\n      <td>0</td>\n      <td>0</td>\n      <td>0</td>\n      <td>0</td>\n      <td>0</td>\n      <td>4.51</td>\n    </tr>\n    <tr>\n      <th>69</th>\n      <td>400.0</td>\n      <td>1800.0</td>\n      <td>1800.0</td>\n      <td>1800.0</td>\n      <td>1</td>\n      <td>400.0</td>\n      <td>2</td>\n      <td>0</td>\n      <td>1</td>\n      <td>0</td>\n      <td>...</td>\n      <td>0</td>\n      <td>0</td>\n      <td>0</td>\n      <td>0</td>\n      <td>0</td>\n      <td>0</td>\n      <td>1</td>\n      <td>0</td>\n      <td>0</td>\n      <td>4.50</td>\n    </tr>\n  </tbody>\n</table>\n<p>5 rows × 184 columns</p>\n</div>"
     },
     "metadata": {},
     "execution_count": 45
    }
   ],
   "source": [
    "dummy_df.head()"
   ]
  },
  {
   "source": [],
   "cell_type": "markdown",
   "metadata": {}
  },
  {
   "cell_type": "code",
   "execution_count": 22,
   "metadata": {},
   "outputs": [],
   "source": [
    "# Function to fit data, make predictions, and evaluate model\n",
    "def rmse(y_test, y_pred):\n",
    "    return np.sqrt(mean_squared_error(y_pred,y_test))\n",
    "\n",
    "def r_squared(y_test, y_pred):\n",
    "    return r2_score(y_test, y_pred)\n",
    "    \n",
    "# Takes in a model, trains the model, and evaluates the model on the test set\n",
    "def fit_and_evaluate(model,X,y):\n",
    "    \n",
    "    X_train, X_test, y_train, y_test = train_test_split(X, y, test_size = 0.2,random_state=42)\n",
    "    # Train the model\n",
    "    model.fit(X_train, y_train)\n",
    "    \n",
    "    # Make predictions and evalute\n",
    "    train_pred = model.predict(X_train)\n",
    "    test_pred = model.predict(X_test)\n",
    "    \n",
    "    train_rmse = rmse(y_train, train_pred)\n",
    "    test_rmse = rmse(y_test, test_pred)\n",
    "    \n",
    "    train_r2 = r_squared(y_train, train_pred)\n",
    "    test_r2 = r_squared(y_test, test_pred)\n",
    "    \n",
    "    df = {'Train RMSE': train_rmse,'Train R^2':train_r2,'Test RMSE': test_rmse,'Test R^2':test_r2}\n",
    "    \n",
    "    return df"
   ]
  },
  {
   "cell_type": "code",
   "execution_count": 23,
   "metadata": {},
   "outputs": [
    {
     "output_type": "execute_result",
     "data": {
      "text/plain": [
       "(1952,)"
      ]
     },
     "metadata": {},
     "execution_count": 23
    }
   ],
   "source": [
    "# Our model will be the same throughout, so will our y\n",
    "model = LinearRegression(n_jobs=-1)\n",
    "y = train['avg_price_per_kg']\n",
    "y.shape"
   ]
  },
  {
   "cell_type": "code",
   "execution_count": 24,
   "metadata": {},
   "outputs": [
    {
     "output_type": "execute_result",
     "data": {
      "text/plain": [
       "{'Train RMSE': 2.141562200474744,\n",
       " 'Train R^2': 0.11028193098883021,\n",
       " 'Test RMSE': 2.0112189625232535,\n",
       " 'Test R^2': 0.12825310685500813}"
      ]
     },
     "metadata": {},
     "execution_count": 24
    }
   ],
   "source": [
    "X = train['Weight_Kg'].values.reshape(-1,1)\n",
    "fit_and_evaluate(model,X,y)"
   ]
  },
  {
   "cell_type": "code",
   "execution_count": 25,
   "metadata": {},
   "outputs": [
    {
     "output_type": "execute_result",
     "data": {
      "text/plain": [
       "{'Train RMSE': 2.249765474546225,\n",
       " 'Train R^2': 0.01810393289249601,\n",
       " 'Test RMSE': 2.126871344094777,\n",
       " 'Test R^2': 0.02511331688069718}"
      ]
     },
     "metadata": {},
     "execution_count": 25
    }
   ],
   "source": [
    "X = train['Low_Price'].values.reshape(-1,1)\n",
    "fit_and_evaluate(model,X,y)"
   ]
  },
  {
   "cell_type": "code",
   "execution_count": 26,
   "metadata": {},
   "outputs": [
    {
     "output_type": "execute_result",
     "data": {
      "text/plain": [
       "{'Train RMSE': 1.8029960581006492,\n",
       " 'Train R^2': 0.36936135627478095,\n",
       " 'Test RMSE': 1.7190231085203471,\n",
       " 'Test R^2': 0.3631529698372783}"
      ]
     },
     "metadata": {},
     "execution_count": 26
    }
   ],
   "source": [
    "X = train[['Weight_Kg','Low_Price','High_Price','Sales_Total','Total_Qty_Sold','Total_Kg_Sold','Stock_On_Hand'\t]].values\n",
    "fit_and_evaluate(model,X,y)"
   ]
  },
  {
   "cell_type": "code",
   "execution_count": 28,
   "metadata": {},
   "outputs": [
    {
     "output_type": "execute_result",
     "data": {
      "text/plain": [
       "LinearRegression(n_jobs=-1)"
      ]
     },
     "metadata": {},
     "execution_count": 28
    }
   ],
   "source": [
    "X = train[['Weight_Kg','Low_Price','High_Price','Sales_Total','Total_Qty_Sold','Total_Kg_Sold','Stock_On_Hand'\t]].values\n",
    "X_train, X_test, y_train, y_test = train_test_split(X, y, test_size = 0.2,random_state=4)\n",
    "model.fit(X_train, y_train)"
   ]
  },
  {
   "source": [
    "# fit the model to the data and make predictions - all features\n",
    "X = dummy_df.drop('avg_price_per_kg',axis=1).values\n",
    "y = dummy_df['avg_price_per_kg']\n",
    "\n",
    "fit_and_evaluate(model,X,y)"
   ],
   "cell_type": "code",
   "metadata": {},
   "execution_count": null,
   "outputs": []
  },
  {
   "cell_type": "code",
   "execution_count": 49,
   "metadata": {},
   "outputs": [
    {
     "output_type": "execute_result",
     "data": {
      "text/plain": [
       "{'Train RMSE': 3.2563576483983262e-12,\n",
       " 'Train R^2': 1.0,\n",
       " 'Test RMSE': 3.0276208887740856e-12,\n",
       " 'Test R^2': 1.0}"
      ]
     },
     "metadata": {},
     "execution_count": 49
    }
   ],
   "source": [
    "X = dummy_df.drop(columns = ['Date_2020-01-21', 'Date_2020-02-08', 'Date_2020-09-16'],axis=1)\n",
    "y = dummy_df['avg_price_per_kg']\n",
    "\n",
    "fit_and_evaluate(model,X,y)"
   ]
  },
  {
   "cell_type": "code",
   "execution_count": 50,
   "metadata": {},
   "outputs": [
    {
     "output_type": "execute_result",
     "data": {
      "text/plain": [
       "(1952, 184)"
      ]
     },
     "metadata": {},
     "execution_count": 50
    }
   ],
   "source": [
    "dummy_df.shape"
   ]
  },
  {
   "cell_type": "code",
   "execution_count": 29,
   "metadata": {},
   "outputs": [],
   "source": [
    "# save the model\n",
    "import pickle\n",
    "\n",
    "model_load_path= \"model.pkl\"\n",
    "with open(model_load_path, 'wb') as file:\n",
    "    pickle.dump(model, file)\n",
    "\n",
    "with open(model_load_path,'rb') as file:\n",
    "    mod = pickle.load(file)"
   ]
  },
  {
   "source": [],
   "cell_type": "markdown",
   "metadata": {}
  },
  {
   "cell_type": "code",
   "execution_count": 30,
   "metadata": {},
   "outputs": [
    {
     "output_type": "execute_result",
     "data": {
      "text/plain": [
       "((1952, 13), (685, 13))"
      ]
     },
     "metadata": {},
     "execution_count": 30
    }
   ],
   "source": [
    "train.shape,test.shape"
   ]
  },
  {
   "cell_type": "code",
   "execution_count": 54,
   "metadata": {},
   "outputs": [
    {
     "output_type": "execute_result",
     "data": {
      "text/plain": [
       "   Index  Weight_Kg  Low_Price  High_Price  Sales_Total  Total_Qty_Sold  \\\n",
       "0      1       12.0      128.0       136.0       5008.0              38   \n",
       "1      2       18.3      220.0       220.0       1760.0               8   \n",
       "2      3       12.0      120.0       120.0        720.0               6   \n",
       "3      4       18.3      160.0       160.0        160.0               1   \n",
       "4      5       18.3      140.0       160.0      14140.0             100   \n",
       "\n",
       "   Total_Kg_Sold  Stock_On_Hand  Province_CAPE  Province_EASTERN CAPE  ...  \\\n",
       "0          456.0              0              0                      0  ...   \n",
       "1          146.4              2              0                      0  ...   \n",
       "2           72.0             45              0                      0  ...   \n",
       "3           18.3              8              0                      0  ...   \n",
       "4         1830.0             19              0                      0  ...   \n",
       "\n",
       "   Date_2020-09-03  Date_2020-09-07  Date_2020-09-09  Date_2020-09-17  \\\n",
       "0                0                0                0                0   \n",
       "1                0                0                0                0   \n",
       "2                0                0                0                0   \n",
       "3                0                0                0                0   \n",
       "4                0                0                0                0   \n",
       "\n",
       "   Date_2020-09-19  Date_2020-09-21  Date_2020-09-23  Date_2020-09-28  \\\n",
       "0                0                0                0                0   \n",
       "1                0                0                0                0   \n",
       "2                0                0                0                0   \n",
       "3                0                0                0                0   \n",
       "4                0                0                0                0   \n",
       "\n",
       "   Date_2020-10-01  Date_2020-10-03  \n",
       "0                0                0  \n",
       "1                0                0  \n",
       "2                0                0  \n",
       "3                0                0  \n",
       "4                0                0  \n",
       "\n",
       "[5 rows x 181 columns]"
      ],
      "text/html": "<div>\n<style scoped>\n    .dataframe tbody tr th:only-of-type {\n        vertical-align: middle;\n    }\n\n    .dataframe tbody tr th {\n        vertical-align: top;\n    }\n\n    .dataframe thead th {\n        text-align: right;\n    }\n</style>\n<table border=\"1\" class=\"dataframe\">\n  <thead>\n    <tr style=\"text-align: right;\">\n      <th></th>\n      <th>Index</th>\n      <th>Weight_Kg</th>\n      <th>Low_Price</th>\n      <th>High_Price</th>\n      <th>Sales_Total</th>\n      <th>Total_Qty_Sold</th>\n      <th>Total_Kg_Sold</th>\n      <th>Stock_On_Hand</th>\n      <th>Province_CAPE</th>\n      <th>Province_EASTERN CAPE</th>\n      <th>...</th>\n      <th>Date_2020-09-03</th>\n      <th>Date_2020-09-07</th>\n      <th>Date_2020-09-09</th>\n      <th>Date_2020-09-17</th>\n      <th>Date_2020-09-19</th>\n      <th>Date_2020-09-21</th>\n      <th>Date_2020-09-23</th>\n      <th>Date_2020-09-28</th>\n      <th>Date_2020-10-01</th>\n      <th>Date_2020-10-03</th>\n    </tr>\n  </thead>\n  <tbody>\n    <tr>\n      <th>0</th>\n      <td>1</td>\n      <td>12.0</td>\n      <td>128.0</td>\n      <td>136.0</td>\n      <td>5008.0</td>\n      <td>38</td>\n      <td>456.0</td>\n      <td>0</td>\n      <td>0</td>\n      <td>0</td>\n      <td>...</td>\n      <td>0</td>\n      <td>0</td>\n      <td>0</td>\n      <td>0</td>\n      <td>0</td>\n      <td>0</td>\n      <td>0</td>\n      <td>0</td>\n      <td>0</td>\n      <td>0</td>\n    </tr>\n    <tr>\n      <th>1</th>\n      <td>2</td>\n      <td>18.3</td>\n      <td>220.0</td>\n      <td>220.0</td>\n      <td>1760.0</td>\n      <td>8</td>\n      <td>146.4</td>\n      <td>2</td>\n      <td>0</td>\n      <td>0</td>\n      <td>...</td>\n      <td>0</td>\n      <td>0</td>\n      <td>0</td>\n      <td>0</td>\n      <td>0</td>\n      <td>0</td>\n      <td>0</td>\n      <td>0</td>\n      <td>0</td>\n      <td>0</td>\n    </tr>\n    <tr>\n      <th>2</th>\n      <td>3</td>\n      <td>12.0</td>\n      <td>120.0</td>\n      <td>120.0</td>\n      <td>720.0</td>\n      <td>6</td>\n      <td>72.0</td>\n      <td>45</td>\n      <td>0</td>\n      <td>0</td>\n      <td>...</td>\n      <td>0</td>\n      <td>0</td>\n      <td>0</td>\n      <td>0</td>\n      <td>0</td>\n      <td>0</td>\n      <td>0</td>\n      <td>0</td>\n      <td>0</td>\n      <td>0</td>\n    </tr>\n    <tr>\n      <th>3</th>\n      <td>4</td>\n      <td>18.3</td>\n      <td>160.0</td>\n      <td>160.0</td>\n      <td>160.0</td>\n      <td>1</td>\n      <td>18.3</td>\n      <td>8</td>\n      <td>0</td>\n      <td>0</td>\n      <td>...</td>\n      <td>0</td>\n      <td>0</td>\n      <td>0</td>\n      <td>0</td>\n      <td>0</td>\n      <td>0</td>\n      <td>0</td>\n      <td>0</td>\n      <td>0</td>\n      <td>0</td>\n    </tr>\n    <tr>\n      <th>4</th>\n      <td>5</td>\n      <td>18.3</td>\n      <td>140.0</td>\n      <td>160.0</td>\n      <td>14140.0</td>\n      <td>100</td>\n      <td>1830.0</td>\n      <td>19</td>\n      <td>0</td>\n      <td>0</td>\n      <td>...</td>\n      <td>0</td>\n      <td>0</td>\n      <td>0</td>\n      <td>0</td>\n      <td>0</td>\n      <td>0</td>\n      <td>0</td>\n      <td>0</td>\n      <td>0</td>\n      <td>0</td>\n    </tr>\n  </tbody>\n</table>\n<p>5 rows × 181 columns</p>\n</div>"
     },
     "metadata": {},
     "execution_count": 54
    }
   ],
   "source": [
    "X_real = pd.get_dummies(test)\n",
    "X_real.head()"
   ]
  },
  {
   "cell_type": "code",
   "execution_count": 55,
   "metadata": {},
   "outputs": [
    {
     "output_type": "stream",
     "name": "stdout",
     "text": [
      "Your selected dataframe has 181 columns.\nThere are 0 columns that have missing values.\n"
     ]
    },
    {
     "output_type": "execute_result",
     "data": {
      "text/plain": [
       "Empty DataFrame\n",
       "Columns: [Missing Values, % of Total Values]\n",
       "Index: []"
      ],
      "text/html": "<div>\n<style scoped>\n    .dataframe tbody tr th:only-of-type {\n        vertical-align: middle;\n    }\n\n    .dataframe tbody tr th {\n        vertical-align: top;\n    }\n\n    .dataframe thead th {\n        text-align: right;\n    }\n</style>\n<table border=\"1\" class=\"dataframe\">\n  <thead>\n    <tr style=\"text-align: right;\">\n      <th></th>\n      <th>Missing Values</th>\n      <th>% of Total Values</th>\n    </tr>\n  </thead>\n  <tbody>\n  </tbody>\n</table>\n</div>"
     },
     "metadata": {},
     "execution_count": 55
    }
   ],
   "source": [
    "missing_values_table(X_real)"
   ]
  },
  {
   "cell_type": "code",
   "execution_count": 56,
   "metadata": {},
   "outputs": [
    {
     "output_type": "stream",
     "name": "stdout",
     "text": [
      "Your selected dataframe has 184 columns.\nThere are 0 columns that have missing values.\n"
     ]
    },
    {
     "output_type": "execute_result",
     "data": {
      "text/plain": [
       "Empty DataFrame\n",
       "Columns: [Missing Values, % of Total Values]\n",
       "Index: []"
      ],
      "text/html": "<div>\n<style scoped>\n    .dataframe tbody tr th:only-of-type {\n        vertical-align: middle;\n    }\n\n    .dataframe tbody tr th {\n        vertical-align: top;\n    }\n\n    .dataframe thead th {\n        text-align: right;\n    }\n</style>\n<table border=\"1\" class=\"dataframe\">\n  <thead>\n    <tr style=\"text-align: right;\">\n      <th></th>\n      <th>Missing Values</th>\n      <th>% of Total Values</th>\n    </tr>\n  </thead>\n  <tbody>\n  </tbody>\n</table>\n</div>"
     },
     "metadata": {},
     "execution_count": 56
    }
   ],
   "source": [
    "missing_values_table(dummy_df)"
   ]
  },
  {
   "cell_type": "code",
   "execution_count": 57,
   "metadata": {},
   "outputs": [
    {
     "output_type": "execute_result",
     "data": {
      "text/plain": [
       "{'Date_2020-01-21', 'Date_2020-02-08', 'Date_2020-09-16', 'avg_price_per_kg'}"
      ]
     },
     "metadata": {},
     "execution_count": 57
    }
   ],
   "source": [
    "set(dummy_df.columns).difference(set(X_real.columns))"
   ]
  },
  {
   "cell_type": "code",
   "execution_count": null,
   "metadata": {},
   "outputs": [],
   "source": []
  },
  {
   "cell_type": "code",
   "execution_count": 31,
   "metadata": {},
   "outputs": [],
   "source": [
    "preds = mod.predict(test[['Weight_Kg','Low_Price','High_Price','Sales_Total','Total_Qty_Sold','Total_Kg_Sold','Stock_On_Hand']].values)"
   ]
  },
  {
   "cell_type": "code",
   "execution_count": 33,
   "metadata": {},
   "outputs": [],
   "source": [
    "test_id = test['Index']\n",
    "test = test.drop('Index', axis=1)"
   ]
  },
  {
   "cell_type": "code",
   "execution_count": 34,
   "metadata": {},
   "outputs": [],
   "source": [
    "submission = pd.DataFrame(\n",
    "    {'Index': test_id,\n",
    "     'avg_price_per_kg': preds\n",
    "    })"
   ]
  },
  {
   "cell_type": "code",
   "execution_count": 35,
   "metadata": {},
   "outputs": [
    {
     "output_type": "execute_result",
     "data": {
      "text/plain": [
       "   Index  avg_price_per_kg\n",
       "0      1          7.277907\n",
       "1      2          7.369442\n",
       "2      3          7.085513\n",
       "3      4          7.082115\n",
       "4      5          7.251908"
      ],
      "text/html": "<div>\n<style scoped>\n    .dataframe tbody tr th:only-of-type {\n        vertical-align: middle;\n    }\n\n    .dataframe tbody tr th {\n        vertical-align: top;\n    }\n\n    .dataframe thead th {\n        text-align: right;\n    }\n</style>\n<table border=\"1\" class=\"dataframe\">\n  <thead>\n    <tr style=\"text-align: right;\">\n      <th></th>\n      <th>Index</th>\n      <th>avg_price_per_kg</th>\n    </tr>\n  </thead>\n  <tbody>\n    <tr>\n      <th>0</th>\n      <td>1</td>\n      <td>7.277907</td>\n    </tr>\n    <tr>\n      <th>1</th>\n      <td>2</td>\n      <td>7.369442</td>\n    </tr>\n    <tr>\n      <th>2</th>\n      <td>3</td>\n      <td>7.085513</td>\n    </tr>\n    <tr>\n      <th>3</th>\n      <td>4</td>\n      <td>7.082115</td>\n    </tr>\n    <tr>\n      <th>4</th>\n      <td>5</td>\n      <td>7.251908</td>\n    </tr>\n  </tbody>\n</table>\n</div>"
     },
     "metadata": {},
     "execution_count": 35
    }
   ],
   "source": [
    "submission.head()"
   ]
  },
  {
   "cell_type": "code",
   "execution_count": 37,
   "metadata": {},
   "outputs": [],
   "source": [
    "submission.to_csv(\"submission.csv\", index=False)"
   ]
  },
  {
   "cell_type": "code",
   "execution_count": null,
   "metadata": {},
   "outputs": [],
   "source": []
  }
 ],
 "metadata": {
  "kernelspec": {
   "name": "python385jvsc74a57bd0a9eef0b2db0106ff46a2c0a46467efa66c074f18537fadee5406c23d4480700a",
   "display_name": "Python 3.8.5 64-bit ('base': conda)"
  },
  "language_info": {
   "codemirror_mode": {
    "name": "ipython",
    "version": 3
   },
   "file_extension": ".py",
   "mimetype": "text/x-python",
   "name": "python",
   "nbconvert_exporter": "python",
   "pygments_lexer": "ipython3",
   "version": "3.8.5"
  }
 },
 "nbformat": 4,
 "nbformat_minor": 4
}