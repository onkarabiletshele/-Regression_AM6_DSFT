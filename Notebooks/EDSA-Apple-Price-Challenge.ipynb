{
 "cells": [
  {
   "cell_type": "markdown",
   "metadata": {},
   "source": [
    "# EDSA Apple Price Challenge"
   ]
  },
  {
   "cell_type": "markdown",
   "metadata": {},
   "source": [
    "@ Melusi Zwane\n",
    "@ Itumeleng Mabaso\n",
    "@ Onkarabile Tshele\n",
    "@ lydia lehutjo\n",
    "@ Samuel Moloantoa"
   ]
  },
  {
   "cell_type": "markdown",
   "metadata": {},
   "source": [
    "## Problem background\n",
    "Imagine you are in the Fresh Produce Industry. How much stock do you have on hand? Not too little that you run out of stock when customers want to buy more. And not too much that food waste occurs. How do you set your prices? Yields from farms fluctuate by season. Should your prices then also fluctuate by season?\n",
    "\n",
    "We want to construct a regression algorithm, capable of accurately predicting how much a kilogram of Golden Delicious Apples will cost, given certain parameters.\n",
    "\n",
    "Providing an accurate and robust solution to this challenge has immense economic potential, with users of the system being able to accurately determine how much stock to have on hand and what price to set the Golden Delicious Apples to."
   ]
  },
  {
   "cell_type": "markdown",
   "metadata": {},
   "source": [
    "# Contents of notebook\n",
    "1. Data cleaning and formatting\n",
    "2. Exploratory data analysis\n",
    "3. Feature engineering and selection\n",
    "4. Model selection and evaluation\n",
    "5. Model results\n",
    "6. Conclusion"
   ]
  },
  {
   "cell_type": "markdown",
   "metadata": {},
   "source": [
    "# Importing Libraries"
   ]
  },
  {
   "cell_type": "code",
   "execution_count": 1221,
   "metadata": {},
   "outputs": [],
   "source": [
    "# Regression models\n",
    "from sklearn.model_selection import train_test_split\n",
    "from sklearn.linear_model import LinearRegression\n",
    "from sklearn.ensemble import RandomForestRegressor\n",
    "from sklearn.neighbors import LocalOutlierFactor\n",
    "from sklearn.metrics import mean_absolute_error\n",
    "from xgboost import XGBRegressor\n",
    "\n",
    "# Preprocessing\n",
    "from sklearn.preprocessing import StandardScaler\n",
    "from sklearn.ensemble import GradientBoostingRegressor\n",
    "\n",
    "# Metrics\n",
    "from sklearn.metrics import r2_score\n",
    "from sklearn.metrics import mean_squared_error\n",
    "\n",
    "# Visualisations\n",
    "import seaborn as sns\n",
    "import matplotlib.pyplot as plt\n",
    "%matplotlib inline\n",
    "\n",
    "# Other\n",
    "import numpy as np\n",
    "import pandas as pd\n",
    "from scipy import stats\n",
    "import math\n",
    "import pickle\n",
    "import warnings\n",
    "warnings.filterwarnings('ignore')"
   ]
  },
  {
   "cell_type": "markdown",
   "metadata": {},
   "source": [
    "# Importing Data"
   ]
  },
  {
   "cell_type": "code",
   "execution_count": 1222,
   "metadata": {},
   "outputs": [],
   "source": [
    "train = pd.read_csv('https://raw.githubusercontent.com/onkarabiletshele/Regression_AM6_DSFT/main/Data/df-train_set.csv')\n",
    "test = pd.read_csv('https://raw.githubusercontent.com/onkarabiletshele/Regression_AM6_DSFT/main/Data/df-test_set.csv')\n",
    "sample_submission = pd.read_csv('https://raw.githubusercontent.com/onkarabiletshele/Regression_AM6_DSFT/main/Data/sample_submission.csv')\n",
    "\n",
    "\n",
    "index = test['Index']\n",
    "test = test.drop('Index', axis=1)"
   ]
  },
  {
   "cell_type": "markdown",
   "metadata": {},
   "source": [
    "# 1. Data cleaning and formatting"
   ]
  },
  {
   "cell_type": "markdown",
   "metadata": {},
   "source": [
    "Since our focus is on Apple Golden Delicious only, we will filter out Apple Golden and drop the Commodities."
   ]
  },
  {
   "cell_type": "code",
   "execution_count": 1223,
   "metadata": {},
   "outputs": [],
   "source": [
    "train = train[train['Commodities']=='APPLE GOLDEN DELICIOUS'].drop(columns='Commodities')"
   ]
  },
  {
   "cell_type": "code",
   "execution_count": 1224,
   "metadata": {},
   "outputs": [
    {
     "data": {
      "text/html": [
       "<div>\n",
       "<style scoped>\n",
       "    .dataframe tbody tr th:only-of-type {\n",
       "        vertical-align: middle;\n",
       "    }\n",
       "\n",
       "    .dataframe tbody tr th {\n",
       "        vertical-align: top;\n",
       "    }\n",
       "\n",
       "    .dataframe thead th {\n",
       "        text-align: right;\n",
       "    }\n",
       "</style>\n",
       "<table border=\"1\" class=\"dataframe\">\n",
       "  <thead>\n",
       "    <tr style=\"text-align: right;\">\n",
       "      <th></th>\n",
       "      <th>Province</th>\n",
       "      <th>Container</th>\n",
       "      <th>Size_Grade</th>\n",
       "      <th>Weight_Kg</th>\n",
       "      <th>Date</th>\n",
       "      <th>Low_Price</th>\n",
       "      <th>High_Price</th>\n",
       "      <th>Sales_Total</th>\n",
       "      <th>Total_Qty_Sold</th>\n",
       "      <th>Total_Kg_Sold</th>\n",
       "      <th>Stock_On_Hand</th>\n",
       "      <th>avg_price_per_kg</th>\n",
       "    </tr>\n",
       "  </thead>\n",
       "  <tbody>\n",
       "    <tr>\n",
       "      <th>1</th>\n",
       "      <td>CAPE</td>\n",
       "      <td>M4183</td>\n",
       "      <td>1L</td>\n",
       "      <td>18.3</td>\n",
       "      <td>2020-09-09</td>\n",
       "      <td>150.0</td>\n",
       "      <td>170.0</td>\n",
       "      <td>51710.0</td>\n",
       "      <td>332</td>\n",
       "      <td>6075.6</td>\n",
       "      <td>822</td>\n",
       "      <td>8.51</td>\n",
       "    </tr>\n",
       "    <tr>\n",
       "      <th>7</th>\n",
       "      <td>CAPE</td>\n",
       "      <td>JG110</td>\n",
       "      <td>2M</td>\n",
       "      <td>11.0</td>\n",
       "      <td>2020-04-14</td>\n",
       "      <td>50.0</td>\n",
       "      <td>50.0</td>\n",
       "      <td>16000.0</td>\n",
       "      <td>320</td>\n",
       "      <td>3520.0</td>\n",
       "      <td>0</td>\n",
       "      <td>4.55</td>\n",
       "    </tr>\n",
       "    <tr>\n",
       "      <th>24</th>\n",
       "      <td>W.CAPE-BERGRIVER ETC</td>\n",
       "      <td>JE090</td>\n",
       "      <td>2S</td>\n",
       "      <td>9.0</td>\n",
       "      <td>2020-04-16</td>\n",
       "      <td>55.0</td>\n",
       "      <td>55.0</td>\n",
       "      <td>990.0</td>\n",
       "      <td>18</td>\n",
       "      <td>162.0</td>\n",
       "      <td>1506</td>\n",
       "      <td>6.11</td>\n",
       "    </tr>\n",
       "    <tr>\n",
       "      <th>40</th>\n",
       "      <td>CAPE</td>\n",
       "      <td>M4183</td>\n",
       "      <td>1S</td>\n",
       "      <td>18.3</td>\n",
       "      <td>2020-05-04</td>\n",
       "      <td>80.0</td>\n",
       "      <td>120.0</td>\n",
       "      <td>32020.0</td>\n",
       "      <td>388</td>\n",
       "      <td>7100.4</td>\n",
       "      <td>443</td>\n",
       "      <td>4.51</td>\n",
       "    </tr>\n",
       "    <tr>\n",
       "      <th>69</th>\n",
       "      <td>EASTERN CAPE</td>\n",
       "      <td>IA400</td>\n",
       "      <td>1S</td>\n",
       "      <td>400.0</td>\n",
       "      <td>2020-09-28</td>\n",
       "      <td>1800.0</td>\n",
       "      <td>1800.0</td>\n",
       "      <td>1800.0</td>\n",
       "      <td>1</td>\n",
       "      <td>400.0</td>\n",
       "      <td>2</td>\n",
       "      <td>4.50</td>\n",
       "    </tr>\n",
       "  </tbody>\n",
       "</table>\n",
       "</div>"
      ],
      "text/plain": [
       "                Province Container Size_Grade  Weight_Kg        Date  \\\n",
       "1                   CAPE     M4183         1L       18.3  2020-09-09   \n",
       "7                   CAPE     JG110         2M       11.0  2020-04-14   \n",
       "24  W.CAPE-BERGRIVER ETC     JE090         2S        9.0  2020-04-16   \n",
       "40                  CAPE     M4183         1S       18.3  2020-05-04   \n",
       "69          EASTERN CAPE     IA400         1S      400.0  2020-09-28   \n",
       "\n",
       "    Low_Price  High_Price  Sales_Total  Total_Qty_Sold  Total_Kg_Sold  \\\n",
       "1       150.0       170.0      51710.0             332         6075.6   \n",
       "7        50.0        50.0      16000.0             320         3520.0   \n",
       "24       55.0        55.0        990.0              18          162.0   \n",
       "40       80.0       120.0      32020.0             388         7100.4   \n",
       "69     1800.0      1800.0       1800.0               1          400.0   \n",
       "\n",
       "    Stock_On_Hand  avg_price_per_kg  \n",
       "1             822              8.51  \n",
       "7               0              4.55  \n",
       "24           1506              6.11  \n",
       "40            443              4.51  \n",
       "69              2              4.50  "
      ]
     },
     "execution_count": 1224,
     "metadata": {},
     "output_type": "execute_result"
    }
   ],
   "source": [
    "train.head()"
   ]
  },
  {
   "cell_type": "code",
   "execution_count": 1225,
   "metadata": {},
   "outputs": [
    {
     "data": {
      "text/html": [
       "<div>\n",
       "<style scoped>\n",
       "    .dataframe tbody tr th:only-of-type {\n",
       "        vertical-align: middle;\n",
       "    }\n",
       "\n",
       "    .dataframe tbody tr th {\n",
       "        vertical-align: top;\n",
       "    }\n",
       "\n",
       "    .dataframe thead th {\n",
       "        text-align: right;\n",
       "    }\n",
       "</style>\n",
       "<table border=\"1\" class=\"dataframe\">\n",
       "  <thead>\n",
       "    <tr style=\"text-align: right;\">\n",
       "      <th></th>\n",
       "      <th>Weight_Kg</th>\n",
       "      <th>Low_Price</th>\n",
       "      <th>High_Price</th>\n",
       "      <th>Sales_Total</th>\n",
       "      <th>Total_Qty_Sold</th>\n",
       "      <th>Total_Kg_Sold</th>\n",
       "      <th>Stock_On_Hand</th>\n",
       "      <th>avg_price_per_kg</th>\n",
       "    </tr>\n",
       "  </thead>\n",
       "  <tbody>\n",
       "    <tr>\n",
       "      <th>count</th>\n",
       "      <td>1952.000000</td>\n",
       "      <td>1952.000000</td>\n",
       "      <td>1952.000000</td>\n",
       "      <td>1952.000000</td>\n",
       "      <td>1952.000000</td>\n",
       "      <td>1952.000000</td>\n",
       "      <td>1952.000000</td>\n",
       "      <td>1952.000000</td>\n",
       "    </tr>\n",
       "    <tr>\n",
       "      <th>mean</th>\n",
       "      <td>40.460912</td>\n",
       "      <td>174.307377</td>\n",
       "      <td>215.648053</td>\n",
       "      <td>20053.533811</td>\n",
       "      <td>174.510758</td>\n",
       "      <td>2960.176332</td>\n",
       "      <td>408.393955</td>\n",
       "      <td>6.778893</td>\n",
       "    </tr>\n",
       "    <tr>\n",
       "      <th>std</th>\n",
       "      <td>99.655169</td>\n",
       "      <td>373.553578</td>\n",
       "      <td>433.546159</td>\n",
       "      <td>39005.069445</td>\n",
       "      <td>308.810797</td>\n",
       "      <td>6097.416527</td>\n",
       "      <td>724.450582</td>\n",
       "      <td>2.248744</td>\n",
       "    </tr>\n",
       "    <tr>\n",
       "      <th>min</th>\n",
       "      <td>3.000000</td>\n",
       "      <td>2.000000</td>\n",
       "      <td>5.000000</td>\n",
       "      <td>5.000000</td>\n",
       "      <td>1.000000</td>\n",
       "      <td>3.000000</td>\n",
       "      <td>0.000000</td>\n",
       "      <td>0.250000</td>\n",
       "    </tr>\n",
       "    <tr>\n",
       "      <th>25%</th>\n",
       "      <td>9.000000</td>\n",
       "      <td>50.000000</td>\n",
       "      <td>60.000000</td>\n",
       "      <td>1325.000000</td>\n",
       "      <td>12.000000</td>\n",
       "      <td>219.600000</td>\n",
       "      <td>9.000000</td>\n",
       "      <td>5.460000</td>\n",
       "    </tr>\n",
       "    <tr>\n",
       "      <th>50%</th>\n",
       "      <td>12.000000</td>\n",
       "      <td>80.000000</td>\n",
       "      <td>108.000000</td>\n",
       "      <td>5495.000000</td>\n",
       "      <td>64.000000</td>\n",
       "      <td>853.500000</td>\n",
       "      <td>126.500000</td>\n",
       "      <td>6.670000</td>\n",
       "    </tr>\n",
       "    <tr>\n",
       "      <th>75%</th>\n",
       "      <td>18.300000</td>\n",
       "      <td>127.250000</td>\n",
       "      <td>160.000000</td>\n",
       "      <td>21082.500000</td>\n",
       "      <td>200.000000</td>\n",
       "      <td>3093.525000</td>\n",
       "      <td>468.000000</td>\n",
       "      <td>8.280000</td>\n",
       "    </tr>\n",
       "    <tr>\n",
       "      <th>max</th>\n",
       "      <td>400.000000</td>\n",
       "      <td>2300.000000</td>\n",
       "      <td>3300.000000</td>\n",
       "      <td>369464.000000</td>\n",
       "      <td>4237.000000</td>\n",
       "      <td>74000.000000</td>\n",
       "      <td>6400.000000</td>\n",
       "      <td>21.240000</td>\n",
       "    </tr>\n",
       "  </tbody>\n",
       "</table>\n",
       "</div>"
      ],
      "text/plain": [
       "         Weight_Kg    Low_Price   High_Price    Sales_Total  Total_Qty_Sold  \\\n",
       "count  1952.000000  1952.000000  1952.000000    1952.000000     1952.000000   \n",
       "mean     40.460912   174.307377   215.648053   20053.533811      174.510758   \n",
       "std      99.655169   373.553578   433.546159   39005.069445      308.810797   \n",
       "min       3.000000     2.000000     5.000000       5.000000        1.000000   \n",
       "25%       9.000000    50.000000    60.000000    1325.000000       12.000000   \n",
       "50%      12.000000    80.000000   108.000000    5495.000000       64.000000   \n",
       "75%      18.300000   127.250000   160.000000   21082.500000      200.000000   \n",
       "max     400.000000  2300.000000  3300.000000  369464.000000     4237.000000   \n",
       "\n",
       "       Total_Kg_Sold  Stock_On_Hand  avg_price_per_kg  \n",
       "count    1952.000000    1952.000000       1952.000000  \n",
       "mean     2960.176332     408.393955          6.778893  \n",
       "std      6097.416527     724.450582          2.248744  \n",
       "min         3.000000       0.000000          0.250000  \n",
       "25%       219.600000       9.000000          5.460000  \n",
       "50%       853.500000     126.500000          6.670000  \n",
       "75%      3093.525000     468.000000          8.280000  \n",
       "max     74000.000000    6400.000000         21.240000  "
      ]
     },
     "execution_count": 1225,
     "metadata": {},
     "output_type": "execute_result"
    }
   ],
   "source": [
    "# Summary statistics\n",
    "train.describe()"
   ]
  },
  {
   "cell_type": "code",
   "execution_count": 1226,
   "metadata": {},
   "outputs": [
    {
     "data": {
      "text/plain": [
       "Province             object\n",
       "Container            object\n",
       "Size_Grade           object\n",
       "Weight_Kg           float64\n",
       "Date                 object\n",
       "Low_Price           float64\n",
       "High_Price          float64\n",
       "Sales_Total         float64\n",
       "Total_Qty_Sold        int64\n",
       "Total_Kg_Sold       float64\n",
       "Stock_On_Hand         int64\n",
       "avg_price_per_kg    float64\n",
       "dtype: object"
      ]
     },
     "execution_count": 1226,
     "metadata": {},
     "output_type": "execute_result"
    }
   ],
   "source": [
    "# Evaluate for correct data types \n",
    "train.dtypes"
   ]
  },
  {
   "cell_type": "code",
   "execution_count": 1227,
   "metadata": {},
   "outputs": [],
   "source": [
    "# Changing the Date to Day and Month\n",
    "train['Date'] = pd.to_datetime(train['Date'])\n",
    "train['Day'] = train['Date'].dt.day\n",
    "train['Month'] = train['Date'].dt.month\n",
    "train.drop(['Date'], inplace = True, axis = 1)"
   ]
  },
  {
   "cell_type": "code",
   "execution_count": 1228,
   "metadata": {},
   "outputs": [
    {
     "data": {
      "text/html": [
       "<div>\n",
       "<style scoped>\n",
       "    .dataframe tbody tr th:only-of-type {\n",
       "        vertical-align: middle;\n",
       "    }\n",
       "\n",
       "    .dataframe tbody tr th {\n",
       "        vertical-align: top;\n",
       "    }\n",
       "\n",
       "    .dataframe thead th {\n",
       "        text-align: right;\n",
       "    }\n",
       "</style>\n",
       "<table border=\"1\" class=\"dataframe\">\n",
       "  <thead>\n",
       "    <tr style=\"text-align: right;\">\n",
       "      <th></th>\n",
       "      <th>Province</th>\n",
       "      <th>Container</th>\n",
       "      <th>Size_Grade</th>\n",
       "      <th>Weight_Kg</th>\n",
       "      <th>Low_Price</th>\n",
       "      <th>High_Price</th>\n",
       "      <th>Sales_Total</th>\n",
       "      <th>Total_Qty_Sold</th>\n",
       "      <th>Total_Kg_Sold</th>\n",
       "      <th>Stock_On_Hand</th>\n",
       "      <th>avg_price_per_kg</th>\n",
       "      <th>Day</th>\n",
       "      <th>Month</th>\n",
       "    </tr>\n",
       "  </thead>\n",
       "  <tbody>\n",
       "    <tr>\n",
       "      <th>1</th>\n",
       "      <td>CAPE</td>\n",
       "      <td>M4183</td>\n",
       "      <td>1L</td>\n",
       "      <td>18.3</td>\n",
       "      <td>150.0</td>\n",
       "      <td>170.0</td>\n",
       "      <td>51710.0</td>\n",
       "      <td>332</td>\n",
       "      <td>6075.6</td>\n",
       "      <td>822</td>\n",
       "      <td>8.51</td>\n",
       "      <td>9</td>\n",
       "      <td>9</td>\n",
       "    </tr>\n",
       "    <tr>\n",
       "      <th>7</th>\n",
       "      <td>CAPE</td>\n",
       "      <td>JG110</td>\n",
       "      <td>2M</td>\n",
       "      <td>11.0</td>\n",
       "      <td>50.0</td>\n",
       "      <td>50.0</td>\n",
       "      <td>16000.0</td>\n",
       "      <td>320</td>\n",
       "      <td>3520.0</td>\n",
       "      <td>0</td>\n",
       "      <td>4.55</td>\n",
       "      <td>14</td>\n",
       "      <td>4</td>\n",
       "    </tr>\n",
       "    <tr>\n",
       "      <th>24</th>\n",
       "      <td>W.CAPE-BERGRIVER ETC</td>\n",
       "      <td>JE090</td>\n",
       "      <td>2S</td>\n",
       "      <td>9.0</td>\n",
       "      <td>55.0</td>\n",
       "      <td>55.0</td>\n",
       "      <td>990.0</td>\n",
       "      <td>18</td>\n",
       "      <td>162.0</td>\n",
       "      <td>1506</td>\n",
       "      <td>6.11</td>\n",
       "      <td>16</td>\n",
       "      <td>4</td>\n",
       "    </tr>\n",
       "    <tr>\n",
       "      <th>40</th>\n",
       "      <td>CAPE</td>\n",
       "      <td>M4183</td>\n",
       "      <td>1S</td>\n",
       "      <td>18.3</td>\n",
       "      <td>80.0</td>\n",
       "      <td>120.0</td>\n",
       "      <td>32020.0</td>\n",
       "      <td>388</td>\n",
       "      <td>7100.4</td>\n",
       "      <td>443</td>\n",
       "      <td>4.51</td>\n",
       "      <td>4</td>\n",
       "      <td>5</td>\n",
       "    </tr>\n",
       "    <tr>\n",
       "      <th>69</th>\n",
       "      <td>EASTERN CAPE</td>\n",
       "      <td>IA400</td>\n",
       "      <td>1S</td>\n",
       "      <td>400.0</td>\n",
       "      <td>1800.0</td>\n",
       "      <td>1800.0</td>\n",
       "      <td>1800.0</td>\n",
       "      <td>1</td>\n",
       "      <td>400.0</td>\n",
       "      <td>2</td>\n",
       "      <td>4.50</td>\n",
       "      <td>28</td>\n",
       "      <td>9</td>\n",
       "    </tr>\n",
       "  </tbody>\n",
       "</table>\n",
       "</div>"
      ],
      "text/plain": [
       "                Province Container Size_Grade  Weight_Kg  Low_Price  \\\n",
       "1                   CAPE     M4183         1L       18.3      150.0   \n",
       "7                   CAPE     JG110         2M       11.0       50.0   \n",
       "24  W.CAPE-BERGRIVER ETC     JE090         2S        9.0       55.0   \n",
       "40                  CAPE     M4183         1S       18.3       80.0   \n",
       "69          EASTERN CAPE     IA400         1S      400.0     1800.0   \n",
       "\n",
       "    High_Price  Sales_Total  Total_Qty_Sold  Total_Kg_Sold  Stock_On_Hand  \\\n",
       "1        170.0      51710.0             332         6075.6            822   \n",
       "7         50.0      16000.0             320         3520.0              0   \n",
       "24        55.0        990.0              18          162.0           1506   \n",
       "40       120.0      32020.0             388         7100.4            443   \n",
       "69      1800.0       1800.0               1          400.0              2   \n",
       "\n",
       "    avg_price_per_kg  Day  Month  \n",
       "1               8.51    9      9  \n",
       "7               4.55   14      4  \n",
       "24              6.11   16      4  \n",
       "40              4.51    4      5  \n",
       "69              4.50   28      9  "
      ]
     },
     "execution_count": 1228,
     "metadata": {},
     "output_type": "execute_result"
    }
   ],
   "source": [
    "train.head(5)"
   ]
  },
  {
   "cell_type": "code",
   "execution_count": 1229,
   "metadata": {},
   "outputs": [],
   "source": [
    "# Changing the column names all to lowercase \n",
    "train.columns = ['province', 'container', 'size_grade', 'weight_kg', 'low_price', \n",
    "                 'high_price', 'sales_total', 'total_qty_sold','total_kg_sold', \n",
    "                 'stock_on_hand', 'avg_price_per_kg', 'day', 'month']"
   ]
  },
  {
   "cell_type": "code",
   "execution_count": 1230,
   "metadata": {},
   "outputs": [
    {
     "data": {
      "text/html": [
       "<div>\n",
       "<style scoped>\n",
       "    .dataframe tbody tr th:only-of-type {\n",
       "        vertical-align: middle;\n",
       "    }\n",
       "\n",
       "    .dataframe tbody tr th {\n",
       "        vertical-align: top;\n",
       "    }\n",
       "\n",
       "    .dataframe thead th {\n",
       "        text-align: right;\n",
       "    }\n",
       "</style>\n",
       "<table border=\"1\" class=\"dataframe\">\n",
       "  <thead>\n",
       "    <tr style=\"text-align: right;\">\n",
       "      <th></th>\n",
       "      <th>province</th>\n",
       "      <th>container</th>\n",
       "      <th>size_grade</th>\n",
       "      <th>weight_kg</th>\n",
       "      <th>low_price</th>\n",
       "      <th>high_price</th>\n",
       "      <th>sales_total</th>\n",
       "      <th>total_qty_sold</th>\n",
       "      <th>total_kg_sold</th>\n",
       "      <th>stock_on_hand</th>\n",
       "      <th>avg_price_per_kg</th>\n",
       "      <th>day</th>\n",
       "      <th>month</th>\n",
       "    </tr>\n",
       "  </thead>\n",
       "  <tbody>\n",
       "    <tr>\n",
       "      <th>1</th>\n",
       "      <td>CAPE</td>\n",
       "      <td>M4183</td>\n",
       "      <td>1L</td>\n",
       "      <td>18.3</td>\n",
       "      <td>150.0</td>\n",
       "      <td>170.0</td>\n",
       "      <td>51710.0</td>\n",
       "      <td>332</td>\n",
       "      <td>6075.6</td>\n",
       "      <td>822</td>\n",
       "      <td>8.51</td>\n",
       "      <td>9</td>\n",
       "      <td>9</td>\n",
       "    </tr>\n",
       "    <tr>\n",
       "      <th>7</th>\n",
       "      <td>CAPE</td>\n",
       "      <td>JG110</td>\n",
       "      <td>2M</td>\n",
       "      <td>11.0</td>\n",
       "      <td>50.0</td>\n",
       "      <td>50.0</td>\n",
       "      <td>16000.0</td>\n",
       "      <td>320</td>\n",
       "      <td>3520.0</td>\n",
       "      <td>0</td>\n",
       "      <td>4.55</td>\n",
       "      <td>14</td>\n",
       "      <td>4</td>\n",
       "    </tr>\n",
       "    <tr>\n",
       "      <th>24</th>\n",
       "      <td>W.CAPE-BERGRIVER ETC</td>\n",
       "      <td>JE090</td>\n",
       "      <td>2S</td>\n",
       "      <td>9.0</td>\n",
       "      <td>55.0</td>\n",
       "      <td>55.0</td>\n",
       "      <td>990.0</td>\n",
       "      <td>18</td>\n",
       "      <td>162.0</td>\n",
       "      <td>1506</td>\n",
       "      <td>6.11</td>\n",
       "      <td>16</td>\n",
       "      <td>4</td>\n",
       "    </tr>\n",
       "    <tr>\n",
       "      <th>40</th>\n",
       "      <td>CAPE</td>\n",
       "      <td>M4183</td>\n",
       "      <td>1S</td>\n",
       "      <td>18.3</td>\n",
       "      <td>80.0</td>\n",
       "      <td>120.0</td>\n",
       "      <td>32020.0</td>\n",
       "      <td>388</td>\n",
       "      <td>7100.4</td>\n",
       "      <td>443</td>\n",
       "      <td>4.51</td>\n",
       "      <td>4</td>\n",
       "      <td>5</td>\n",
       "    </tr>\n",
       "    <tr>\n",
       "      <th>69</th>\n",
       "      <td>EASTERN CAPE</td>\n",
       "      <td>IA400</td>\n",
       "      <td>1S</td>\n",
       "      <td>400.0</td>\n",
       "      <td>1800.0</td>\n",
       "      <td>1800.0</td>\n",
       "      <td>1800.0</td>\n",
       "      <td>1</td>\n",
       "      <td>400.0</td>\n",
       "      <td>2</td>\n",
       "      <td>4.50</td>\n",
       "      <td>28</td>\n",
       "      <td>9</td>\n",
       "    </tr>\n",
       "    <tr>\n",
       "      <th>...</th>\n",
       "      <td>...</td>\n",
       "      <td>...</td>\n",
       "      <td>...</td>\n",
       "      <td>...</td>\n",
       "      <td>...</td>\n",
       "      <td>...</td>\n",
       "      <td>...</td>\n",
       "      <td>...</td>\n",
       "      <td>...</td>\n",
       "      <td>...</td>\n",
       "      <td>...</td>\n",
       "      <td>...</td>\n",
       "      <td>...</td>\n",
       "    </tr>\n",
       "    <tr>\n",
       "      <th>64276</th>\n",
       "      <td>NATAL</td>\n",
       "      <td>EC120</td>\n",
       "      <td>1S</td>\n",
       "      <td>12.0</td>\n",
       "      <td>96.0</td>\n",
       "      <td>96.0</td>\n",
       "      <td>1920.0</td>\n",
       "      <td>20</td>\n",
       "      <td>240.0</td>\n",
       "      <td>53</td>\n",
       "      <td>8.00</td>\n",
       "      <td>4</td>\n",
       "      <td>3</td>\n",
       "    </tr>\n",
       "    <tr>\n",
       "      <th>64291</th>\n",
       "      <td>ORANGE FREE STATE</td>\n",
       "      <td>M4183</td>\n",
       "      <td>1X</td>\n",
       "      <td>18.3</td>\n",
       "      <td>130.0</td>\n",
       "      <td>130.0</td>\n",
       "      <td>7280.0</td>\n",
       "      <td>56</td>\n",
       "      <td>1024.8</td>\n",
       "      <td>74</td>\n",
       "      <td>7.10</td>\n",
       "      <td>22</td>\n",
       "      <td>2</td>\n",
       "    </tr>\n",
       "    <tr>\n",
       "      <th>64297</th>\n",
       "      <td>CAPE</td>\n",
       "      <td>JE090</td>\n",
       "      <td>2M</td>\n",
       "      <td>9.0</td>\n",
       "      <td>50.0</td>\n",
       "      <td>60.0</td>\n",
       "      <td>4540.0</td>\n",
       "      <td>89</td>\n",
       "      <td>801.0</td>\n",
       "      <td>793</td>\n",
       "      <td>5.67</td>\n",
       "      <td>22</td>\n",
       "      <td>4</td>\n",
       "    </tr>\n",
       "    <tr>\n",
       "      <th>64304</th>\n",
       "      <td>CAPE</td>\n",
       "      <td>JG110</td>\n",
       "      <td>2M</td>\n",
       "      <td>11.0</td>\n",
       "      <td>30.0</td>\n",
       "      <td>40.0</td>\n",
       "      <td>2140.0</td>\n",
       "      <td>70</td>\n",
       "      <td>770.0</td>\n",
       "      <td>0</td>\n",
       "      <td>2.78</td>\n",
       "      <td>4</td>\n",
       "      <td>3</td>\n",
       "    </tr>\n",
       "    <tr>\n",
       "      <th>64310</th>\n",
       "      <td>W.CAPE-BERGRIVER ETC</td>\n",
       "      <td>EC120</td>\n",
       "      <td>1M</td>\n",
       "      <td>12.0</td>\n",
       "      <td>88.0</td>\n",
       "      <td>104.0</td>\n",
       "      <td>9960.0</td>\n",
       "      <td>109</td>\n",
       "      <td>1308.0</td>\n",
       "      <td>67</td>\n",
       "      <td>7.61</td>\n",
       "      <td>23</td>\n",
       "      <td>4</td>\n",
       "    </tr>\n",
       "  </tbody>\n",
       "</table>\n",
       "<p>1952 rows × 13 columns</p>\n",
       "</div>"
      ],
      "text/plain": [
       "                   province container size_grade  weight_kg  low_price  \\\n",
       "1                      CAPE     M4183         1L       18.3      150.0   \n",
       "7                      CAPE     JG110         2M       11.0       50.0   \n",
       "24     W.CAPE-BERGRIVER ETC     JE090         2S        9.0       55.0   \n",
       "40                     CAPE     M4183         1S       18.3       80.0   \n",
       "69             EASTERN CAPE     IA400         1S      400.0     1800.0   \n",
       "...                     ...       ...        ...        ...        ...   \n",
       "64276                 NATAL     EC120         1S       12.0       96.0   \n",
       "64291     ORANGE FREE STATE     M4183         1X       18.3      130.0   \n",
       "64297                  CAPE     JE090         2M        9.0       50.0   \n",
       "64304                  CAPE     JG110         2M       11.0       30.0   \n",
       "64310  W.CAPE-BERGRIVER ETC     EC120         1M       12.0       88.0   \n",
       "\n",
       "       high_price  sales_total  total_qty_sold  total_kg_sold  stock_on_hand  \\\n",
       "1           170.0      51710.0             332         6075.6            822   \n",
       "7            50.0      16000.0             320         3520.0              0   \n",
       "24           55.0        990.0              18          162.0           1506   \n",
       "40          120.0      32020.0             388         7100.4            443   \n",
       "69         1800.0       1800.0               1          400.0              2   \n",
       "...           ...          ...             ...            ...            ...   \n",
       "64276        96.0       1920.0              20          240.0             53   \n",
       "64291       130.0       7280.0              56         1024.8             74   \n",
       "64297        60.0       4540.0              89          801.0            793   \n",
       "64304        40.0       2140.0              70          770.0              0   \n",
       "64310       104.0       9960.0             109         1308.0             67   \n",
       "\n",
       "       avg_price_per_kg  day  month  \n",
       "1                  8.51    9      9  \n",
       "7                  4.55   14      4  \n",
       "24                 6.11   16      4  \n",
       "40                 4.51    4      5  \n",
       "69                 4.50   28      9  \n",
       "...                 ...  ...    ...  \n",
       "64276              8.00    4      3  \n",
       "64291              7.10   22      2  \n",
       "64297              5.67   22      4  \n",
       "64304              2.78    4      3  \n",
       "64310              7.61   23      4  \n",
       "\n",
       "[1952 rows x 13 columns]"
      ]
     },
     "execution_count": 1230,
     "metadata": {},
     "output_type": "execute_result"
    }
   ],
   "source": [
    "train"
   ]
  },
  {
   "cell_type": "markdown",
   "metadata": {},
   "source": [
    "### Checking the distribution "
   ]
  },
  {
   "cell_type": "code",
   "execution_count": 1231,
   "metadata": {},
   "outputs": [
    {
     "data": {
      "text/plain": [
       "<AxesSubplot:xlabel='avg_price_per_kg', ylabel='Density'>"
      ]
     },
     "execution_count": 1231,
     "metadata": {},
     "output_type": "execute_result"
    },
    {
     "data": {
      "image/png": "[encoded data removed]",
      "text/plain": [
       "<Figure size 1440x360 with 1 Axes>"
      ]
     },
     "metadata": {
      "needs_background": "light"
     },
     "output_type": "display_data"
    }
   ],
   "source": [
    "fig, ax = plt.subplots(figsize=(20,5))\n",
    "sns.distplot(train['avg_price_per_kg'], kde=True)"
   ]
  },
  {
   "cell_type": "markdown",
   "metadata": {},
   "source": [
    "# 2. Exploratory data analysis"
   ]
  },
  {
   "cell_type": "markdown",
   "metadata": {},
   "source": [
    "### 2.1 Identifying missing values"
   ]
  },
  {
   "cell_type": "code",
   "execution_count": 1232,
   "metadata": {},
   "outputs": [],
   "source": [
    "# missing values\n",
    "def missing_values_table(df):\n",
    "        mis_val = df.isnull().sum()\n",
    "        \n",
    "        mis_val_percent = 100 * df.isnull().sum() / len(df)\n",
    "        \n",
    "        mis_val_table = pd.concat([mis_val, mis_val_percent], axis=1)\n",
    "        \n",
    "        mis_val_table_ren_columns = mis_val_table.rename(\n",
    "        columns = {0 : 'Missing Values', 1 : '% of Total Values'})\n",
    "        \n",
    "        mis_val_table_ren_columns = mis_val_table_ren_columns[\n",
    "            mis_val_table_ren_columns.iloc[:,1] != 0].sort_values(\n",
    "        '% of Total Values', ascending=False).round(1)\n",
    "        \n",
    "        print (\"Your selected dataframe has \" + str(df.shape[1]) + \" columns.\\n\"      \n",
    "            \"There are \" + str(mis_val_table_ren_columns.shape[0]) +\n",
    "              \" columns that have missing values.\")\n",
    "        \n",
    "        # Return the dataframe with missing information\n",
    "        return mis_val_table_ren_columns"
   ]
  },
  {
   "cell_type": "code",
   "execution_count": 1233,
   "metadata": {},
   "outputs": [
    {
     "name": "stdout",
     "output_type": "stream",
     "text": [
      "Your selected dataframe has 13 columns.\n",
      "There are 0 columns that have missing values.\n"
     ]
    },
    {
     "data": {
      "text/html": [
       "<div>\n",
       "<style scoped>\n",
       "    .dataframe tbody tr th:only-of-type {\n",
       "        vertical-align: middle;\n",
       "    }\n",
       "\n",
       "    .dataframe tbody tr th {\n",
       "        vertical-align: top;\n",
       "    }\n",
       "\n",
       "    .dataframe thead th {\n",
       "        text-align: right;\n",
       "    }\n",
       "</style>\n",
       "<table border=\"1\" class=\"dataframe\">\n",
       "  <thead>\n",
       "    <tr style=\"text-align: right;\">\n",
       "      <th></th>\n",
       "      <th>Missing Values</th>\n",
       "      <th>% of Total Values</th>\n",
       "    </tr>\n",
       "  </thead>\n",
       "  <tbody>\n",
       "  </tbody>\n",
       "</table>\n",
       "</div>"
      ],
      "text/plain": [
       "Empty DataFrame\n",
       "Columns: [Missing Values, % of Total Values]\n",
       "Index: []"
      ]
     },
     "execution_count": 1233,
     "metadata": {},
     "output_type": "execute_result"
    }
   ],
   "source": [
    "missing_values_table(train)"
   ]
  },
  {
   "cell_type": "markdown",
   "metadata": {},
   "source": [
    "## 2.2 Exploring the correlation of the target variable and predictor variables"
   ]
  },
  {
   "cell_type": "code",
   "execution_count": 1234,
   "metadata": {},
   "outputs": [
    {
     "data": {
      "text/html": [
       "<div>\n",
       "<style scoped>\n",
       "    .dataframe tbody tr th:only-of-type {\n",
       "        vertical-align: middle;\n",
       "    }\n",
       "\n",
       "    .dataframe tbody tr th {\n",
       "        vertical-align: top;\n",
       "    }\n",
       "\n",
       "    .dataframe thead th {\n",
       "        text-align: right;\n",
       "    }\n",
       "</style>\n",
       "<table border=\"1\" class=\"dataframe\">\n",
       "  <thead>\n",
       "    <tr style=\"text-align: right;\">\n",
       "      <th></th>\n",
       "      <th>weight_kg</th>\n",
       "      <th>low_price</th>\n",
       "      <th>high_price</th>\n",
       "      <th>sales_total</th>\n",
       "      <th>total_qty_sold</th>\n",
       "      <th>total_kg_sold</th>\n",
       "      <th>stock_on_hand</th>\n",
       "      <th>avg_price_per_kg</th>\n",
       "      <th>day</th>\n",
       "      <th>month</th>\n",
       "    </tr>\n",
       "  </thead>\n",
       "  <tbody>\n",
       "    <tr>\n",
       "      <th>weight_kg</th>\n",
       "      <td>1.000000</td>\n",
       "      <td>0.863182</td>\n",
       "      <td>0.905852</td>\n",
       "      <td>0.180518</td>\n",
       "      <td>-0.133317</td>\n",
       "      <td>0.294117</td>\n",
       "      <td>-0.144105</td>\n",
       "      <td>-0.337886</td>\n",
       "      <td>0.016251</td>\n",
       "      <td>0.047613</td>\n",
       "    </tr>\n",
       "    <tr>\n",
       "      <th>low_price</th>\n",
       "      <td>0.863182</td>\n",
       "      <td>1.000000</td>\n",
       "      <td>0.938140</td>\n",
       "      <td>0.183230</td>\n",
       "      <td>-0.122823</td>\n",
       "      <td>0.269744</td>\n",
       "      <td>-0.127677</td>\n",
       "      <td>-0.141740</td>\n",
       "      <td>-0.015764</td>\n",
       "      <td>0.039084</td>\n",
       "    </tr>\n",
       "    <tr>\n",
       "      <th>high_price</th>\n",
       "      <td>0.905852</td>\n",
       "      <td>0.938140</td>\n",
       "      <td>1.000000</td>\n",
       "      <td>0.265672</td>\n",
       "      <td>-0.096456</td>\n",
       "      <td>0.372282</td>\n",
       "      <td>-0.094174</td>\n",
       "      <td>-0.164496</td>\n",
       "      <td>0.002058</td>\n",
       "      <td>0.047717</td>\n",
       "    </tr>\n",
       "    <tr>\n",
       "      <th>sales_total</th>\n",
       "      <td>0.180518</td>\n",
       "      <td>0.183230</td>\n",
       "      <td>0.265672</td>\n",
       "      <td>1.000000</td>\n",
       "      <td>0.771865</td>\n",
       "      <td>0.962338</td>\n",
       "      <td>0.284693</td>\n",
       "      <td>0.108473</td>\n",
       "      <td>-0.011699</td>\n",
       "      <td>-0.055853</td>\n",
       "    </tr>\n",
       "    <tr>\n",
       "      <th>total_qty_sold</th>\n",
       "      <td>-0.133317</td>\n",
       "      <td>-0.122823</td>\n",
       "      <td>-0.096456</td>\n",
       "      <td>0.771865</td>\n",
       "      <td>1.000000</td>\n",
       "      <td>0.651440</td>\n",
       "      <td>0.390168</td>\n",
       "      <td>0.087536</td>\n",
       "      <td>-0.020402</td>\n",
       "      <td>-0.058639</td>\n",
       "    </tr>\n",
       "    <tr>\n",
       "      <th>total_kg_sold</th>\n",
       "      <td>0.294117</td>\n",
       "      <td>0.269744</td>\n",
       "      <td>0.372282</td>\n",
       "      <td>0.962338</td>\n",
       "      <td>0.651440</td>\n",
       "      <td>1.000000</td>\n",
       "      <td>0.229062</td>\n",
       "      <td>-0.001007</td>\n",
       "      <td>0.003238</td>\n",
       "      <td>-0.023098</td>\n",
       "    </tr>\n",
       "    <tr>\n",
       "      <th>stock_on_hand</th>\n",
       "      <td>-0.144105</td>\n",
       "      <td>-0.127677</td>\n",
       "      <td>-0.094174</td>\n",
       "      <td>0.284693</td>\n",
       "      <td>0.390168</td>\n",
       "      <td>0.229062</td>\n",
       "      <td>1.000000</td>\n",
       "      <td>0.105028</td>\n",
       "      <td>0.081923</td>\n",
       "      <td>-0.011749</td>\n",
       "    </tr>\n",
       "    <tr>\n",
       "      <th>avg_price_per_kg</th>\n",
       "      <td>-0.337886</td>\n",
       "      <td>-0.141740</td>\n",
       "      <td>-0.164496</td>\n",
       "      <td>0.108473</td>\n",
       "      <td>0.087536</td>\n",
       "      <td>-0.001007</td>\n",
       "      <td>0.105028</td>\n",
       "      <td>1.000000</td>\n",
       "      <td>-0.071334</td>\n",
       "      <td>0.005205</td>\n",
       "    </tr>\n",
       "    <tr>\n",
       "      <th>day</th>\n",
       "      <td>0.016251</td>\n",
       "      <td>-0.015764</td>\n",
       "      <td>0.002058</td>\n",
       "      <td>-0.011699</td>\n",
       "      <td>-0.020402</td>\n",
       "      <td>0.003238</td>\n",
       "      <td>0.081923</td>\n",
       "      <td>-0.071334</td>\n",
       "      <td>1.000000</td>\n",
       "      <td>0.010012</td>\n",
       "    </tr>\n",
       "    <tr>\n",
       "      <th>month</th>\n",
       "      <td>0.047613</td>\n",
       "      <td>0.039084</td>\n",
       "      <td>0.047717</td>\n",
       "      <td>-0.055853</td>\n",
       "      <td>-0.058639</td>\n",
       "      <td>-0.023098</td>\n",
       "      <td>-0.011749</td>\n",
       "      <td>0.005205</td>\n",
       "      <td>0.010012</td>\n",
       "      <td>1.000000</td>\n",
       "    </tr>\n",
       "  </tbody>\n",
       "</table>\n",
       "</div>"
      ],
      "text/plain": [
       "                  weight_kg  low_price  high_price  sales_total  \\\n",
       "weight_kg          1.000000   0.863182    0.905852     0.180518   \n",
       "low_price          0.863182   1.000000    0.938140     0.183230   \n",
       "high_price         0.905852   0.938140    1.000000     0.265672   \n",
       "sales_total        0.180518   0.183230    0.265672     1.000000   \n",
       "total_qty_sold    -0.133317  -0.122823   -0.096456     0.771865   \n",
       "total_kg_sold      0.294117   0.269744    0.372282     0.962338   \n",
       "stock_on_hand     -0.144105  -0.127677   -0.094174     0.284693   \n",
       "avg_price_per_kg  -0.337886  -0.141740   -0.164496     0.108473   \n",
       "day                0.016251  -0.015764    0.002058    -0.011699   \n",
       "month              0.047613   0.039084    0.047717    -0.055853   \n",
       "\n",
       "                  total_qty_sold  total_kg_sold  stock_on_hand  \\\n",
       "weight_kg              -0.133317       0.294117      -0.144105   \n",
       "low_price              -0.122823       0.269744      -0.127677   \n",
       "high_price             -0.096456       0.372282      -0.094174   \n",
       "sales_total             0.771865       0.962338       0.284693   \n",
       "total_qty_sold          1.000000       0.651440       0.390168   \n",
       "total_kg_sold           0.651440       1.000000       0.229062   \n",
       "stock_on_hand           0.390168       0.229062       1.000000   \n",
       "avg_price_per_kg        0.087536      -0.001007       0.105028   \n",
       "day                    -0.020402       0.003238       0.081923   \n",
       "month                  -0.058639      -0.023098      -0.011749   \n",
       "\n",
       "                  avg_price_per_kg       day     month  \n",
       "weight_kg                -0.337886  0.016251  0.047613  \n",
       "low_price                -0.141740 -0.015764  0.039084  \n",
       "high_price               -0.164496  0.002058  0.047717  \n",
       "sales_total               0.108473 -0.011699 -0.055853  \n",
       "total_qty_sold            0.087536 -0.020402 -0.058639  \n",
       "total_kg_sold            -0.001007  0.003238 -0.023098  \n",
       "stock_on_hand             0.105028  0.081923 -0.011749  \n",
       "avg_price_per_kg          1.000000 -0.071334  0.005205  \n",
       "day                      -0.071334  1.000000  0.010012  \n",
       "month                     0.005205  0.010012  1.000000  "
      ]
     },
     "execution_count": 1234,
     "metadata": {},
     "output_type": "execute_result"
    }
   ],
   "source": [
    "# Checking for correlation between target  variable and numerical variables\n",
    "train.corr()"
   ]
  },
  {
   "cell_type": "markdown",
   "metadata": {},
   "source": [
    "To observe the correlation clearly, we will use a heatmap to visualse the correlation"
   ]
  },
  {
   "cell_type": "code",
   "execution_count": 1235,
   "metadata": {},
   "outputs": [
    {
     "data": {
      "image/png": "[encoded data removed]",
      "text/plain": [
       "<Figure size 720x576 with 2 Axes>"
      ]
     },
     "metadata": {
      "needs_background": "light"
     },
     "output_type": "display_data"
    }
   ],
   "source": [
    "plt.figure(figsize=(10,8))\n",
    "\n",
    "#avg_price_per_kg correlation matrix\n",
    "cols = train.corr().nlargest(10, 'avg_price_per_kg')['avg_price_per_kg'].index\n",
    "corr_mat = np.corrcoef(train[cols].values.T)\n",
    "sns.set(font_scale=1.25)\n",
    "\n",
    "#Plot corr matrix\n",
    "sns.heatmap(corr_mat, annot=True, fmt='.2f', annot_kws={'size': 10}, yticklabels=cols.values, xticklabels=cols.values, center=0.25)\n",
    "plt.show()"
   ]
  },
  {
   "cell_type": "code",
   "execution_count": 1236,
   "metadata": {},
   "outputs": [
    {
     "data": {
      "text/html": [
       "<div>\n",
       "<style scoped>\n",
       "    .dataframe tbody tr th:only-of-type {\n",
       "        vertical-align: middle;\n",
       "    }\n",
       "\n",
       "    .dataframe tbody tr th {\n",
       "        vertical-align: top;\n",
       "    }\n",
       "\n",
       "    .dataframe thead th {\n",
       "        text-align: right;\n",
       "    }\n",
       "</style>\n",
       "<table border=\"1\" class=\"dataframe\">\n",
       "  <thead>\n",
       "    <tr style=\"text-align: right;\">\n",
       "      <th></th>\n",
       "      <th>avg_price_per_kg</th>\n",
       "    </tr>\n",
       "  </thead>\n",
       "  <tbody>\n",
       "    <tr>\n",
       "      <th>weight_kg</th>\n",
       "      <td>-0.337886</td>\n",
       "    </tr>\n",
       "    <tr>\n",
       "      <th>low_price</th>\n",
       "      <td>-0.141740</td>\n",
       "    </tr>\n",
       "    <tr>\n",
       "      <th>high_price</th>\n",
       "      <td>-0.164496</td>\n",
       "    </tr>\n",
       "    <tr>\n",
       "      <th>sales_total</th>\n",
       "      <td>0.108473</td>\n",
       "    </tr>\n",
       "    <tr>\n",
       "      <th>total_qty_sold</th>\n",
       "      <td>0.087536</td>\n",
       "    </tr>\n",
       "    <tr>\n",
       "      <th>total_kg_sold</th>\n",
       "      <td>-0.001007</td>\n",
       "    </tr>\n",
       "    <tr>\n",
       "      <th>stock_on_hand</th>\n",
       "      <td>0.105028</td>\n",
       "    </tr>\n",
       "    <tr>\n",
       "      <th>avg_price_per_kg</th>\n",
       "      <td>1.000000</td>\n",
       "    </tr>\n",
       "    <tr>\n",
       "      <th>day</th>\n",
       "      <td>-0.071334</td>\n",
       "    </tr>\n",
       "    <tr>\n",
       "      <th>month</th>\n",
       "      <td>0.005205</td>\n",
       "    </tr>\n",
       "  </tbody>\n",
       "</table>\n",
       "</div>"
      ],
      "text/plain": [
       "                  avg_price_per_kg\n",
       "weight_kg                -0.337886\n",
       "low_price                -0.141740\n",
       "high_price               -0.164496\n",
       "sales_total               0.108473\n",
       "total_qty_sold            0.087536\n",
       "total_kg_sold            -0.001007\n",
       "stock_on_hand             0.105028\n",
       "avg_price_per_kg          1.000000\n",
       "day                      -0.071334\n",
       "month                     0.005205"
      ]
     },
     "execution_count": 1236,
     "metadata": {},
     "output_type": "execute_result"
    }
   ],
   "source": [
    "# Taking a look at how our numerical features correlate with our target \n",
    "corrs_numerical = pd.DataFrame(train.corr()['avg_price_per_kg'])#.rename(columns = {'avg_price_per_kg':'Correlation'})\n",
    "#corrs_numerical.sort_values(by='Correlation',ascending=False, inplace=True)\n",
    "corrs_numerical.head(10)"
   ]
  },
  {
   "cell_type": "markdown",
   "metadata": {},
   "source": [
    "Judging from the above results, the strongest correlation are Weight, Low Price and High Price (even though  it is a negative relationship)"
   ]
  },
  {
   "cell_type": "code",
   "execution_count": 1237,
   "metadata": {},
   "outputs": [
    {
     "data": {
      "text/html": [
       "<div>\n",
       "<style scoped>\n",
       "    .dataframe tbody tr th:only-of-type {\n",
       "        vertical-align: middle;\n",
       "    }\n",
       "\n",
       "    .dataframe tbody tr th {\n",
       "        vertical-align: top;\n",
       "    }\n",
       "\n",
       "    .dataframe thead th {\n",
       "        text-align: right;\n",
       "    }\n",
       "</style>\n",
       "<table border=\"1\" class=\"dataframe\">\n",
       "  <thead>\n",
       "    <tr style=\"text-align: right;\">\n",
       "      <th></th>\n",
       "      <th>province</th>\n",
       "      <th>container</th>\n",
       "      <th>size_grade</th>\n",
       "      <th>weight_kg</th>\n",
       "      <th>low_price</th>\n",
       "      <th>high_price</th>\n",
       "      <th>sales_total</th>\n",
       "      <th>total_qty_sold</th>\n",
       "      <th>total_kg_sold</th>\n",
       "      <th>stock_on_hand</th>\n",
       "      <th>avg_price_per_kg</th>\n",
       "      <th>day</th>\n",
       "      <th>month</th>\n",
       "    </tr>\n",
       "  </thead>\n",
       "  <tbody>\n",
       "    <tr>\n",
       "      <th>1</th>\n",
       "      <td>CAPE</td>\n",
       "      <td>M4183</td>\n",
       "      <td>1L</td>\n",
       "      <td>18.3</td>\n",
       "      <td>150.0</td>\n",
       "      <td>170.0</td>\n",
       "      <td>51710.0</td>\n",
       "      <td>332</td>\n",
       "      <td>6075.6</td>\n",
       "      <td>822</td>\n",
       "      <td>8.51</td>\n",
       "      <td>9</td>\n",
       "      <td>9</td>\n",
       "    </tr>\n",
       "    <tr>\n",
       "      <th>7</th>\n",
       "      <td>CAPE</td>\n",
       "      <td>JG110</td>\n",
       "      <td>2M</td>\n",
       "      <td>11.0</td>\n",
       "      <td>50.0</td>\n",
       "      <td>50.0</td>\n",
       "      <td>16000.0</td>\n",
       "      <td>320</td>\n",
       "      <td>3520.0</td>\n",
       "      <td>0</td>\n",
       "      <td>4.55</td>\n",
       "      <td>14</td>\n",
       "      <td>4</td>\n",
       "    </tr>\n",
       "    <tr>\n",
       "      <th>24</th>\n",
       "      <td>W.CAPE-BERGRIVER ETC</td>\n",
       "      <td>JE090</td>\n",
       "      <td>2S</td>\n",
       "      <td>9.0</td>\n",
       "      <td>55.0</td>\n",
       "      <td>55.0</td>\n",
       "      <td>990.0</td>\n",
       "      <td>18</td>\n",
       "      <td>162.0</td>\n",
       "      <td>1506</td>\n",
       "      <td>6.11</td>\n",
       "      <td>16</td>\n",
       "      <td>4</td>\n",
       "    </tr>\n",
       "    <tr>\n",
       "      <th>40</th>\n",
       "      <td>CAPE</td>\n",
       "      <td>M4183</td>\n",
       "      <td>1S</td>\n",
       "      <td>18.3</td>\n",
       "      <td>80.0</td>\n",
       "      <td>120.0</td>\n",
       "      <td>32020.0</td>\n",
       "      <td>388</td>\n",
       "      <td>7100.4</td>\n",
       "      <td>443</td>\n",
       "      <td>4.51</td>\n",
       "      <td>4</td>\n",
       "      <td>5</td>\n",
       "    </tr>\n",
       "    <tr>\n",
       "      <th>69</th>\n",
       "      <td>EASTERN CAPE</td>\n",
       "      <td>IA400</td>\n",
       "      <td>1S</td>\n",
       "      <td>400.0</td>\n",
       "      <td>1800.0</td>\n",
       "      <td>1800.0</td>\n",
       "      <td>1800.0</td>\n",
       "      <td>1</td>\n",
       "      <td>400.0</td>\n",
       "      <td>2</td>\n",
       "      <td>4.50</td>\n",
       "      <td>28</td>\n",
       "      <td>9</td>\n",
       "    </tr>\n",
       "    <tr>\n",
       "      <th>...</th>\n",
       "      <td>...</td>\n",
       "      <td>...</td>\n",
       "      <td>...</td>\n",
       "      <td>...</td>\n",
       "      <td>...</td>\n",
       "      <td>...</td>\n",
       "      <td>...</td>\n",
       "      <td>...</td>\n",
       "      <td>...</td>\n",
       "      <td>...</td>\n",
       "      <td>...</td>\n",
       "      <td>...</td>\n",
       "      <td>...</td>\n",
       "    </tr>\n",
       "    <tr>\n",
       "      <th>64276</th>\n",
       "      <td>NATAL</td>\n",
       "      <td>EC120</td>\n",
       "      <td>1S</td>\n",
       "      <td>12.0</td>\n",
       "      <td>96.0</td>\n",
       "      <td>96.0</td>\n",
       "      <td>1920.0</td>\n",
       "      <td>20</td>\n",
       "      <td>240.0</td>\n",
       "      <td>53</td>\n",
       "      <td>8.00</td>\n",
       "      <td>4</td>\n",
       "      <td>3</td>\n",
       "    </tr>\n",
       "    <tr>\n",
       "      <th>64291</th>\n",
       "      <td>ORANGE FREE STATE</td>\n",
       "      <td>M4183</td>\n",
       "      <td>1X</td>\n",
       "      <td>18.3</td>\n",
       "      <td>130.0</td>\n",
       "      <td>130.0</td>\n",
       "      <td>7280.0</td>\n",
       "      <td>56</td>\n",
       "      <td>1024.8</td>\n",
       "      <td>74</td>\n",
       "      <td>7.10</td>\n",
       "      <td>22</td>\n",
       "      <td>2</td>\n",
       "    </tr>\n",
       "    <tr>\n",
       "      <th>64297</th>\n",
       "      <td>CAPE</td>\n",
       "      <td>JE090</td>\n",
       "      <td>2M</td>\n",
       "      <td>9.0</td>\n",
       "      <td>50.0</td>\n",
       "      <td>60.0</td>\n",
       "      <td>4540.0</td>\n",
       "      <td>89</td>\n",
       "      <td>801.0</td>\n",
       "      <td>793</td>\n",
       "      <td>5.67</td>\n",
       "      <td>22</td>\n",
       "      <td>4</td>\n",
       "    </tr>\n",
       "    <tr>\n",
       "      <th>64304</th>\n",
       "      <td>CAPE</td>\n",
       "      <td>JG110</td>\n",
       "      <td>2M</td>\n",
       "      <td>11.0</td>\n",
       "      <td>30.0</td>\n",
       "      <td>40.0</td>\n",
       "      <td>2140.0</td>\n",
       "      <td>70</td>\n",
       "      <td>770.0</td>\n",
       "      <td>0</td>\n",
       "      <td>2.78</td>\n",
       "      <td>4</td>\n",
       "      <td>3</td>\n",
       "    </tr>\n",
       "    <tr>\n",
       "      <th>64310</th>\n",
       "      <td>W.CAPE-BERGRIVER ETC</td>\n",
       "      <td>EC120</td>\n",
       "      <td>1M</td>\n",
       "      <td>12.0</td>\n",
       "      <td>88.0</td>\n",
       "      <td>104.0</td>\n",
       "      <td>9960.0</td>\n",
       "      <td>109</td>\n",
       "      <td>1308.0</td>\n",
       "      <td>67</td>\n",
       "      <td>7.61</td>\n",
       "      <td>23</td>\n",
       "      <td>4</td>\n",
       "    </tr>\n",
       "  </tbody>\n",
       "</table>\n",
       "<p>1952 rows × 13 columns</p>\n",
       "</div>"
      ],
      "text/plain": [
       "                   province container size_grade  weight_kg  low_price  \\\n",
       "1                      CAPE     M4183         1L       18.3      150.0   \n",
       "7                      CAPE     JG110         2M       11.0       50.0   \n",
       "24     W.CAPE-BERGRIVER ETC     JE090         2S        9.0       55.0   \n",
       "40                     CAPE     M4183         1S       18.3       80.0   \n",
       "69             EASTERN CAPE     IA400         1S      400.0     1800.0   \n",
       "...                     ...       ...        ...        ...        ...   \n",
       "64276                 NATAL     EC120         1S       12.0       96.0   \n",
       "64291     ORANGE FREE STATE     M4183         1X       18.3      130.0   \n",
       "64297                  CAPE     JE090         2M        9.0       50.0   \n",
       "64304                  CAPE     JG110         2M       11.0       30.0   \n",
       "64310  W.CAPE-BERGRIVER ETC     EC120         1M       12.0       88.0   \n",
       "\n",
       "       high_price  sales_total  total_qty_sold  total_kg_sold  stock_on_hand  \\\n",
       "1           170.0      51710.0             332         6075.6            822   \n",
       "7            50.0      16000.0             320         3520.0              0   \n",
       "24           55.0        990.0              18          162.0           1506   \n",
       "40          120.0      32020.0             388         7100.4            443   \n",
       "69         1800.0       1800.0               1          400.0              2   \n",
       "...           ...          ...             ...            ...            ...   \n",
       "64276        96.0       1920.0              20          240.0             53   \n",
       "64291       130.0       7280.0              56         1024.8             74   \n",
       "64297        60.0       4540.0              89          801.0            793   \n",
       "64304        40.0       2140.0              70          770.0              0   \n",
       "64310       104.0       9960.0             109         1308.0             67   \n",
       "\n",
       "       avg_price_per_kg  day  month  \n",
       "1                  8.51    9      9  \n",
       "7                  4.55   14      4  \n",
       "24                 6.11   16      4  \n",
       "40                 4.51    4      5  \n",
       "69                 4.50   28      9  \n",
       "...                 ...  ...    ...  \n",
       "64276              8.00    4      3  \n",
       "64291              7.10   22      2  \n",
       "64297              5.67   22      4  \n",
       "64304              2.78    4      3  \n",
       "64310              7.61   23      4  \n",
       "\n",
       "[1952 rows x 13 columns]"
      ]
     },
     "execution_count": 1237,
     "metadata": {},
     "output_type": "execute_result"
    }
   ],
   "source": [
    "train"
   ]
  },
  {
   "cell_type": "markdown",
   "metadata": {},
   "source": [
    "### Visualising the corelation between the target varible and predictor variables "
   ]
  },
  {
   "cell_type": "code",
   "execution_count": 1238,
   "metadata": {},
   "outputs": [],
   "source": [
    "# Encoding categorical features with dummy variables to observe how they correlate with target \n",
    "dummy_df = pd.get_dummies(train, drop_first=True)"
   ]
  },
  {
   "cell_type": "code",
   "execution_count": 1239,
   "metadata": {},
   "outputs": [
    {
     "data": {
      "text/html": [
       "<div>\n",
       "<style scoped>\n",
       "    .dataframe tbody tr th:only-of-type {\n",
       "        vertical-align: middle;\n",
       "    }\n",
       "\n",
       "    .dataframe tbody tr th {\n",
       "        vertical-align: top;\n",
       "    }\n",
       "\n",
       "    .dataframe thead th {\n",
       "        text-align: right;\n",
       "    }\n",
       "</style>\n",
       "<table border=\"1\" class=\"dataframe\">\n",
       "  <thead>\n",
       "    <tr style=\"text-align: right;\">\n",
       "      <th></th>\n",
       "      <th>weight_kg</th>\n",
       "      <th>low_price</th>\n",
       "      <th>high_price</th>\n",
       "      <th>sales_total</th>\n",
       "      <th>total_qty_sold</th>\n",
       "      <th>total_kg_sold</th>\n",
       "      <th>stock_on_hand</th>\n",
       "      <th>avg_price_per_kg</th>\n",
       "      <th>day</th>\n",
       "      <th>month</th>\n",
       "      <th>...</th>\n",
       "      <th>container_M9125</th>\n",
       "      <th>size_grade_1M</th>\n",
       "      <th>size_grade_1S</th>\n",
       "      <th>size_grade_1U</th>\n",
       "      <th>size_grade_1X</th>\n",
       "      <th>size_grade_2L</th>\n",
       "      <th>size_grade_2M</th>\n",
       "      <th>size_grade_2S</th>\n",
       "      <th>size_grade_2U</th>\n",
       "      <th>size_grade_2X</th>\n",
       "    </tr>\n",
       "  </thead>\n",
       "  <tbody>\n",
       "    <tr>\n",
       "      <th>1</th>\n",
       "      <td>18.3</td>\n",
       "      <td>150.0</td>\n",
       "      <td>170.0</td>\n",
       "      <td>51710.0</td>\n",
       "      <td>332</td>\n",
       "      <td>6075.6</td>\n",
       "      <td>822</td>\n",
       "      <td>8.51</td>\n",
       "      <td>9</td>\n",
       "      <td>9</td>\n",
       "      <td>...</td>\n",
       "      <td>0</td>\n",
       "      <td>0</td>\n",
       "      <td>0</td>\n",
       "      <td>0</td>\n",
       "      <td>0</td>\n",
       "      <td>0</td>\n",
       "      <td>0</td>\n",
       "      <td>0</td>\n",
       "      <td>0</td>\n",
       "      <td>0</td>\n",
       "    </tr>\n",
       "    <tr>\n",
       "      <th>7</th>\n",
       "      <td>11.0</td>\n",
       "      <td>50.0</td>\n",
       "      <td>50.0</td>\n",
       "      <td>16000.0</td>\n",
       "      <td>320</td>\n",
       "      <td>3520.0</td>\n",
       "      <td>0</td>\n",
       "      <td>4.55</td>\n",
       "      <td>14</td>\n",
       "      <td>4</td>\n",
       "      <td>...</td>\n",
       "      <td>0</td>\n",
       "      <td>0</td>\n",
       "      <td>0</td>\n",
       "      <td>0</td>\n",
       "      <td>0</td>\n",
       "      <td>0</td>\n",
       "      <td>1</td>\n",
       "      <td>0</td>\n",
       "      <td>0</td>\n",
       "      <td>0</td>\n",
       "    </tr>\n",
       "    <tr>\n",
       "      <th>24</th>\n",
       "      <td>9.0</td>\n",
       "      <td>55.0</td>\n",
       "      <td>55.0</td>\n",
       "      <td>990.0</td>\n",
       "      <td>18</td>\n",
       "      <td>162.0</td>\n",
       "      <td>1506</td>\n",
       "      <td>6.11</td>\n",
       "      <td>16</td>\n",
       "      <td>4</td>\n",
       "      <td>...</td>\n",
       "      <td>0</td>\n",
       "      <td>0</td>\n",
       "      <td>0</td>\n",
       "      <td>0</td>\n",
       "      <td>0</td>\n",
       "      <td>0</td>\n",
       "      <td>0</td>\n",
       "      <td>1</td>\n",
       "      <td>0</td>\n",
       "      <td>0</td>\n",
       "    </tr>\n",
       "    <tr>\n",
       "      <th>40</th>\n",
       "      <td>18.3</td>\n",
       "      <td>80.0</td>\n",
       "      <td>120.0</td>\n",
       "      <td>32020.0</td>\n",
       "      <td>388</td>\n",
       "      <td>7100.4</td>\n",
       "      <td>443</td>\n",
       "      <td>4.51</td>\n",
       "      <td>4</td>\n",
       "      <td>5</td>\n",
       "      <td>...</td>\n",
       "      <td>0</td>\n",
       "      <td>0</td>\n",
       "      <td>1</td>\n",
       "      <td>0</td>\n",
       "      <td>0</td>\n",
       "      <td>0</td>\n",
       "      <td>0</td>\n",
       "      <td>0</td>\n",
       "      <td>0</td>\n",
       "      <td>0</td>\n",
       "    </tr>\n",
       "    <tr>\n",
       "      <th>69</th>\n",
       "      <td>400.0</td>\n",
       "      <td>1800.0</td>\n",
       "      <td>1800.0</td>\n",
       "      <td>1800.0</td>\n",
       "      <td>1</td>\n",
       "      <td>400.0</td>\n",
       "      <td>2</td>\n",
       "      <td>4.50</td>\n",
       "      <td>28</td>\n",
       "      <td>9</td>\n",
       "      <td>...</td>\n",
       "      <td>0</td>\n",
       "      <td>0</td>\n",
       "      <td>1</td>\n",
       "      <td>0</td>\n",
       "      <td>0</td>\n",
       "      <td>0</td>\n",
       "      <td>0</td>\n",
       "      <td>0</td>\n",
       "      <td>0</td>\n",
       "      <td>0</td>\n",
       "    </tr>\n",
       "  </tbody>\n",
       "</table>\n",
       "<p>5 rows × 35 columns</p>\n",
       "</div>"
      ],
      "text/plain": [
       "    weight_kg  low_price  high_price  sales_total  total_qty_sold  \\\n",
       "1        18.3      150.0       170.0      51710.0             332   \n",
       "7        11.0       50.0        50.0      16000.0             320   \n",
       "24        9.0       55.0        55.0        990.0              18   \n",
       "40       18.3       80.0       120.0      32020.0             388   \n",
       "69      400.0     1800.0      1800.0       1800.0               1   \n",
       "\n",
       "    total_kg_sold  stock_on_hand  avg_price_per_kg  day  month  ...  \\\n",
       "1          6075.6            822              8.51    9      9  ...   \n",
       "7          3520.0              0              4.55   14      4  ...   \n",
       "24          162.0           1506              6.11   16      4  ...   \n",
       "40         7100.4            443              4.51    4      5  ...   \n",
       "69          400.0              2              4.50   28      9  ...   \n",
       "\n",
       "    container_M9125  size_grade_1M  size_grade_1S  size_grade_1U  \\\n",
       "1                 0              0              0              0   \n",
       "7                 0              0              0              0   \n",
       "24                0              0              0              0   \n",
       "40                0              0              1              0   \n",
       "69                0              0              1              0   \n",
       "\n",
       "    size_grade_1X  size_grade_2L  size_grade_2M  size_grade_2S  size_grade_2U  \\\n",
       "1               0              0              0              0              0   \n",
       "7               0              0              1              0              0   \n",
       "24              0              0              0              1              0   \n",
       "40              0              0              0              0              0   \n",
       "69              0              0              0              0              0   \n",
       "\n",
       "    size_grade_2X  \n",
       "1               0  \n",
       "7               0  \n",
       "24              0  \n",
       "40              0  \n",
       "69              0  \n",
       "\n",
       "[5 rows x 35 columns]"
      ]
     },
     "execution_count": 1239,
     "metadata": {},
     "output_type": "execute_result"
    }
   ],
   "source": [
    "dummy_df.head(5)"
   ]
  },
  {
   "cell_type": "code",
   "execution_count": 1240,
   "metadata": {},
   "outputs": [],
   "source": [
    "column_titles = [col for col in dummy_df.columns if col!= 'avg_price_per_kg'] + ['avg_price_per_kg']\n",
    "dummy_df=dummy_df.reindex(columns=column_titles)"
   ]
  },
  {
   "cell_type": "markdown",
   "metadata": {},
   "source": [
    "We didnt inclulde the Commodities columns since we are only focusing on one commodity "
   ]
  },
  {
   "cell_type": "code",
   "execution_count": 1241,
   "metadata": {},
   "outputs": [
    {
     "data": {
      "text/plain": [
       "avg_price_per_kg                 1.000000\n",
       "container_M4183                  0.403229\n",
       "province_W.CAPE-BERGRIVER ETC    0.262051\n",
       "size_grade_1X                    0.251451\n",
       "container_EC120                  0.188162\n",
       "size_grade_1M                    0.175779\n",
       "container_EF120                  0.114297\n",
       "sales_total                      0.108473\n",
       "stock_on_hand                    0.105028\n",
       "total_qty_sold                   0.087536\n",
       "Name: avg_price_per_kg, dtype: float64"
      ]
     },
     "execution_count": 1241,
     "metadata": {},
     "output_type": "execute_result"
    }
   ],
   "source": [
    "# Taking a look at how our categorical features correlate with our target \n",
    "corrs_categorical = dummy_df.corr()['avg_price_per_kg'].sort_values(ascending=False)\n",
    "corrs_categorical.head(10)"
   ]
  },
  {
   "cell_type": "markdown",
   "metadata": {},
   "source": [
    "Judging from the above results, the Container, Size Grade has an impact on the target variable."
   ]
  },
  {
   "cell_type": "code",
   "execution_count": 1242,
   "metadata": {},
   "outputs": [
    {
     "data": {
      "text/plain": [
       "Index(['weight_kg', 'low_price', 'high_price', 'sales_total', 'total_qty_sold',\n",
       "       'total_kg_sold', 'stock_on_hand', 'day', 'month',\n",
       "       'province_EASTERN CAPE', 'province_NATAL', 'province_ORANGE FREE STATE',\n",
       "       'province_TRANSVAAL', 'province_W.CAPE-BERGRIVER ETC',\n",
       "       'province_WEST COAST', 'container_DT063', 'container_EC120',\n",
       "       'container_EF120', 'container_EG140', 'container_IA400',\n",
       "       'container_JE090', 'container_JG110', 'container_M4183',\n",
       "       'container_M6125', 'container_M9125', 'size_grade_1M', 'size_grade_1S',\n",
       "       'size_grade_1U', 'size_grade_1X', 'size_grade_2L', 'size_grade_2M',\n",
       "       'size_grade_2S', 'size_grade_2U', 'size_grade_2X', 'avg_price_per_kg'],\n",
       "      dtype='object')"
      ]
     },
     "execution_count": 1242,
     "metadata": {},
     "output_type": "execute_result"
    }
   ],
   "source": [
    "dummy_df.columns"
   ]
  },
  {
   "cell_type": "code",
   "execution_count": 1243,
   "metadata": {},
   "outputs": [
    {
     "data": {
      "text/html": [
       "<div>\n",
       "<style scoped>\n",
       "    .dataframe tbody tr th:only-of-type {\n",
       "        vertical-align: middle;\n",
       "    }\n",
       "\n",
       "    .dataframe tbody tr th {\n",
       "        vertical-align: top;\n",
       "    }\n",
       "\n",
       "    .dataframe thead th {\n",
       "        text-align: right;\n",
       "    }\n",
       "</style>\n",
       "<table border=\"1\" class=\"dataframe\">\n",
       "  <thead>\n",
       "    <tr style=\"text-align: right;\">\n",
       "      <th></th>\n",
       "      <th>Correlation_Coefficient</th>\n",
       "      <th>P_Value</th>\n",
       "    </tr>\n",
       "  </thead>\n",
       "  <tbody>\n",
       "    <tr>\n",
       "      <th>container_M4183</th>\n",
       "      <td>0.403229</td>\n",
       "      <td>0.000000</td>\n",
       "    </tr>\n",
       "    <tr>\n",
       "      <th>size_grade_2S</th>\n",
       "      <td>-0.352996</td>\n",
       "      <td>0.000000</td>\n",
       "    </tr>\n",
       "    <tr>\n",
       "      <th>weight_kg</th>\n",
       "      <td>-0.337886</td>\n",
       "      <td>0.000000</td>\n",
       "    </tr>\n",
       "    <tr>\n",
       "      <th>container_JE090</th>\n",
       "      <td>-0.322235</td>\n",
       "      <td>0.000000</td>\n",
       "    </tr>\n",
       "    <tr>\n",
       "      <th>province_EASTERN CAPE</th>\n",
       "      <td>-0.178531</td>\n",
       "      <td>0.000000</td>\n",
       "    </tr>\n",
       "    <tr>\n",
       "      <th>high_price</th>\n",
       "      <td>-0.164496</td>\n",
       "      <td>0.000000</td>\n",
       "    </tr>\n",
       "    <tr>\n",
       "      <th>size_grade_2M</th>\n",
       "      <td>-0.153372</td>\n",
       "      <td>0.000000</td>\n",
       "    </tr>\n",
       "    <tr>\n",
       "      <th>low_price</th>\n",
       "      <td>-0.141740</td>\n",
       "      <td>0.000000</td>\n",
       "    </tr>\n",
       "    <tr>\n",
       "      <th>container_JG110</th>\n",
       "      <td>-0.140148</td>\n",
       "      <td>0.000000</td>\n",
       "    </tr>\n",
       "    <tr>\n",
       "      <th>container_IA400</th>\n",
       "      <td>-0.355565</td>\n",
       "      <td>0.000000</td>\n",
       "    </tr>\n",
       "    <tr>\n",
       "      <th>province_NATAL</th>\n",
       "      <td>-0.379801</td>\n",
       "      <td>0.000000</td>\n",
       "    </tr>\n",
       "    <tr>\n",
       "      <th>province_W.CAPE-BERGRIVER ETC</th>\n",
       "      <td>0.262051</td>\n",
       "      <td>0.000000</td>\n",
       "    </tr>\n",
       "    <tr>\n",
       "      <th>size_grade_1X</th>\n",
       "      <td>0.251451</td>\n",
       "      <td>0.000000</td>\n",
       "    </tr>\n",
       "    <tr>\n",
       "      <th>container_EC120</th>\n",
       "      <td>0.188162</td>\n",
       "      <td>0.000000</td>\n",
       "    </tr>\n",
       "    <tr>\n",
       "      <th>size_grade_1M</th>\n",
       "      <td>0.175779</td>\n",
       "      <td>0.000000</td>\n",
       "    </tr>\n",
       "    <tr>\n",
       "      <th>container_EF120</th>\n",
       "      <td>0.114297</td>\n",
       "      <td>0.000000</td>\n",
       "    </tr>\n",
       "    <tr>\n",
       "      <th>sales_total</th>\n",
       "      <td>0.108473</td>\n",
       "      <td>0.000002</td>\n",
       "    </tr>\n",
       "    <tr>\n",
       "      <th>stock_on_hand</th>\n",
       "      <td>0.105028</td>\n",
       "      <td>0.000003</td>\n",
       "    </tr>\n",
       "    <tr>\n",
       "      <th>size_grade_2L</th>\n",
       "      <td>-0.089733</td>\n",
       "      <td>0.000072</td>\n",
       "    </tr>\n",
       "    <tr>\n",
       "      <th>total_qty_sold</th>\n",
       "      <td>0.087536</td>\n",
       "      <td>0.000108</td>\n",
       "    </tr>\n",
       "    <tr>\n",
       "      <th>day</th>\n",
       "      <td>-0.071334</td>\n",
       "      <td>0.001612</td>\n",
       "    </tr>\n",
       "    <tr>\n",
       "      <th>size_grade_2U</th>\n",
       "      <td>-0.069457</td>\n",
       "      <td>0.002137</td>\n",
       "    </tr>\n",
       "    <tr>\n",
       "      <th>container_DT063</th>\n",
       "      <td>-0.059579</td>\n",
       "      <td>0.008465</td>\n",
       "    </tr>\n",
       "    <tr>\n",
       "      <th>size_grade_2X</th>\n",
       "      <td>-0.051624</td>\n",
       "      <td>0.022556</td>\n",
       "    </tr>\n",
       "    <tr>\n",
       "      <th>size_grade_1S</th>\n",
       "      <td>-0.028506</td>\n",
       "      <td>0.208071</td>\n",
       "    </tr>\n",
       "    <tr>\n",
       "      <th>size_grade_1U</th>\n",
       "      <td>-0.027335</td>\n",
       "      <td>0.227373</td>\n",
       "    </tr>\n",
       "    <tr>\n",
       "      <th>province_WEST COAST</th>\n",
       "      <td>-0.025122</td>\n",
       "      <td>0.267262</td>\n",
       "    </tr>\n",
       "    <tr>\n",
       "      <th>province_ORANGE FREE STATE</th>\n",
       "      <td>-0.025026</td>\n",
       "      <td>0.269098</td>\n",
       "    </tr>\n",
       "    <tr>\n",
       "      <th>container_EG140</th>\n",
       "      <td>0.023753</td>\n",
       "      <td>0.294217</td>\n",
       "    </tr>\n",
       "    <tr>\n",
       "      <th>province_TRANSVAAL</th>\n",
       "      <td>-0.020415</td>\n",
       "      <td>0.367325</td>\n",
       "    </tr>\n",
       "    <tr>\n",
       "      <th>container_M6125</th>\n",
       "      <td>0.007568</td>\n",
       "      <td>0.738257</td>\n",
       "    </tr>\n",
       "    <tr>\n",
       "      <th>month</th>\n",
       "      <td>0.005205</td>\n",
       "      <td>0.818233</td>\n",
       "    </tr>\n",
       "    <tr>\n",
       "      <th>container_M9125</th>\n",
       "      <td>0.002812</td>\n",
       "      <td>0.901207</td>\n",
       "    </tr>\n",
       "    <tr>\n",
       "      <th>total_kg_sold</th>\n",
       "      <td>-0.001007</td>\n",
       "      <td>0.964545</td>\n",
       "    </tr>\n",
       "  </tbody>\n",
       "</table>\n",
       "</div>"
      ],
      "text/plain": [
       "                               Correlation_Coefficient   P_Value\n",
       "container_M4183                               0.403229  0.000000\n",
       "size_grade_2S                                -0.352996  0.000000\n",
       "weight_kg                                    -0.337886  0.000000\n",
       "container_JE090                              -0.322235  0.000000\n",
       "province_EASTERN CAPE                        -0.178531  0.000000\n",
       "high_price                                   -0.164496  0.000000\n",
       "size_grade_2M                                -0.153372  0.000000\n",
       "low_price                                    -0.141740  0.000000\n",
       "container_JG110                              -0.140148  0.000000\n",
       "container_IA400                              -0.355565  0.000000\n",
       "province_NATAL                               -0.379801  0.000000\n",
       "province_W.CAPE-BERGRIVER ETC                 0.262051  0.000000\n",
       "size_grade_1X                                 0.251451  0.000000\n",
       "container_EC120                               0.188162  0.000000\n",
       "size_grade_1M                                 0.175779  0.000000\n",
       "container_EF120                               0.114297  0.000000\n",
       "sales_total                                   0.108473  0.000002\n",
       "stock_on_hand                                 0.105028  0.000003\n",
       "size_grade_2L                                -0.089733  0.000072\n",
       "total_qty_sold                                0.087536  0.000108\n",
       "day                                          -0.071334  0.001612\n",
       "size_grade_2U                                -0.069457  0.002137\n",
       "container_DT063                              -0.059579  0.008465\n",
       "size_grade_2X                                -0.051624  0.022556\n",
       "size_grade_1S                                -0.028506  0.208071\n",
       "size_grade_1U                                -0.027335  0.227373\n",
       "province_WEST COAST                          -0.025122  0.267262\n",
       "province_ORANGE FREE STATE                   -0.025026  0.269098\n",
       "container_EG140                               0.023753  0.294217\n",
       "province_TRANSVAAL                           -0.020415  0.367325\n",
       "container_M6125                               0.007568  0.738257\n",
       "month                                         0.005205  0.818233\n",
       "container_M9125                               0.002812  0.901207\n",
       "total_kg_sold                                -0.001007  0.964545"
      ]
     },
     "execution_count": 1243,
     "metadata": {},
     "output_type": "execute_result"
    }
   ],
   "source": [
    "from scipy.stats import pearsonr\n",
    "\n",
    "# Build a dictionary of correlation coefficients and p-values\n",
    "dict_cp = {}\n",
    "\n",
    "column_titles = [col for col in corrs_categorical.index if col!= 'avg_price_per_kg']\n",
    "for col in column_titles:\n",
    "    p_val = round(pearsonr(dummy_df[col], dummy_df['avg_price_per_kg'])[1],6)\n",
    "    dict_cp[col] = {'Correlation_Coefficient':corrs_categorical[col],\n",
    "                    'P_Value':p_val}\n",
    "    \n",
    "df_cp = pd.DataFrame(dict_cp).T\n",
    "df_cp_sorted = df_cp.sort_values('P_Value')\n",
    "df_cp_sorted[df_cp_sorted['P_Value'] < 1]"
   ]
  },
  {
   "cell_type": "markdown",
   "metadata": {},
   "source": [
    "## 2.2 Identifying outliers "
   ]
  },
  {
   "cell_type": "code",
   "execution_count": 1244,
   "metadata": {},
   "outputs": [
    {
     "data": {
      "text/plain": [
       "<AxesSubplot:xlabel='month'>"
      ]
     },
     "execution_count": 1244,
     "metadata": {},
     "output_type": "execute_result"
    },
    {
     "data": {
      "image/png": "[encoded data removed]",
      "text/plain": [
       "<Figure size 1080x1080 with 12 Axes>"
      ]
     },
     "metadata": {},
     "output_type": "display_data"
    }
   ],
   "source": [
    "# Visualizing the outliers using boxplot graph \n",
    "fig, axes = plt.subplots(3, 4, figsize=(15, 15))\n",
    "\n",
    "fig.suptitle('SERIES OF BOXPLOTS OF NUMERICAL FEATURES')\n",
    "\n",
    "sns.boxplot(ax=axes[0, 0], data=train, x='weight_kg')\n",
    "sns.boxplot(ax=axes[0, 1], data=train, x='low_price')\n",
    "sns.boxplot(ax=axes[0, 2], data=train, x='high_price')\n",
    "sns.boxplot(ax=axes[0, 3], data=train, x='sales_total')\n",
    "sns.boxplot(ax=axes[1, 0], data=train, x='total_qty_sold')\n",
    "sns.boxplot(ax=axes[1, 1], data=train, x='total_kg_sold')\n",
    "sns.boxplot(ax=axes[1, 2], data=train, x='stock_on_hand')\n",
    "sns.boxplot(ax=axes[1, 3], data=train, x='avg_price_per_kg')\n",
    "sns.boxplot(ax=axes[2, 0], data=train, x='day')\n",
    "sns.boxplot(ax=axes[2, 1], data=train, x='month')"
   ]
  },
  {
   "cell_type": "markdown",
   "metadata": {},
   "source": []
  },
  {
   "cell_type": "code",
   "execution_count": 1245,
   "metadata": {},
   "outputs": [],
   "source": [
    "# info about kurtois"
   ]
  },
  {
   "cell_type": "code",
   "execution_count": 1246,
   "metadata": {},
   "outputs": [
    {
     "data": {
      "text/plain": [
       "weight_kg            9.109698\n",
       "low_price           17.073369\n",
       "high_price          13.630768\n",
       "sales_total         24.200524\n",
       "total_qty_sold      32.338123\n",
       "total_kg_sold       45.153801\n",
       "stock_on_hand       14.671224\n",
       "avg_price_per_kg     1.042921\n",
       "day                 -1.122178\n",
       "month               -0.620111\n",
       "dtype: float64"
      ]
     },
     "execution_count": 1246,
     "metadata": {},
     "output_type": "execute_result"
    }
   ],
   "source": [
    "# Checking the kurtosis of our data\n",
    "train.kurtosis()"
   ]
  },
  {
   "cell_type": "code",
   "execution_count": 1247,
   "metadata": {},
   "outputs": [],
   "source": [
    "# info about skewness"
   ]
  },
  {
   "cell_type": "code",
   "execution_count": 1248,
   "metadata": {},
   "outputs": [
    {
     "data": {
      "text/plain": [
       "weight_kg           3.328254\n",
       "low_price           4.222672\n",
       "high_price          3.828819\n",
       "sales_total         4.250317\n",
       "total_qty_sold      4.445169\n",
       "total_kg_sold       5.529586\n",
       "stock_on_hand       3.391815\n",
       "avg_price_per_kg    0.082452\n",
       "day                -0.021883\n",
       "month               0.078651\n",
       "dtype: float64"
      ]
     },
     "execution_count": 1248,
     "metadata": {},
     "output_type": "execute_result"
    }
   ],
   "source": [
    "# Checking the skewness of our data \n",
    "train.skew()"
   ]
  },
  {
   "cell_type": "markdown",
   "metadata": {},
   "source": [
    "## 3. Feature engineering and selection"
   ]
  },
  {
   "cell_type": "markdown",
   "metadata": {},
   "source": [
    "Based on our findings regarding the correlations, we will select the features that had the strongest relationship with target"
   ]
  },
  {
   "cell_type": "raw",
   "metadata": {},
   "source": [
    "dummy_df = pd.get_dummies(train[\"province\", \"size_grade\", \"container\"])"
   ]
  },
  {
   "cell_type": "markdown",
   "metadata": {},
   "source": [
    "train = pd.concat([train, dummy_df], axis=1)\n",
    "train.head()"
   ]
  },
  {
   "cell_type": "markdown",
   "metadata": {},
   "source": [
    "train.drop(columns=[\"province\", \"size_grade\", \"container\"], axis=1, inplace=True)"
   ]
  },
  {
   "cell_type": "markdown",
   "metadata": {},
   "source": [
    "train.columns"
   ]
  },
  {
   "cell_type": "raw",
   "metadata": {},
   "source": [
    "from sklearn.preprocessing import LabelEncoder\n",
    "train[\"province\"] = LabelEncoder().fit_transform(train[\"province\"])\n",
    "train[\"container\"] = LabelEncoder().fit_transform(train[\"container\"])\n",
    "train[\"size_grade\"] = LabelEncoder().fit_transform(train[\"size_grade\"])"
   ]
  },
  {
   "cell_type": "raw",
   "metadata": {},
   "source": [
    "dummy_df.head(5)"
   ]
  },
  {
   "cell_type": "markdown",
   "metadata": {},
   "source": [
    "train = pd.concat([train, dummy_df], axis=1)\n",
    "train.head()"
   ]
  },
  {
   "cell_type": "markdown",
   "metadata": {},
   "source": [
    "train.drop(columns=[\"province\", \"size_grade\", \"container\"], axis=1, inplace=True)"
   ]
  },
  {
   "cell_type": "markdown",
   "metadata": {},
   "source": [
    "train.columns"
   ]
  },
  {
   "cell_type": "markdown",
   "metadata": {},
   "source": [
    "## 4. Model selection and evaluation "
   ]
  },
  {
   "cell_type": "code",
   "execution_count": 1249,
   "metadata": {},
   "outputs": [],
   "source": [
    "# Function to fit data, make predictions, and evaluate model\n",
    "def rmse(y_test, y_pred):\n",
    "    return np.sqrt(mean_squared_error(y_pred,y_test))\n",
    "\n",
    "def r_squared(y_test, y_pred):\n",
    "    return r2_score(y_test, y_pred)\n",
    "    \n",
    "# Takes in a model, trains the model, and evaluates the model on the test set\n",
    "def fit_and_evaluate(model,X,y):\n",
    "    \n",
    "    X_train, X_test, y_train, y_test = train_test_split(X, y, test_size = 0.2,random_state=42)\n",
    "    # Train the model\n",
    "    model.fit(X_train, y_train)\n",
    "    \n",
    "    # Make predictions and evalute\n",
    "    train_pred = model.predict(X_train)\n",
    "    test_pred = model.predict(X_test)\n",
    "    \n",
    "    train_rmse = rmse(y_train, train_pred)\n",
    "    test_rmse = rmse(y_test, test_pred)\n",
    "    \n",
    "    train_r2 = r_squared(y_train, train_pred)\n",
    "    test_r2 = r_squared(y_test, test_pred)\n",
    "    \n",
    "    df = {'Train RMSE': train_rmse,'Train R^2':train_r2,'Test RMSE': test_rmse,'Test R^2':test_r2}\n",
    "    \n",
    "    return df"
   ]
  },
  {
   "cell_type": "markdown",
   "metadata": {},
   "source": [
    "### 4.1 Basic linear regression model"
   ]
  },
  {
   "cell_type": "code",
   "execution_count": 955,
   "metadata": {},
   "outputs": [
    {
     "data": {
      "text/plain": [
       "(1952,)"
      ]
     },
     "execution_count": 955,
     "metadata": {},
     "output_type": "execute_result"
    }
   ],
   "source": [
    "model = LinearRegression()\n",
    "y = train['avg_price_per_kg']\n",
    "y.shape"
   ]
  },
  {
   "cell_type": "code",
   "execution_count": 956,
   "metadata": {},
   "outputs": [
    {
     "data": {
      "text/plain": [
       "{'Train RMSE': 1.6288796888512445,\n",
       " 'Train R^2': 0.485282373413746,\n",
       " 'Test RMSE': 1.593027712885468,\n",
       " 'Test R^2': 0.4530868569571118}"
      ]
     },
     "execution_count": 956,
     "metadata": {},
     "output_type": "execute_result"
    }
   ],
   "source": [
    "X = train.drop(columns='avg_price_per_kg')\n",
    "fit_and_evaluate(model,X,y)"
   ]
  },
  {
   "cell_type": "code",
   "execution_count": 957,
   "metadata": {},
   "outputs": [
    {
     "data": {
      "text/plain": [
       "LinearRegression()"
      ]
     },
     "execution_count": 957,
     "metadata": {},
     "output_type": "execute_result"
    }
   ],
   "source": [
    "X_train, X_test, y_train, y_test = train_test_split(X, y, test_size = 0.2,random_state=4)\n",
    "model.fit(X_train, y_train)"
   ]
  },
  {
   "cell_type": "markdown",
   "metadata": {},
   "source": [
    "### 4.2 Random Forest Regression"
   ]
  },
  {
   "cell_type": "code",
   "execution_count": 908,
   "metadata": {},
   "outputs": [],
   "source": [
    "model = RandomForestRegressor(bootstrap=True, ccp_alpha=0.0, criterion='mse',\n",
    "                      max_depth=90, max_features=3, max_leaf_nodes=None,\n",
    "                      max_samples=None, min_impurity_decrease=0.0,\n",
    "                      min_impurity_split=None, min_samples_leaf=3,\n",
    "                      min_samples_split=4, min_weight_fraction_leaf=0.0,\n",
    "                      n_estimators=300, n_jobs=None, oob_score=False,\n",
    "                      random_state=None, verbose=0, warm_start=False)"
   ]
  },
  {
   "cell_type": "code",
   "execution_count": 909,
   "metadata": {},
   "outputs": [
    {
     "data": {
      "text/plain": [
       "{'Train RMSE': 0.4675277021906842,\n",
       " 'Train R^2': 0.9544577255564736,\n",
       " 'Test RMSE': 1.0229357211136278,\n",
       " 'Test R^2': 0.8308381517169996}"
      ]
     },
     "execution_count": 909,
     "metadata": {},
     "output_type": "execute_result"
    }
   ],
   "source": [
    "fit_and_evaluate(model, X_train, y_train)"
   ]
  },
  {
   "cell_type": "code",
   "execution_count": 910,
   "metadata": {},
   "outputs": [
    {
     "data": {
      "text/plain": [
       "(1952, 13)"
      ]
     },
     "execution_count": 910,
     "metadata": {},
     "output_type": "execute_result"
    }
   ],
   "source": [
    "train.shape"
   ]
  },
  {
   "cell_type": "code",
   "execution_count": 911,
   "metadata": {},
   "outputs": [
    {
     "data": {
      "text/plain": [
       "{'Train RMSE': 0.49597354756863893,\n",
       " 'Train R^2': 0.9522791628568386,\n",
       " 'Test RMSE': 0.6719690639836463,\n",
       " 'Test R^2': 0.9026871353724487}"
      ]
     },
     "execution_count": 911,
     "metadata": {},
     "output_type": "execute_result"
    }
   ],
   "source": [
    "X = train.drop(columns='avg_price_per_kg')\n",
    "y=train['avg_price_per_kg']\n",
    "X_train, X_test, y_train, y_test = train_test_split(X, y, test_size = 0.2,random_state=4)\n",
    "fit_and_evaluate(model,X,y)"
   ]
  },
  {
   "cell_type": "code",
   "execution_count": null,
   "metadata": {},
   "outputs": [],
   "source": []
  },
  {
   "cell_type": "markdown",
   "metadata": {},
   "source": [
    "### 4.3 Ridge Regression "
   ]
  },
  {
   "cell_type": "code",
   "execution_count": 585,
   "metadata": {},
   "outputs": [
    {
     "data": {
      "text/plain": [
       "Index(['Province', 'Container', 'Size_Grade', 'Weight_Kg', 'Low_Price',\n",
       "       'High_Price', 'Sales_Total', 'Total_Qty_Sold', 'Total_Kg_Sold',\n",
       "       'Stock_On_Hand', 'avg_price_per_kg', 'Day', 'Month'],\n",
       "      dtype='object')"
      ]
     },
     "execution_count": 585,
     "metadata": {},
     "output_type": "execute_result"
    }
   ],
   "source": [
    "train.columns"
   ]
  },
  {
   "cell_type": "code",
   "execution_count": 586,
   "metadata": {},
   "outputs": [],
   "source": [
    "# Separate the features from the response\n",
    "X = train[['Province', 'Container', 'Size_Grade', 'Weight_Kg', 'Low_Price',\n",
    "       'High_Price', 'Sales_Total', 'Total_Qty_Sold', 'Total_Kg_Sold',\n",
    "       'Stock_On_Hand', 'avg_price_per_kg', 'Day', 'Month']].drop('avg_price_per_kg', axis=1)\n",
    "y = train['avg_price_per_kg']"
   ]
  },
  {
   "cell_type": "code",
   "execution_count": 587,
   "metadata": {},
   "outputs": [],
   "source": [
    "# Import the scaling module\n",
    "from sklearn.preprocessing import StandardScaler"
   ]
  },
  {
   "cell_type": "code",
   "execution_count": 588,
   "metadata": {},
   "outputs": [],
   "source": [
    "# Create standardization object\n",
    "scaler = StandardScaler()"
   ]
  },
  {
   "cell_type": "code",
   "execution_count": 589,
   "metadata": {},
   "outputs": [],
   "source": [
    "# Save standardized features into new variable\n",
    "X_scaled = scaler.fit_transform(X)"
   ]
  },
  {
   "cell_type": "code",
   "execution_count": 590,
   "metadata": {},
   "outputs": [
    {
     "data": {
      "text/html": [
       "<div>\n",
       "<style scoped>\n",
       "    .dataframe tbody tr th:only-of-type {\n",
       "        vertical-align: middle;\n",
       "    }\n",
       "\n",
       "    .dataframe tbody tr th {\n",
       "        vertical-align: top;\n",
       "    }\n",
       "\n",
       "    .dataframe thead th {\n",
       "        text-align: right;\n",
       "    }\n",
       "</style>\n",
       "<table border=\"1\" class=\"dataframe\">\n",
       "  <thead>\n",
       "    <tr style=\"text-align: right;\">\n",
       "      <th></th>\n",
       "      <th>Province</th>\n",
       "      <th>Container</th>\n",
       "      <th>Size_Grade</th>\n",
       "      <th>Weight_Kg</th>\n",
       "      <th>Low_Price</th>\n",
       "      <th>High_Price</th>\n",
       "      <th>Sales_Total</th>\n",
       "      <th>Total_Qty_Sold</th>\n",
       "      <th>Total_Kg_Sold</th>\n",
       "      <th>Stock_On_Hand</th>\n",
       "      <th>Day</th>\n",
       "      <th>Month</th>\n",
       "    </tr>\n",
       "  </thead>\n",
       "  <tbody>\n",
       "    <tr>\n",
       "      <th>0</th>\n",
       "      <td>-0.772788</td>\n",
       "      <td>1.062453</td>\n",
       "      <td>-1.329835</td>\n",
       "      <td>-0.222433</td>\n",
       "      <td>-0.065087</td>\n",
       "      <td>-0.105317</td>\n",
       "      <td>0.811807</td>\n",
       "      <td>0.510117</td>\n",
       "      <td>0.511073</td>\n",
       "      <td>0.571070</td>\n",
       "      <td>-0.788911</td>\n",
       "      <td>1.262165</td>\n",
       "    </tr>\n",
       "    <tr>\n",
       "      <th>1</th>\n",
       "      <td>-0.772788</td>\n",
       "      <td>0.645671</td>\n",
       "      <td>1.033240</td>\n",
       "      <td>-0.295704</td>\n",
       "      <td>-0.332855</td>\n",
       "      <td>-0.382175</td>\n",
       "      <td>-0.103950</td>\n",
       "      <td>0.471248</td>\n",
       "      <td>0.091837</td>\n",
       "      <td>-0.563874</td>\n",
       "      <td>-0.214430</td>\n",
       "      <td>-0.598952</td>\n",
       "    </tr>\n",
       "    <tr>\n",
       "      <th>2</th>\n",
       "      <td>1.400192</td>\n",
       "      <td>0.228889</td>\n",
       "      <td>1.427086</td>\n",
       "      <td>-0.315779</td>\n",
       "      <td>-0.319467</td>\n",
       "      <td>-0.370639</td>\n",
       "      <td>-0.488870</td>\n",
       "      <td>-0.506948</td>\n",
       "      <td>-0.459029</td>\n",
       "      <td>1.515476</td>\n",
       "      <td>0.015363</td>\n",
       "      <td>-0.598952</td>\n",
       "    </tr>\n",
       "    <tr>\n",
       "      <th>3</th>\n",
       "      <td>-0.772788</td>\n",
       "      <td>1.062453</td>\n",
       "      <td>-0.542143</td>\n",
       "      <td>-0.222433</td>\n",
       "      <td>-0.252525</td>\n",
       "      <td>-0.220674</td>\n",
       "      <td>0.306871</td>\n",
       "      <td>0.691504</td>\n",
       "      <td>0.679187</td>\n",
       "      <td>0.047781</td>\n",
       "      <td>-1.363392</td>\n",
       "      <td>-0.226728</td>\n",
       "    </tr>\n",
       "    <tr>\n",
       "      <th>4</th>\n",
       "      <td>-0.338192</td>\n",
       "      <td>-0.187894</td>\n",
       "      <td>-0.542143</td>\n",
       "      <td>3.608756</td>\n",
       "      <td>4.353082</td>\n",
       "      <td>3.655338</td>\n",
       "      <td>-0.468098</td>\n",
       "      <td>-0.562012</td>\n",
       "      <td>-0.419986</td>\n",
       "      <td>-0.561112</td>\n",
       "      <td>1.394117</td>\n",
       "      <td>1.262165</td>\n",
       "    </tr>\n",
       "  </tbody>\n",
       "</table>\n",
       "</div>"
      ],
      "text/plain": [
       "   Province  Container  Size_Grade  Weight_Kg  Low_Price  High_Price  \\\n",
       "0 -0.772788   1.062453   -1.329835  -0.222433  -0.065087   -0.105317   \n",
       "1 -0.772788   0.645671    1.033240  -0.295704  -0.332855   -0.382175   \n",
       "2  1.400192   0.228889    1.427086  -0.315779  -0.319467   -0.370639   \n",
       "3 -0.772788   1.062453   -0.542143  -0.222433  -0.252525   -0.220674   \n",
       "4 -0.338192  -0.187894   -0.542143   3.608756   4.353082    3.655338   \n",
       "\n",
       "   Sales_Total  Total_Qty_Sold  Total_Kg_Sold  Stock_On_Hand       Day  \\\n",
       "0     0.811807        0.510117       0.511073       0.571070 -0.788911   \n",
       "1    -0.103950        0.471248       0.091837      -0.563874 -0.214430   \n",
       "2    -0.488870       -0.506948      -0.459029       1.515476  0.015363   \n",
       "3     0.306871        0.691504       0.679187       0.047781 -1.363392   \n",
       "4    -0.468098       -0.562012      -0.419986      -0.561112  1.394117   \n",
       "\n",
       "      Month  \n",
       "0  1.262165  \n",
       "1 -0.598952  \n",
       "2 -0.598952  \n",
       "3 -0.226728  \n",
       "4  1.262165  "
      ]
     },
     "execution_count": 590,
     "metadata": {},
     "output_type": "execute_result"
    }
   ],
   "source": [
    "# Convert the scaled predictor values into a dataframe\n",
    "X_standardise = pd.DataFrame(X_scaled,columns=X.columns)\n",
    "X_standardise.head()"
   ]
  },
  {
   "cell_type": "code",
   "execution_count": 591,
   "metadata": {},
   "outputs": [],
   "source": [
    "# Import train/test splitting function from sklearn\n",
    "from sklearn.model_selection import train_test_split"
   ]
  },
  {
   "cell_type": "code",
   "execution_count": 592,
   "metadata": {},
   "outputs": [],
   "source": [
    "# Split the data into train and test, being sure to use the standardised predictors\n",
    "X_train, X_test, y_train, y_test = train_test_split(X_standardise, \n",
    "                                                    y, \n",
    "                                                    test_size=0.2, \n",
    "                                                    shuffle=False)"
   ]
  },
  {
   "cell_type": "code",
   "execution_count": 593,
   "metadata": {},
   "outputs": [],
   "source": [
    "# Import the ridge regression module from sklearn\n",
    "from sklearn.linear_model import Ridge"
   ]
  },
  {
   "cell_type": "code",
   "execution_count": 594,
   "metadata": {},
   "outputs": [],
   "source": [
    "# Create ridge model\n",
    "ridge = Ridge()"
   ]
  },
  {
   "cell_type": "code",
   "execution_count": 595,
   "metadata": {},
   "outputs": [
    {
     "data": {
      "text/plain": [
       "Ridge()"
      ]
     },
     "execution_count": 595,
     "metadata": {},
     "output_type": "execute_result"
    }
   ],
   "source": [
    "# Train the model\n",
    "ridge.fit(X_train, y_train)"
   ]
  },
  {
   "cell_type": "code",
   "execution_count": 596,
   "metadata": {},
   "outputs": [],
   "source": [
    "# Extract the model intercept value\n",
    "b0 = float(ridge.intercept_)"
   ]
  },
  {
   "cell_type": "code",
   "execution_count": 597,
   "metadata": {},
   "outputs": [],
   "source": [
    "# Extract the model coefficient value\n",
    "coeff = pd.DataFrame(ridge.coef_, X.columns, columns=['Coefficient'])"
   ]
  },
  {
   "cell_type": "code",
   "execution_count": 598,
   "metadata": {},
   "outputs": [
    {
     "name": "stdout",
     "output_type": "stream",
     "text": [
      "Intercept: 6.810319899755304\n"
     ]
    }
   ],
   "source": [
    "print(\"Intercept:\", float(b0))"
   ]
  },
  {
   "cell_type": "code",
   "execution_count": 599,
   "metadata": {},
   "outputs": [
    {
     "data": {
      "text/html": [
       "<div>\n",
       "<style scoped>\n",
       "    .dataframe tbody tr th:only-of-type {\n",
       "        vertical-align: middle;\n",
       "    }\n",
       "\n",
       "    .dataframe tbody tr th {\n",
       "        vertical-align: top;\n",
       "    }\n",
       "\n",
       "    .dataframe thead th {\n",
       "        text-align: right;\n",
       "    }\n",
       "</style>\n",
       "<table border=\"1\" class=\"dataframe\">\n",
       "  <thead>\n",
       "    <tr style=\"text-align: right;\">\n",
       "      <th></th>\n",
       "      <th>Coefficient</th>\n",
       "    </tr>\n",
       "  </thead>\n",
       "  <tbody>\n",
       "    <tr>\n",
       "      <th>Province</th>\n",
       "      <td>0.207050</td>\n",
       "    </tr>\n",
       "    <tr>\n",
       "      <th>Container</th>\n",
       "      <td>0.163630</td>\n",
       "    </tr>\n",
       "    <tr>\n",
       "      <th>Size_Grade</th>\n",
       "      <td>-0.769572</td>\n",
       "    </tr>\n",
       "    <tr>\n",
       "      <th>Weight_Kg</th>\n",
       "      <td>-1.863698</td>\n",
       "    </tr>\n",
       "    <tr>\n",
       "      <th>Low_Price</th>\n",
       "      <td>0.375263</td>\n",
       "    </tr>\n",
       "    <tr>\n",
       "      <th>High_Price</th>\n",
       "      <td>0.856007</td>\n",
       "    </tr>\n",
       "    <tr>\n",
       "      <th>Sales_Total</th>\n",
       "      <td>2.954270</td>\n",
       "    </tr>\n",
       "    <tr>\n",
       "      <th>Total_Qty_Sold</th>\n",
       "      <td>-0.715073</td>\n",
       "    </tr>\n",
       "    <tr>\n",
       "      <th>Total_Kg_Sold</th>\n",
       "      <td>-2.336809</td>\n",
       "    </tr>\n",
       "    <tr>\n",
       "      <th>Stock_On_Hand</th>\n",
       "      <td>0.040250</td>\n",
       "    </tr>\n",
       "    <tr>\n",
       "      <th>Day</th>\n",
       "      <td>-0.096802</td>\n",
       "    </tr>\n",
       "    <tr>\n",
       "      <th>Month</th>\n",
       "      <td>0.105963</td>\n",
       "    </tr>\n",
       "  </tbody>\n",
       "</table>\n",
       "</div>"
      ],
      "text/plain": [
       "                Coefficient\n",
       "Province           0.207050\n",
       "Container          0.163630\n",
       "Size_Grade        -0.769572\n",
       "Weight_Kg         -1.863698\n",
       "Low_Price          0.375263\n",
       "High_Price         0.856007\n",
       "Sales_Total        2.954270\n",
       "Total_Qty_Sold    -0.715073\n",
       "Total_Kg_Sold     -2.336809\n",
       "Stock_On_Hand      0.040250\n",
       "Day               -0.096802\n",
       "Month              0.105963"
      ]
     },
     "execution_count": 599,
     "metadata": {},
     "output_type": "execute_result"
    }
   ],
   "source": [
    "# Check out the coefficients\n",
    "coeff"
   ]
  },
  {
   "cell_type": "code",
   "execution_count": 600,
   "metadata": {},
   "outputs": [
    {
     "data": {
      "text/plain": [
       "LinearRegression()"
      ]
     },
     "execution_count": 600,
     "metadata": {},
     "output_type": "execute_result"
    }
   ],
   "source": [
    "# Fit a basic linear model\n",
    "from sklearn.linear_model import LinearRegression\n",
    "\n",
    "# Create model object\n",
    "model = LinearRegression()\n",
    "\n",
    "# Train model\n",
    "model.fit(X_train, y_train)"
   ]
  },
  {
   "cell_type": "code",
   "execution_count": 601,
   "metadata": {},
   "outputs": [],
   "source": [
    "# Import metrics module\n",
    "from sklearn import metrics"
   ]
  },
  {
   "cell_type": "code",
   "execution_count": 602,
   "metadata": {},
   "outputs": [],
   "source": [
    "# Check training accuracy\n",
    "train_model = model.predict(X_train)\n",
    "train_ridge = ridge.predict(X_train)"
   ]
  },
  {
   "cell_type": "code",
   "execution_count": 603,
   "metadata": {},
   "outputs": [
    {
     "data": {
      "text/plain": [
       "{'Train RMSE': 1.6288796888512445,\n",
       " 'Train R^2': 0.485282373413746,\n",
       " 'Test RMSE': 1.593027712885468,\n",
       " 'Test R^2': 0.4530868569571118}"
      ]
     },
     "execution_count": 603,
     "metadata": {},
     "output_type": "execute_result"
    }
   ],
   "source": [
    "fit_and_evaluate(model,X,y)"
   ]
  },
  {
   "cell_type": "markdown",
   "metadata": {},
   "source": []
  },
  {
   "cell_type": "markdown",
   "metadata": {},
   "source": [
    "### 4.4 Lasso Regression"
   ]
  },
  {
   "cell_type": "code",
   "execution_count": null,
   "metadata": {},
   "outputs": [],
   "source": [
    "# Separate the features from the response\n",
    "X = train[['Weight_Kg','Low_Price','High_Price','Sales_Total','Total_Qty_Sold','Total_Kg_Sold','Sales_Total','avg_price_per_kg']].drop('avg_price_per_kg', axis=1)\n",
    "y = train['avg_price_per_kg']"
   ]
  },
  {
   "cell_type": "code",
   "execution_count": null,
   "metadata": {},
   "outputs": [],
   "source": [
    "# Import the scaling module\n",
    "from sklearn.preprocessing import StandardScaler"
   ]
  },
  {
   "cell_type": "code",
   "execution_count": null,
   "metadata": {},
   "outputs": [],
   "source": [
    "# Create standardization object\n",
    "scaler = StandardScaler()"
   ]
  },
  {
   "cell_type": "code",
   "execution_count": null,
   "metadata": {},
   "outputs": [],
   "source": [
    "# Save standardized features into new variable\n",
    "X_scaled = scaler.fit_transform(X)"
   ]
  },
  {
   "cell_type": "code",
   "execution_count": null,
   "metadata": {},
   "outputs": [],
   "source": [
    "# Import train/test split module\n",
    "from sklearn.model_selection import train_test_split"
   ]
  },
  {
   "cell_type": "code",
   "execution_count": null,
   "metadata": {},
   "outputs": [],
   "source": [
    "# Split dataset into train and test sets\n",
    "X_train, X_test, y_train, y_test = train_test_split(X_scaled, \n",
    "                                                    y, \n",
    "                                                    test_size=0.20,\n",
    "                                                    random_state=1,\n",
    "                                                    shuffle=False)"
   ]
  },
  {
   "cell_type": "code",
   "execution_count": null,
   "metadata": {},
   "outputs": [],
   "source": [
    "# Import LASSO module\n",
    "from sklearn.linear_model import Lasso"
   ]
  },
  {
   "cell_type": "code",
   "execution_count": null,
   "metadata": {},
   "outputs": [],
   "source": [
    "# Create LASSO model object, setting alpha to 0.01\n",
    "lasso = Lasso(alpha=0.01)"
   ]
  },
  {
   "cell_type": "code",
   "execution_count": null,
   "metadata": {},
   "outputs": [],
   "source": [
    "# Train the LASSO model\n",
    "lasso.fit(X_train, y_train)"
   ]
  },
  {
   "cell_type": "code",
   "execution_count": null,
   "metadata": {},
   "outputs": [],
   "source": [
    "# Extract intercept from model\n",
    "intercept = float(lasso.intercept_)"
   ]
  },
  {
   "cell_type": "code",
   "execution_count": null,
   "metadata": {},
   "outputs": [],
   "source": [
    "# Extract coefficient from model\n",
    "coeff = pd.DataFrame(lasso.coef_, X.columns, columns=['Coefficient'])"
   ]
  },
  {
   "cell_type": "code",
   "execution_count": null,
   "metadata": {},
   "outputs": [],
   "source": [
    "# Extract intercept\n",
    "print(\"Intercept:\", float(intercept))"
   ]
  },
  {
   "cell_type": "code",
   "execution_count": null,
   "metadata": {},
   "outputs": [],
   "source": [
    "coeff"
   ]
  },
  {
   "cell_type": "code",
   "execution_count": null,
   "metadata": {},
   "outputs": [],
   "source": [
    "# convert the scaled predictor values into a dataframe\n",
    "X_standardise = pd.DataFrame(X_scaled,columns=X.columns)\n",
    "X_standardise.head()"
   ]
  },
  {
   "cell_type": "code",
   "execution_count": null,
   "metadata": {},
   "outputs": [],
   "source": [
    "plt.hist(X_standardise['High_Price'])\n",
    "plt.show()"
   ]
  },
  {
   "cell_type": "code",
   "execution_count": 181,
   "metadata": {},
   "outputs": [
    {
     "data": {
      "text/plain": [
       "Weight_Kg         1.000256\n",
       "Low_Price         1.000256\n",
       "High_Price        1.000256\n",
       "Sales_Total       1.000256\n",
       "Total_Qty_Sold    1.000256\n",
       "Total_Kg_Sold     1.000256\n",
       "Sales_Total       1.000256\n",
       "Name: std, dtype: float64"
      ]
     },
     "execution_count": 181,
     "metadata": {},
     "output_type": "execute_result"
    }
   ],
   "source": [
    "X_standardise.describe().loc['std']"
   ]
  },
  {
   "cell_type": "code",
   "execution_count": 182,
   "metadata": {},
   "outputs": [],
   "source": [
    "# Fit a basic linear model\n",
    "from sklearn.linear_model import LinearRegression, Ridge\n",
    "\n",
    "X_subset = train.drop(['Province', 'Container', 'Size_Grade', 'Date', 'Commodities'], axis=1)\n",
    "\n",
    "X_subset_scaled = scaler.fit_transform(X_subset)\n",
    "\n",
    "X_train2, X_test2, y_train2, y_test2 = train_test_split(X_subset, \n",
    "                                                        y, \n",
    "                                                        test_size=0.20, \n",
    "                                                        random_state=1,\n",
    "                                                        shuffle=False)\n",
    "\n",
    "# Least squares using non-zero variables from LASSO\n",
    "model_subset = LinearRegression()\n",
    "\n",
    "# Least squares using all predictors\n",
    "model_all = LinearRegression()\n",
    "\n",
    "# Ridge using all predictors\n",
    "ridge = Ridge()\n"
   ]
  },
  {
   "cell_type": "code",
   "execution_count": 183,
   "metadata": {},
   "outputs": [
    {
     "data": {
      "text/plain": [
       "{'Train RMSE': 6.464646907830799e-14,\n",
       " 'Train R^2': 1.0,\n",
       " 'Test RMSE': 6.454609359088699e-14,\n",
       " 'Test R^2': 1.0}"
      ]
     },
     "execution_count": 183,
     "metadata": {},
     "output_type": "execute_result"
    }
   ],
   "source": [
    "fit_and_evaluate(model_subset,X_train2, y_train2)"
   ]
  },
  {
   "cell_type": "code",
   "execution_count": 184,
   "metadata": {},
   "outputs": [
    {
     "data": {
      "text/plain": [
       "{'Train RMSE': 1.7729855990313965,\n",
       " 'Train R^2': 0.3701881712235534,\n",
       " 'Test RMSE': 1.7308629410476393,\n",
       " 'Test R^2': 0.38754515877113527}"
      ]
     },
     "execution_count": 184,
     "metadata": {},
     "output_type": "execute_result"
    }
   ],
   "source": [
    "fit_and_evaluate(model_all,X_train, y_train)"
   ]
  },
  {
   "cell_type": "code",
   "execution_count": 185,
   "metadata": {},
   "outputs": [
    {
     "data": {
      "text/plain": [
       "{'Train RMSE': 1.773115580987616,\n",
       " 'Train R^2': 0.37009582171498245,\n",
       " 'Test RMSE': 1.732187486595205,\n",
       " 'Test R^2': 0.38660743607902837}"
      ]
     },
     "execution_count": 185,
     "metadata": {},
     "output_type": "execute_result"
    }
   ],
   "source": [
    "fit_and_evaluate(ridge,X_train, y_train)"
   ]
  },
  {
   "cell_type": "markdown",
   "metadata": {},
   "source": [
    "### 4.5 Gradient Boosting Regression"
   ]
  },
  {
   "cell_type": "code",
   "execution_count": null,
   "metadata": {},
   "outputs": [],
   "source": [
    "# Gradient Boosting Regressor\n",
    "model = GradientBoostingRegressor(max_depth=4, n_estimators=200, random_state=2)"
   ]
  },
  {
   "cell_type": "code",
   "execution_count": null,
   "metadata": {},
   "outputs": [],
   "source": [
    "fit_and_evaluate(model,X,y)"
   ]
  },
  {
   "cell_type": "markdown",
   "metadata": {},
   "source": []
  },
  {
   "cell_type": "code",
   "execution_count": 1061,
   "metadata": {},
   "outputs": [
    {
     "data": {
      "text/plain": [
       "Index(['weight_kg', 'low_price', 'high_price', 'sales_total', 'total_qty_sold',\n",
       "       'total_kg_sold', 'stock_on_hand', 'avg_price_per_kg', 'day', 'month',\n",
       "       'weight_kg', 'low_price', 'high_price', 'sales_total', 'total_qty_sold',\n",
       "       'total_kg_sold', 'stock_on_hand', 'avg_price_per_kg', 'day', 'month',\n",
       "       'province_CAPE', 'province_EASTERN CAPE', 'province_NATAL',\n",
       "       'province_ORANGE FREE STATE', 'province_TRANSVAAL',\n",
       "       'province_W.CAPE-BERGRIVER ETC', 'province_WEST COAST',\n",
       "       'container_AC030', 'container_DT063', 'container_EC120',\n",
       "       'container_EF120', 'container_EG140', 'container_IA400',\n",
       "       'container_JE090', 'container_JG110', 'container_M4183',\n",
       "       'container_M6125', 'container_M9125', 'size_grade_1L', 'size_grade_1M',\n",
       "       'size_grade_1S', 'size_grade_1U', 'size_grade_1X', 'size_grade_2L',\n",
       "       'size_grade_2M', 'size_grade_2S', 'size_grade_2U', 'size_grade_2X'],\n",
       "      dtype='object')"
      ]
     },
     "execution_count": 1061,
     "metadata": {},
     "output_type": "execute_result"
    }
   ],
   "source": [
    "train.columns"
   ]
  },
  {
   "cell_type": "code",
   "execution_count": null,
   "metadata": {},
   "outputs": [],
   "source": []
  },
  {
   "cell_type": "code",
   "execution_count": null,
   "metadata": {},
   "outputs": [],
   "source": []
  },
  {
   "cell_type": "code",
   "execution_count": null,
   "metadata": {},
   "outputs": [],
   "source": []
  },
  {
   "cell_type": "markdown",
   "metadata": {},
   "source": [
    "## 4.6 XGBoost"
   ]
  },
  {
   "cell_type": "code",
   "execution_count": 1338,
   "metadata": {},
   "outputs": [
    {
     "data": {
      "text/plain": [
       "Index(['weight_kg', 'low_price', 'high_price', 'sales_total', 'total_qty_sold',\n",
       "       'total_kg_sold', 'stock_on_hand', 'day', 'month',\n",
       "       'province_EASTERN CAPE', 'province_NATAL', 'province_ORANGE FREE STATE',\n",
       "       'province_TRANSVAAL', 'province_W.CAPE-BERGRIVER ETC',\n",
       "       'province_WEST COAST', 'container_DT063', 'container_EC120',\n",
       "       'container_EF120', 'container_EG140', 'container_IA400',\n",
       "       'container_JE090', 'container_JG110', 'container_M4183',\n",
       "       'container_M6125', 'container_M9125', 'size_grade_1M', 'size_grade_1S',\n",
       "       'size_grade_1U', 'size_grade_1X', 'size_grade_2L', 'size_grade_2M',\n",
       "       'size_grade_2S', 'size_grade_2U', 'size_grade_2X', 'avg_price_per_kg'],\n",
       "      dtype='object')"
      ]
     },
     "execution_count": 1338,
     "metadata": {},
     "output_type": "execute_result"
    }
   ],
   "source": [
    "dummy_df.columns"
   ]
  },
  {
   "cell_type": "code",
   "execution_count": 1364,
   "metadata": {},
   "outputs": [
    {
     "data": {
      "text/plain": [
       "((1952, 34), (1952,), (391, 12))"
      ]
     },
     "execution_count": 1364,
     "metadata": {},
     "output_type": "execute_result"
    }
   ],
   "source": [
    "model = XGBRegressor()\n",
    "\n",
    "X_train = dummy_df.drop(columns='avg_price_per_kg')\n",
    "y_train = dummy_df['avg_price_per_kg']\n",
    "X_train.shape, y_train.shape, X_test.shape"
   ]
  },
  {
   "cell_type": "code",
   "execution_count": 1365,
   "metadata": {},
   "outputs": [
    {
     "data": {
      "text/html": [
       "<div>\n",
       "<style scoped>\n",
       "    .dataframe tbody tr th:only-of-type {\n",
       "        vertical-align: middle;\n",
       "    }\n",
       "\n",
       "    .dataframe tbody tr th {\n",
       "        vertical-align: top;\n",
       "    }\n",
       "\n",
       "    .dataframe thead th {\n",
       "        text-align: right;\n",
       "    }\n",
       "</style>\n",
       "<table border=\"1\" class=\"dataframe\">\n",
       "  <thead>\n",
       "    <tr style=\"text-align: right;\">\n",
       "      <th></th>\n",
       "      <th>province</th>\n",
       "      <th>container</th>\n",
       "      <th>size_grade</th>\n",
       "      <th>weight_kg</th>\n",
       "      <th>low_price</th>\n",
       "      <th>high_price</th>\n",
       "      <th>sales_total</th>\n",
       "      <th>total_qty_sold</th>\n",
       "      <th>total_kg_sold</th>\n",
       "      <th>stock_on_hand</th>\n",
       "      <th>day</th>\n",
       "      <th>month</th>\n",
       "    </tr>\n",
       "  </thead>\n",
       "  <tbody>\n",
       "    <tr>\n",
       "      <th>25825</th>\n",
       "      <td>2</td>\n",
       "      <td>7</td>\n",
       "      <td>7</td>\n",
       "      <td>11.0</td>\n",
       "      <td>10.0</td>\n",
       "      <td>10.0</td>\n",
       "      <td>30.0</td>\n",
       "      <td>3</td>\n",
       "      <td>33.0</td>\n",
       "      <td>0</td>\n",
       "      <td>13</td>\n",
       "      <td>5</td>\n",
       "    </tr>\n",
       "    <tr>\n",
       "      <th>29168</th>\n",
       "      <td>0</td>\n",
       "      <td>8</td>\n",
       "      <td>2</td>\n",
       "      <td>18.3</td>\n",
       "      <td>80.0</td>\n",
       "      <td>160.0</td>\n",
       "      <td>60350.0</td>\n",
       "      <td>531</td>\n",
       "      <td>9717.3</td>\n",
       "      <td>3677</td>\n",
       "      <td>7</td>\n",
       "      <td>9</td>\n",
       "    </tr>\n",
       "    <tr>\n",
       "      <th>54891</th>\n",
       "      <td>0</td>\n",
       "      <td>6</td>\n",
       "      <td>7</td>\n",
       "      <td>9.0</td>\n",
       "      <td>50.0</td>\n",
       "      <td>50.0</td>\n",
       "      <td>100.0</td>\n",
       "      <td>2</td>\n",
       "      <td>18.0</td>\n",
       "      <td>76</td>\n",
       "      <td>12</td>\n",
       "      <td>8</td>\n",
       "    </tr>\n",
       "    <tr>\n",
       "      <th>51253</th>\n",
       "      <td>0</td>\n",
       "      <td>6</td>\n",
       "      <td>6</td>\n",
       "      <td>9.0</td>\n",
       "      <td>50.0</td>\n",
       "      <td>50.0</td>\n",
       "      <td>450.0</td>\n",
       "      <td>9</td>\n",
       "      <td>81.0</td>\n",
       "      <td>9</td>\n",
       "      <td>9</td>\n",
       "      <td>9</td>\n",
       "    </tr>\n",
       "    <tr>\n",
       "      <th>58909</th>\n",
       "      <td>0</td>\n",
       "      <td>6</td>\n",
       "      <td>6</td>\n",
       "      <td>9.0</td>\n",
       "      <td>50.0</td>\n",
       "      <td>70.0</td>\n",
       "      <td>1520.0</td>\n",
       "      <td>27</td>\n",
       "      <td>243.0</td>\n",
       "      <td>405</td>\n",
       "      <td>3</td>\n",
       "      <td>9</td>\n",
       "    </tr>\n",
       "  </tbody>\n",
       "</table>\n",
       "</div>"
      ],
      "text/plain": [
       "       province  container  size_grade  weight_kg  low_price  high_price  \\\n",
       "25825         2          7           7       11.0       10.0        10.0   \n",
       "29168         0          8           2       18.3       80.0       160.0   \n",
       "54891         0          6           7        9.0       50.0        50.0   \n",
       "51253         0          6           6        9.0       50.0        50.0   \n",
       "58909         0          6           6        9.0       50.0        70.0   \n",
       "\n",
       "       sales_total  total_qty_sold  total_kg_sold  stock_on_hand  day  month  \n",
       "25825         30.0               3           33.0              0   13      5  \n",
       "29168      60350.0             531         9717.3           3677    7      9  \n",
       "54891        100.0               2           18.0             76   12      8  \n",
       "51253        450.0               9           81.0              9    9      9  \n",
       "58909       1520.0              27          243.0            405    3      9  "
      ]
     },
     "execution_count": 1365,
     "metadata": {},
     "output_type": "execute_result"
    }
   ],
   "source": [
    "X_test.head()"
   ]
  },
  {
   "cell_type": "code",
   "execution_count": 1366,
   "metadata": {},
   "outputs": [
    {
     "data": {
      "text/plain": [
       "Index(['weight_kg', 'low_price', 'high_price', 'sales_total', 'total_qty_sold',\n",
       "       'total_kg_sold', 'stock_on_hand', 'day', 'month',\n",
       "       'province_EASTERN CAPE', 'province_NATAL', 'province_ORANGE FREE STATE',\n",
       "       'province_TRANSVAAL', 'province_W.CAPE-BERGRIVER ETC',\n",
       "       'province_WEST COAST', 'container_DT063', 'container_EC120',\n",
       "       'container_EF120', 'container_EG140', 'container_IA400',\n",
       "       'container_JE090', 'container_JG110', 'container_M4183',\n",
       "       'container_M6125', 'container_M9125', 'size_grade_1M', 'size_grade_1S',\n",
       "       'size_grade_1U', 'size_grade_1X', 'size_grade_2L', 'size_grade_2M',\n",
       "       'size_grade_2S', 'size_grade_2U', 'size_grade_2X'],\n",
       "      dtype='object')"
      ]
     },
     "execution_count": 1366,
     "metadata": {},
     "output_type": "execute_result"
    }
   ],
   "source": [
    "X_train.columns"
   ]
  },
  {
   "cell_type": "code",
   "execution_count": 1376,
   "metadata": {},
   "outputs": [
    {
     "data": {
      "text/plain": [
       "XGBRegressor(base_score=0.5, booster='gbtree', colsample_bylevel=1,\n",
       "             colsample_bynode=1, colsample_bytree=1, gamma=0, gpu_id=-1,\n",
       "             importance_type='gain', interaction_constraints='',\n",
       "             learning_rate=0.3, max_delta_step=0, max_depth=2,\n",
       "             min_child_weight=13, missing=nan, monotone_constraints='()',\n",
       "             n_estimators=6000, n_jobs=4, num_parallel_tree=1, random_state=16,\n",
       "             reg_alpha=0, reg_lambda=1, scale_pos_weight=1, subsample=1,\n",
       "             tree_method='exact', validate_parameters=1, verbosity=None)"
      ]
     },
     "execution_count": 1376,
     "metadata": {},
     "output_type": "execute_result"
    }
   ],
   "source": [
    "model.fit(X_train,y_train)"
   ]
  },
  {
   "cell_type": "code",
   "execution_count": 1377,
   "metadata": {},
   "outputs": [
    {
     "data": {
      "text/plain": [
       "{'Train RMSE': 0.03910182792845369,\n",
       " 'Train R^2': 0.9997033904393697,\n",
       " 'Test RMSE': 0.3204976849342551,\n",
       " 'Test R^2': 0.9778628610135205}"
      ]
     },
     "execution_count": 1377,
     "metadata": {},
     "output_type": "execute_result"
    }
   ],
   "source": [
    "fit_and_evaluate(model,X_train, y_train)"
   ]
  },
  {
   "cell_type": "code",
   "execution_count": 1345,
   "metadata": {},
   "outputs": [
    {
     "data": {
      "text/plain": [
       "Index(['weight_kg', 'low_price', 'high_price', 'total_qty_sold',\n",
       "       'total_kg_sold', 'province_EASTERN CAPE', 'province_NATAL',\n",
       "       'province_W.CAPE-BERGRIVER ETC', 'container_EC120', 'container_EF120',\n",
       "       'container_IA400', 'container_JE090', 'container_JG110',\n",
       "       'size_grade_1M', 'size_grade_1X', 'size_grade_2M', 'size_grade_2S'],\n",
       "      dtype='object')"
      ]
     },
     "execution_count": 1345,
     "metadata": {},
     "output_type": "execute_result"
    }
   ],
   "source": [
    "X_train.columns"
   ]
  },
  {
   "cell_type": "code",
   "execution_count": 1369,
   "metadata": {},
   "outputs": [
    {
     "data": {
      "text/plain": [
       "XGBRegressor(base_score=0.5, booster='gbtree', colsample_bylevel=1,\n",
       "             colsample_bynode=1, colsample_bytree=1, gamma=0, gpu_id=-1,\n",
       "             importance_type='gain', interaction_constraints='',\n",
       "             learning_rate=0.3, max_delta_step=0, max_depth=2,\n",
       "             min_child_weight=13, missing=nan, monotone_constraints='()',\n",
       "             n_estimators=6000, n_jobs=4, num_parallel_tree=1, random_state=16,\n",
       "             reg_alpha=0, reg_lambda=1, scale_pos_weight=1, subsample=1,\n",
       "             tree_method='exact', validate_parameters=1, verbosity=None)"
      ]
     },
     "execution_count": 1369,
     "metadata": {},
     "output_type": "execute_result"
    }
   ],
   "source": [
    "model = XGBRegressor(max_depth=2,min_child_weight=13,subsample=1,colsample_bytree=1,\n",
    "            objective='reg:squarederror',n_estimators=6000, learning_rate=0.3, random_state= 16)\n",
    "model.fit(X_train, y_train)"
   ]
  },
  {
   "cell_type": "code",
   "execution_count": 1370,
   "metadata": {},
   "outputs": [
    {
     "data": {
      "text/plain": [
       "{'Train RMSE': 0.03910182792845369,\n",
       " 'Train R^2': 0.9997033904393697,\n",
       " 'Test RMSE': 0.3204976849342551,\n",
       " 'Test R^2': 0.9778628610135205}"
      ]
     },
     "execution_count": 1370,
     "metadata": {},
     "output_type": "execute_result"
    }
   ],
   "source": [
    "fit_and_evaluate(model,X_train, y_train)"
   ]
  },
  {
   "cell_type": "markdown",
   "metadata": {},
   "source": [
    "## 5. Model results"
   ]
  },
  {
   "cell_type": "code",
   "execution_count": 1261,
   "metadata": {},
   "outputs": [
    {
     "data": {
      "text/plain": [
       "((685, 12), (1952, 13))"
      ]
     },
     "execution_count": 1261,
     "metadata": {},
     "output_type": "execute_result"
    }
   ],
   "source": [
    "test.shape, train.shape"
   ]
  },
  {
   "cell_type": "code",
   "execution_count": 1262,
   "metadata": {
    "jupyter": {
     "source_hidden": true
    }
   },
   "outputs": [],
   "source": [
    "# need to change date datatype\n",
    "test['Date'] = pd.to_datetime(test['Date'])\n",
    "test['Day'] = test['Date'].dt.day\n",
    "test['Month'] = test['Date'].dt.month\n",
    "test.drop(['Date'], inplace = True, axis = 1)"
   ]
  },
  {
   "cell_type": "code",
   "execution_count": 1263,
   "metadata": {},
   "outputs": [],
   "source": [
    "test=test[test['Commodities']=='APPLE GOLDEN DELICIOUS'].drop(columns='Commodities')"
   ]
  },
  {
   "cell_type": "code",
   "execution_count": 1264,
   "metadata": {},
   "outputs": [
    {
     "data": {
      "text/plain": [
       "Index(['Province', 'Container', 'Size_Grade', 'Weight_Kg', 'Low_Price',\n",
       "       'High_Price', 'Sales_Total', 'Total_Qty_Sold', 'Total_Kg_Sold',\n",
       "       'Stock_On_Hand', 'Day', 'Month'],\n",
       "      dtype='object')"
      ]
     },
     "execution_count": 1264,
     "metadata": {},
     "output_type": "execute_result"
    }
   ],
   "source": [
    "test.columns"
   ]
  },
  {
   "cell_type": "code",
   "execution_count": 1265,
   "metadata": {},
   "outputs": [],
   "source": [
    "test.columns = ['province', 'container', 'size_grade', 'weight_kg', 'low_price', \n",
    "                 'high_price', 'sales_total', 'total_qty_sold','total_kg_sold', \n",
    "                 'stock_on_hand', 'day', 'month']"
   ]
  },
  {
   "cell_type": "code",
   "execution_count": 1266,
   "metadata": {},
   "outputs": [],
   "source": [
    "# Encoding categorical features with dummy variables to observe how they correlate with target \n",
    "dummy_test = pd.get_dummies(test, drop_first=True)"
   ]
  },
  {
   "cell_type": "code",
   "execution_count": 1274,
   "metadata": {},
   "outputs": [
    {
     "data": {
      "text/plain": [
       "Index(['weight_kg', 'low_price', 'high_price', 'sales_total', 'total_qty_sold',\n",
       "       'total_kg_sold', 'stock_on_hand', 'day', 'month',\n",
       "       'province_EASTERN CAPE', 'province_NATAL', 'province_ORANGE FREE STATE',\n",
       "       'province_TRANSVAAL', 'province_W.CAPE-BERGRIVER ETC',\n",
       "       'province_WEST COAST', 'container_DT063', 'container_EC120',\n",
       "       'container_EF120', 'container_EG140', 'container_IA400',\n",
       "       'container_JE090', 'container_JG110', 'container_M4183',\n",
       "       'container_M6125', 'container_M9125', 'size_grade_1M', 'size_grade_1S',\n",
       "       'size_grade_1U', 'size_grade_1X', 'size_grade_2L', 'size_grade_2M',\n",
       "       'size_grade_2S', 'size_grade_2U', 'size_grade_2X'],\n",
       "      dtype='object')"
      ]
     },
     "execution_count": 1274,
     "metadata": {},
     "output_type": "execute_result"
    }
   ],
   "source": [
    "dummy_test.columns"
   ]
  },
  {
   "cell_type": "code",
   "execution_count": 1285,
   "metadata": {},
   "outputs": [
    {
     "data": {
      "text/plain": [
       "Index(['weight_kg', 'low_price', 'high_price', 'sales_total', 'total_qty_sold',\n",
       "       'total_kg_sold', 'stock_on_hand', 'day', 'month',\n",
       "       'province_EASTERN CAPE', 'province_NATAL', 'province_ORANGE FREE STATE',\n",
       "       'province_TRANSVAAL', 'province_W.CAPE-BERGRIVER ETC',\n",
       "       'province_WEST COAST', 'container_DT063', 'container_EC120',\n",
       "       'container_EF120', 'container_EG140', 'container_IA400',\n",
       "       'container_JE090', 'container_JG110', 'container_M4183',\n",
       "       'container_M6125', 'container_M9125', 'size_grade_1M', 'size_grade_1S',\n",
       "       'size_grade_1U', 'size_grade_1X', 'size_grade_2L', 'size_grade_2M',\n",
       "       'size_grade_2S', 'size_grade_2U', 'size_grade_2X'],\n",
       "      dtype='object')"
      ]
     },
     "execution_count": 1285,
     "metadata": {},
     "output_type": "execute_result"
    }
   ],
   "source": [
    "dummy_test.columns"
   ]
  },
  {
   "cell_type": "code",
   "execution_count": 1294,
   "metadata": {},
   "outputs": [],
   "source": [
    "test =dummy_test"
   ]
  },
  {
   "cell_type": "code",
   "execution_count": 1295,
   "metadata": {},
   "outputs": [
    {
     "data": {
      "text/html": [
       "<div>\n",
       "<style scoped>\n",
       "    .dataframe tbody tr th:only-of-type {\n",
       "        vertical-align: middle;\n",
       "    }\n",
       "\n",
       "    .dataframe tbody tr th {\n",
       "        vertical-align: top;\n",
       "    }\n",
       "\n",
       "    .dataframe thead th {\n",
       "        text-align: right;\n",
       "    }\n",
       "</style>\n",
       "<table border=\"1\" class=\"dataframe\">\n",
       "  <thead>\n",
       "    <tr style=\"text-align: right;\">\n",
       "      <th></th>\n",
       "      <th>weight_kg</th>\n",
       "      <th>low_price</th>\n",
       "      <th>high_price</th>\n",
       "      <th>sales_total</th>\n",
       "      <th>total_qty_sold</th>\n",
       "      <th>total_kg_sold</th>\n",
       "      <th>stock_on_hand</th>\n",
       "      <th>day</th>\n",
       "      <th>month</th>\n",
       "      <th>province_EASTERN CAPE</th>\n",
       "      <th>...</th>\n",
       "      <th>container_M9125</th>\n",
       "      <th>size_grade_1M</th>\n",
       "      <th>size_grade_1S</th>\n",
       "      <th>size_grade_1U</th>\n",
       "      <th>size_grade_1X</th>\n",
       "      <th>size_grade_2L</th>\n",
       "      <th>size_grade_2M</th>\n",
       "      <th>size_grade_2S</th>\n",
       "      <th>size_grade_2U</th>\n",
       "      <th>size_grade_2X</th>\n",
       "    </tr>\n",
       "  </thead>\n",
       "  <tbody>\n",
       "    <tr>\n",
       "      <th>0</th>\n",
       "      <td>12.0</td>\n",
       "      <td>128.0</td>\n",
       "      <td>136.0</td>\n",
       "      <td>5008.0</td>\n",
       "      <td>38</td>\n",
       "      <td>456.0</td>\n",
       "      <td>0</td>\n",
       "      <td>9</td>\n",
       "      <td>7</td>\n",
       "      <td>0</td>\n",
       "      <td>...</td>\n",
       "      <td>0</td>\n",
       "      <td>1</td>\n",
       "      <td>0</td>\n",
       "      <td>0</td>\n",
       "      <td>0</td>\n",
       "      <td>0</td>\n",
       "      <td>0</td>\n",
       "      <td>0</td>\n",
       "      <td>0</td>\n",
       "      <td>0</td>\n",
       "    </tr>\n",
       "    <tr>\n",
       "      <th>1</th>\n",
       "      <td>18.3</td>\n",
       "      <td>220.0</td>\n",
       "      <td>220.0</td>\n",
       "      <td>1760.0</td>\n",
       "      <td>8</td>\n",
       "      <td>146.4</td>\n",
       "      <td>2</td>\n",
       "      <td>20</td>\n",
       "      <td>1</td>\n",
       "      <td>0</td>\n",
       "      <td>...</td>\n",
       "      <td>0</td>\n",
       "      <td>0</td>\n",
       "      <td>0</td>\n",
       "      <td>0</td>\n",
       "      <td>1</td>\n",
       "      <td>0</td>\n",
       "      <td>0</td>\n",
       "      <td>0</td>\n",
       "      <td>0</td>\n",
       "      <td>0</td>\n",
       "    </tr>\n",
       "    <tr>\n",
       "      <th>2</th>\n",
       "      <td>12.0</td>\n",
       "      <td>120.0</td>\n",
       "      <td>120.0</td>\n",
       "      <td>720.0</td>\n",
       "      <td>6</td>\n",
       "      <td>72.0</td>\n",
       "      <td>45</td>\n",
       "      <td>19</td>\n",
       "      <td>8</td>\n",
       "      <td>0</td>\n",
       "      <td>...</td>\n",
       "      <td>0</td>\n",
       "      <td>0</td>\n",
       "      <td>1</td>\n",
       "      <td>0</td>\n",
       "      <td>0</td>\n",
       "      <td>0</td>\n",
       "      <td>0</td>\n",
       "      <td>0</td>\n",
       "      <td>0</td>\n",
       "      <td>0</td>\n",
       "    </tr>\n",
       "    <tr>\n",
       "      <th>3</th>\n",
       "      <td>18.3</td>\n",
       "      <td>160.0</td>\n",
       "      <td>160.0</td>\n",
       "      <td>160.0</td>\n",
       "      <td>1</td>\n",
       "      <td>18.3</td>\n",
       "      <td>8</td>\n",
       "      <td>6</td>\n",
       "      <td>5</td>\n",
       "      <td>0</td>\n",
       "      <td>...</td>\n",
       "      <td>0</td>\n",
       "      <td>1</td>\n",
       "      <td>0</td>\n",
       "      <td>0</td>\n",
       "      <td>0</td>\n",
       "      <td>0</td>\n",
       "      <td>0</td>\n",
       "      <td>0</td>\n",
       "      <td>0</td>\n",
       "      <td>0</td>\n",
       "    </tr>\n",
       "    <tr>\n",
       "      <th>4</th>\n",
       "      <td>18.3</td>\n",
       "      <td>140.0</td>\n",
       "      <td>160.0</td>\n",
       "      <td>14140.0</td>\n",
       "      <td>100</td>\n",
       "      <td>1830.0</td>\n",
       "      <td>19</td>\n",
       "      <td>4</td>\n",
       "      <td>5</td>\n",
       "      <td>0</td>\n",
       "      <td>...</td>\n",
       "      <td>0</td>\n",
       "      <td>0</td>\n",
       "      <td>0</td>\n",
       "      <td>0</td>\n",
       "      <td>0</td>\n",
       "      <td>0</td>\n",
       "      <td>0</td>\n",
       "      <td>0</td>\n",
       "      <td>0</td>\n",
       "      <td>0</td>\n",
       "    </tr>\n",
       "  </tbody>\n",
       "</table>\n",
       "<p>5 rows × 34 columns</p>\n",
       "</div>"
      ],
      "text/plain": [
       "   weight_kg  low_price  high_price  sales_total  total_qty_sold  \\\n",
       "0       12.0      128.0       136.0       5008.0              38   \n",
       "1       18.3      220.0       220.0       1760.0               8   \n",
       "2       12.0      120.0       120.0        720.0               6   \n",
       "3       18.3      160.0       160.0        160.0               1   \n",
       "4       18.3      140.0       160.0      14140.0             100   \n",
       "\n",
       "   total_kg_sold  stock_on_hand  day  month  province_EASTERN CAPE  ...  \\\n",
       "0          456.0              0    9      7                      0  ...   \n",
       "1          146.4              2   20      1                      0  ...   \n",
       "2           72.0             45   19      8                      0  ...   \n",
       "3           18.3              8    6      5                      0  ...   \n",
       "4         1830.0             19    4      5                      0  ...   \n",
       "\n",
       "   container_M9125  size_grade_1M  size_grade_1S  size_grade_1U  \\\n",
       "0                0              1              0              0   \n",
       "1                0              0              0              0   \n",
       "2                0              0              1              0   \n",
       "3                0              1              0              0   \n",
       "4                0              0              0              0   \n",
       "\n",
       "   size_grade_1X  size_grade_2L  size_grade_2M  size_grade_2S  size_grade_2U  \\\n",
       "0              0              0              0              0              0   \n",
       "1              1              0              0              0              0   \n",
       "2              0              0              0              0              0   \n",
       "3              0              0              0              0              0   \n",
       "4              0              0              0              0              0   \n",
       "\n",
       "   size_grade_2X  \n",
       "0              0  \n",
       "1              0  \n",
       "2              0  \n",
       "3              0  \n",
       "4              0  \n",
       "\n",
       "[5 rows x 34 columns]"
      ]
     },
     "execution_count": 1295,
     "metadata": {},
     "output_type": "execute_result"
    }
   ],
   "source": [
    "dummy_test.head()"
   ]
  },
  {
   "cell_type": "code",
   "execution_count": 1378,
   "metadata": {},
   "outputs": [],
   "source": [
    "# save the model\n",
    "import pickle\n",
    "\n",
    "model_load_path= \"model.pkl\"\n",
    "with open(model_load_path, 'wb') as file:\n",
    "    pickle.dump(model, file)\n",
    "\n",
    "with open(model_load_path,'rb') as file:\n",
    "    mod = pickle.load(file)"
   ]
  },
  {
   "cell_type": "code",
   "execution_count": 1379,
   "metadata": {},
   "outputs": [],
   "source": [
    "preds = mod.predict(test)"
   ]
  },
  {
   "cell_type": "code",
   "execution_count": null,
   "metadata": {},
   "outputs": [],
   "source": []
  },
  {
   "cell_type": "code",
   "execution_count": 1380,
   "metadata": {},
   "outputs": [],
   "source": [
    "submission = pd.DataFrame(\n",
    "    {'Index': index,\n",
    "     'avg_price_per_kg': preds\n",
    "    })"
   ]
  },
  {
   "cell_type": "code",
   "execution_count": null,
   "metadata": {},
   "outputs": [],
   "source": []
  },
  {
   "cell_type": "code",
   "execution_count": 1381,
   "metadata": {},
   "outputs": [
    {
     "data": {
      "text/html": [
       "<div>\n",
       "<style scoped>\n",
       "    .dataframe tbody tr th:only-of-type {\n",
       "        vertical-align: middle;\n",
       "    }\n",
       "\n",
       "    .dataframe tbody tr th {\n",
       "        vertical-align: top;\n",
       "    }\n",
       "\n",
       "    .dataframe thead th {\n",
       "        text-align: right;\n",
       "    }\n",
       "</style>\n",
       "<table border=\"1\" class=\"dataframe\">\n",
       "  <thead>\n",
       "    <tr style=\"text-align: right;\">\n",
       "      <th></th>\n",
       "      <th>Index</th>\n",
       "      <th>avg_price_per_kg</th>\n",
       "    </tr>\n",
       "  </thead>\n",
       "  <tbody>\n",
       "    <tr>\n",
       "      <th>0</th>\n",
       "      <td>1</td>\n",
       "      <td>11.124663</td>\n",
       "    </tr>\n",
       "    <tr>\n",
       "      <th>1</th>\n",
       "      <td>2</td>\n",
       "      <td>12.133077</td>\n",
       "    </tr>\n",
       "    <tr>\n",
       "      <th>2</th>\n",
       "      <td>3</td>\n",
       "      <td>9.814767</td>\n",
       "    </tr>\n",
       "    <tr>\n",
       "      <th>3</th>\n",
       "      <td>4</td>\n",
       "      <td>9.038456</td>\n",
       "    </tr>\n",
       "    <tr>\n",
       "      <th>4</th>\n",
       "      <td>5</td>\n",
       "      <td>7.843409</td>\n",
       "    </tr>\n",
       "    <tr>\n",
       "      <th>5</th>\n",
       "      <td>6</td>\n",
       "      <td>4.659199</td>\n",
       "    </tr>\n",
       "    <tr>\n",
       "      <th>6</th>\n",
       "      <td>7</td>\n",
       "      <td>3.649379</td>\n",
       "    </tr>\n",
       "    <tr>\n",
       "      <th>7</th>\n",
       "      <td>8</td>\n",
       "      <td>7.675863</td>\n",
       "    </tr>\n",
       "    <tr>\n",
       "      <th>8</th>\n",
       "      <td>9</td>\n",
       "      <td>8.593639</td>\n",
       "    </tr>\n",
       "    <tr>\n",
       "      <th>9</th>\n",
       "      <td>10</td>\n",
       "      <td>9.350963</td>\n",
       "    </tr>\n",
       "  </tbody>\n",
       "</table>\n",
       "</div>"
      ],
      "text/plain": [
       "   Index  avg_price_per_kg\n",
       "0      1         11.124663\n",
       "1      2         12.133077\n",
       "2      3          9.814767\n",
       "3      4          9.038456\n",
       "4      5          7.843409\n",
       "5      6          4.659199\n",
       "6      7          3.649379\n",
       "7      8          7.675863\n",
       "8      9          8.593639\n",
       "9     10          9.350963"
      ]
     },
     "execution_count": 1381,
     "metadata": {},
     "output_type": "execute_result"
    }
   ],
   "source": [
    "submission.head(10)"
   ]
  },
  {
   "cell_type": "code",
   "execution_count": 1382,
   "metadata": {},
   "outputs": [],
   "source": [
    "submission.to_csv(\"submission.csv\", index=False)"
   ]
  },
  {
   "cell_type": "markdown",
   "metadata": {},
   "source": [
    "## 6. Conclusion"
   ]
  },
  {
   "cell_type": "code",
   "execution_count": null,
   "metadata": {},
   "outputs": [],
   "source": []
  },
  {
   "cell_type": "code",
   "execution_count": null,
   "metadata": {},
   "outputs": [],
   "source": []
  },
  {
   "cell_type": "code",
   "execution_count": null,
   "metadata": {},
   "outputs": [],
   "source": []
  }
 ],
 "metadata": {
  "kernelspec": {
   "display_name": "Python 3",
   "language": "python",
   "name": "python3"
  },
  "language_info": {
   "codemirror_mode": {
    "name": "ipython",
    "version": 3
   },
   "file_extension": ".py",
   "mimetype": "text/x-python",
   "name": "python",
   "nbconvert_exporter": "python",
   "pygments_lexer": "ipython3",
   "version": "3.8.5"
  }
 },
 "nbformat": 4,
 "nbformat_minor": 4
}
